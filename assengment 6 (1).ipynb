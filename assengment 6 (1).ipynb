{
 "cells": [
  {
   "cell_type": "markdown",
   "id": "1640b98d",
   "metadata": {},
   "source": [
    "Activity\n",
    "● Design a database to store and manipulate employee data.\n",
    "● Create EMPLOYEE database and then create tables in it.\n",
    "● Perform insert, update and delete operations on tables created in EMPLOYEE\n",
    "database."
   ]
  },
  {
   "cell_type": "code",
   "execution_count": 1,
   "id": "a04953f1",
   "metadata": {},
   "outputs": [
    {
     "name": "stdout",
     "output_type": "stream",
     "text": [
      "Opened database successfully\n"
     ]
    }
   ],
   "source": [
    "import sqlite3\n",
    "conn=sqlite3.connect('cstd.db')\n",
    "print(\"Opened database successfully\")"
   ]
  },
  {
   "cell_type": "code",
   "execution_count": 2,
   "id": "3149872f",
   "metadata": {},
   "outputs": [
    {
     "name": "stdout",
     "output_type": "stream",
     "text": [
      "Table 1 created successfully\n",
      "Table 2 created successfully\n"
     ]
    }
   ],
   "source": [
    "conn.execute('''CREATE TABLE Employee_Department ( Employee_Number INT PRIMARY KEY NOT NULL, Name TEXT NOT NULL,Department INT NOT NULL);''')\n",
    "\n",
    "print(\"Table 1 created successfully\")\n",
    "\n",
    "conn.execute(\"create table Employee_Info(Employee_no int primarykey not null,Name text not null,Address text not null,Mobile int not null,Date_of_Birth not null)\")\n",
    "\n",
    "print(\"Table 2 created successfully\")"
   ]
  },
  {
   "cell_type": "code",
   "execution_count": 3,
   "id": "ef13494e",
   "metadata": {},
   "outputs": [
    {
     "data": {
      "text/plain": [
       "<sqlite3.Cursor at 0x10a2f4a40>"
      ]
     },
     "execution_count": 3,
     "metadata": {},
     "output_type": "execute_result"
    }
   ],
   "source": [
    "conn.execute(\"alter table Employee_info add Gender text not null\")"
   ]
  },
  {
   "cell_type": "code",
   "execution_count": 4,
   "id": "656fa1cd",
   "metadata": {},
   "outputs": [
    {
     "data": {
      "text/plain": [
       "<sqlite3.Cursor at 0x10a2f4c00>"
      ]
     },
     "execution_count": 4,
     "metadata": {},
     "output_type": "execute_result"
    }
   ],
   "source": [
    "conn.execute(\"drop table Employee_Info\")"
   ]
  },
  {
   "cell_type": "code",
   "execution_count": 7,
   "id": "112183e7",
   "metadata": {},
   "outputs": [],
   "source": [
    "conn.execute(\"INSERT INTO Employee_Department(Employee_Number,Name,Department)VALUES(1,'John','Operations')\");"
   ]
  },
  {
   "cell_type": "code",
   "execution_count": 10,
   "id": "f0b1ea79",
   "metadata": {},
   "outputs": [],
   "source": [
    "conn.execute(\"INSERT INTO Employee_Department(Employee_Number,Name,Department)VALUES(21,'Chantal','QA')\");"
   ]
  },
  {
   "cell_type": "code",
   "execution_count": 11,
   "id": "73e4ab23",
   "metadata": {},
   "outputs": [],
   "source": [
    "conn.execute(\"INSERT INTO Employee_Department(Employee_Number,Name,Department)VALUES(23,'Jan','IT')\");"
   ]
  },
  {
   "cell_type": "code",
   "execution_count": 12,
   "id": "d85afa93",
   "metadata": {},
   "outputs": [
    {
     "name": "stdout",
     "output_type": "stream",
     "text": [
      "Employee_Number= 1\n",
      "NAME= John\n",
      "Department= Operations\n",
      "Employee_Number= 21\n",
      "NAME= Chantal\n",
      "Department= QA\n",
      "Employee_Number= 23\n",
      "NAME= Jan\n",
      "Department= IT\n"
     ]
    }
   ],
   "source": [
    "CURSOR=conn.execute(\"Select Employee_Number,Name,Department FROM Employee_Department\")\n",
    "for row in CURSOR:\n",
    "    print(\"Employee_Number=\",row[0])\n",
    "    print(\"NAME=\",row[1])\n",
    "    print(\"Department=\",row[2])"
   ]
  },
  {
   "cell_type": "code",
   "execution_count": 13,
   "id": "e7607c51",
   "metadata": {},
   "outputs": [
    {
     "name": "stdout",
     "output_type": "stream",
     "text": [
      "fetchall:\n",
      "(1, 'John', 'Operations')\n",
      "(21, 'Chantal', 'QA')\n",
      "(23, 'Jan', 'IT')\n"
     ]
    }
   ],
   "source": [
    "cursor = conn.cursor()\n",
    "\n",
    "cursor.execute(\"SELECT * FROM Employee_Department\")\n",
    "\n",
    "print(\"fetchall:\")\n",
    "\n",
    "result = cursor.fetchall()\n",
    "\n",
    "for r in result:\n",
    "    \n",
    "    print(r)"
   ]
  },
  {
   "cell_type": "code",
   "execution_count": 14,
   "id": "3e7be027",
   "metadata": {},
   "outputs": [
    {
     "name": "stdout",
     "output_type": "stream",
     "text": [
      "fetchall:\n",
      "(1, 'John', 'Operations')\n",
      "(21, 'Petrus', 'QA')\n",
      "(23, 'Jan', 'IT')\n"
     ]
    }
   ],
   "source": [
    "cursor.execute(\"update Employee_Department set Name= 'Petrus' where Employee_Number=21\")\n",
    "\n",
    "cursor = conn.cursor()\n",
    "\n",
    "cursor.execute(\"SELECT * FROM Employee_Department\")\n",
    "\n",
    "print(\"fetchall:\")\n",
    "\n",
    "result = cursor.fetchall()\n",
    "\n",
    "for r in result:\n",
    "    \n",
    "    print(r)"
   ]
  },
  {
   "cell_type": "code",
   "execution_count": null,
   "id": "8b4f1fe9",
   "metadata": {},
   "outputs": [],
   "source": []
  }
 ],
 "metadata": {
  "kernelspec": {
   "display_name": "Python 3 (ipykernel)",
   "language": "python",
   "name": "python3"
  },
  "language_info": {
   "codemirror_mode": {
    "name": "ipython",
    "version": 3
   },
   "file_extension": ".py",
   "mimetype": "text/x-python",
   "name": "python",
   "nbconvert_exporter": "python",
   "pygments_lexer": "ipython3",
   "version": "3.8.8"
  }
 },
 "nbformat": 4,
 "nbformat_minor": 5
}
