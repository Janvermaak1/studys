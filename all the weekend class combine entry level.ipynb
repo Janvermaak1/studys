{
 "cells": [
  {
   "cell_type": "code",
   "execution_count": 1,
   "id": "8ce61199",
   "metadata": {},
   "outputs": [
    {
     "name": "stdout",
     "output_type": "stream",
     "text": [
      "3\n",
      "3.3333333333333335\n",
      "2\n"
     ]
    }
   ],
   "source": [
    "x=10\n",
    "y=3\n",
    "p=x//y\n",
    "q=x/y\n",
    "r=x&y\n",
    "print(p)\n",
    "print(q)\n",
    "print(r)"
   ]
  },
  {
   "cell_type": "code",
   "execution_count": 2,
   "id": "f8d4444e",
   "metadata": {},
   "outputs": [
    {
     "name": "stdout",
     "output_type": "stream",
     "text": [
      "10\n"
     ]
    }
   ],
   "source": [
    "a=10\n",
    "print(a)"
   ]
  },
  {
   "cell_type": "code",
   "execution_count": 3,
   "id": "db18ba12",
   "metadata": {},
   "outputs": [
    {
     "name": "stdout",
     "output_type": "stream",
     "text": [
      "15\n"
     ]
    }
   ],
   "source": [
    "a+=5\n",
    "print(a)"
   ]
  },
  {
   "cell_type": "code",
   "execution_count": 4,
   "id": "ffbcd9d2",
   "metadata": {},
   "outputs": [
    {
     "name": "stdout",
     "output_type": "stream",
     "text": [
      "10\n"
     ]
    }
   ],
   "source": [
    "a-=5\n",
    "print(a)"
   ]
  },
  {
   "cell_type": "code",
   "execution_count": 5,
   "id": "79b5a8fd",
   "metadata": {},
   "outputs": [
    {
     "ename": "SyntaxError",
     "evalue": "'literal' is an illegal expression for augmented assignment (3547528705.py, line 1)",
     "output_type": "error",
     "traceback": [
      "\u001b[1;36m  Cell \u001b[1;32mIn[5], line 1\u001b[1;36m\u001b[0m\n\u001b[1;33m    5+=a\u001b[0m\n\u001b[1;37m    ^\u001b[0m\n\u001b[1;31mSyntaxError\u001b[0m\u001b[1;31m:\u001b[0m 'literal' is an illegal expression for augmented assignment\n"
     ]
    }
   ],
   "source": [
    "5+=a\n",
    "print(a)"
   ]
  },
  {
   "cell_type": "code",
   "execution_count": 6,
   "id": "622b9df4",
   "metadata": {},
   "outputs": [
    {
     "name": "stdout",
     "output_type": "stream",
     "text": [
      "17\n",
      "7\n"
     ]
    }
   ],
   "source": [
    "a=10\n",
    "b=7\n",
    "a+=b\n",
    "\n",
    "print(a)\n",
    "print(b)"
   ]
  },
  {
   "cell_type": "code",
   "execution_count": 7,
   "id": "b85eb1cb",
   "metadata": {},
   "outputs": [],
   "source": [
    "a=10\n",
    "b=5"
   ]
  },
  {
   "cell_type": "code",
   "execution_count": 8,
   "id": "b75c3bff",
   "metadata": {},
   "outputs": [
    {
     "name": "stdout",
     "output_type": "stream",
     "text": [
      "<class 'int'>\n"
     ]
    }
   ],
   "source": [
    "print(type(a))"
   ]
  },
  {
   "cell_type": "code",
   "execution_count": 9,
   "id": "de02f1fd",
   "metadata": {},
   "outputs": [
    {
     "name": "stdout",
     "output_type": "stream",
     "text": [
      "<class 'int'>\n"
     ]
    }
   ],
   "source": [
    "print(type(b))"
   ]
  },
  {
   "cell_type": "code",
   "execution_count": 10,
   "id": "0412f6e3",
   "metadata": {},
   "outputs": [
    {
     "name": "stdout",
     "output_type": "stream",
     "text": [
      "<class 'float'>\n"
     ]
    }
   ],
   "source": [
    "x=5.7\n",
    "print(type(x))"
   ]
  },
  {
   "cell_type": "code",
   "execution_count": 11,
   "id": "990c744c",
   "metadata": {},
   "outputs": [
    {
     "name": "stdout",
     "output_type": "stream",
     "text": [
      "<class 'str'>\n"
     ]
    }
   ],
   "source": [
    "y=\"Hello 123!\"\n",
    "print(type(y))"
   ]
  },
  {
   "cell_type": "code",
   "execution_count": 12,
   "id": "2cb70609",
   "metadata": {},
   "outputs": [
    {
     "name": "stdout",
     "output_type": "stream",
     "text": [
      "Enter Number55\n",
      "<class 'str'>\n"
     ]
    }
   ],
   "source": [
    "a=input(\"Enter Number\")\n",
    "print(type(a))"
   ]
  },
  {
   "cell_type": "code",
   "execution_count": 13,
   "id": "68778b0f",
   "metadata": {},
   "outputs": [
    {
     "name": "stdout",
     "output_type": "stream",
     "text": [
      "<class 'int'>\n"
     ]
    }
   ],
   "source": [
    "a=int(a)\n",
    "print(type(a))"
   ]
  },
  {
   "cell_type": "code",
   "execution_count": 14,
   "id": "45cb8ce9",
   "metadata": {},
   "outputs": [
    {
     "name": "stdout",
     "output_type": "stream",
     "text": [
      "60\n"
     ]
    }
   ],
   "source": [
    "c=a+b\n",
    "print(c)"
   ]
  },
  {
   "cell_type": "code",
   "execution_count": 15,
   "id": "76524ef2",
   "metadata": {},
   "outputs": [
    {
     "name": "stdout",
     "output_type": "stream",
     "text": [
      "105\n"
     ]
    }
   ],
   "source": [
    "c=a+50\n",
    "print(c)"
   ]
  },
  {
   "cell_type": "code",
   "execution_count": 16,
   "id": "bc201631",
   "metadata": {},
   "outputs": [
    {
     "name": "stdout",
     "output_type": "stream",
     "text": [
      "3\n",
      "3.3333333333333335\n",
      "10\n"
     ]
    }
   ],
   "source": [
    "x=10\n",
    "y=3\n",
    "p=x//y\n",
    "q=x/y\n",
    "r=x\n",
    "print(p)\n",
    "print(q)\n",
    "print(r)"
   ]
  },
  {
   "cell_type": "code",
   "execution_count": 17,
   "id": "0390a3c7",
   "metadata": {},
   "outputs": [
    {
     "name": "stdout",
     "output_type": "stream",
     "text": [
      "10\n",
      "15\n"
     ]
    }
   ],
   "source": [
    "a=10\n",
    "print(a)\n",
    "a+=5\n",
    "print(a)"
   ]
  },
  {
   "cell_type": "code",
   "execution_count": 18,
   "id": "8fbbe6f9",
   "metadata": {},
   "outputs": [
    {
     "name": "stdout",
     "output_type": "stream",
     "text": [
      "30\n",
      "20\n"
     ]
    }
   ],
   "source": [
    "a=10\n",
    "b=20\n",
    "a+=b\n",
    "\n",
    "print(a)\n",
    "print(b)"
   ]
  },
  {
   "cell_type": "code",
   "execution_count": 19,
   "id": "2774e838",
   "metadata": {},
   "outputs": [
    {
     "name": "stdout",
     "output_type": "stream",
     "text": [
      "5\n"
     ]
    }
   ],
   "source": [
    "a=10\n",
    "a-=5\n",
    "print(a)"
   ]
  },
  {
   "cell_type": "code",
   "execution_count": 20,
   "id": "02805612",
   "metadata": {},
   "outputs": [
    {
     "name": "stdout",
     "output_type": "stream",
     "text": [
      "50\n"
     ]
    }
   ],
   "source": [
    "a=10\n",
    "a*=5\n",
    "print(a)"
   ]
  },
  {
   "cell_type": "code",
   "execution_count": 21,
   "id": "7c7ce4af",
   "metadata": {},
   "outputs": [
    {
     "name": "stdout",
     "output_type": "stream",
     "text": [
      "2.0\n"
     ]
    }
   ],
   "source": [
    "a=10\n",
    "a/=5\n",
    "print(a)"
   ]
  },
  {
   "cell_type": "code",
   "execution_count": 22,
   "id": "007907eb",
   "metadata": {},
   "outputs": [
    {
     "name": "stdout",
     "output_type": "stream",
     "text": [
      "0\n"
     ]
    }
   ],
   "source": [
    "a=10\n",
    "a%=5\n",
    "print(a)"
   ]
  },
  {
   "cell_type": "code",
   "execution_count": 23,
   "id": "92f6cb10",
   "metadata": {},
   "outputs": [
    {
     "name": "stdout",
     "output_type": "stream",
     "text": [
      "100000\n"
     ]
    }
   ],
   "source": [
    "a=10\n",
    "a**=5\n",
    "print(a)"
   ]
  },
  {
   "cell_type": "code",
   "execution_count": 24,
   "id": "cf499f48",
   "metadata": {},
   "outputs": [
    {
     "name": "stdout",
     "output_type": "stream",
     "text": [
      "2\n"
     ]
    }
   ],
   "source": [
    "a=10\n",
    "a//=5\n",
    "print(a)"
   ]
  },
  {
   "cell_type": "code",
   "execution_count": 25,
   "id": "ea4050f2",
   "metadata": {},
   "outputs": [
    {
     "data": {
      "text/plain": [
       "False"
      ]
     },
     "execution_count": 25,
     "metadata": {},
     "output_type": "execute_result"
    }
   ],
   "source": [
    "a=10\n",
    "b=5\n",
    "a==b"
   ]
  },
  {
   "cell_type": "code",
   "execution_count": 26,
   "id": "685598d6",
   "metadata": {},
   "outputs": [
    {
     "data": {
      "text/plain": [
       "True"
      ]
     },
     "execution_count": 26,
     "metadata": {},
     "output_type": "execute_result"
    }
   ],
   "source": [
    "a>b"
   ]
  },
  {
   "cell_type": "code",
   "execution_count": 27,
   "id": "7d00196d",
   "metadata": {},
   "outputs": [
    {
     "data": {
      "text/plain": [
       "False"
      ]
     },
     "execution_count": 27,
     "metadata": {},
     "output_type": "execute_result"
    }
   ],
   "source": [
    "a<b"
   ]
  },
  {
   "cell_type": "code",
   "execution_count": 28,
   "id": "dda0fd78",
   "metadata": {},
   "outputs": [
    {
     "data": {
      "text/plain": [
       "True"
      ]
     },
     "execution_count": 28,
     "metadata": {},
     "output_type": "execute_result"
    }
   ],
   "source": [
    "a!=b"
   ]
  },
  {
   "cell_type": "code",
   "execution_count": 29,
   "id": "9bc44c8e",
   "metadata": {},
   "outputs": [
    {
     "data": {
      "text/plain": [
       "False"
      ]
     },
     "execution_count": 29,
     "metadata": {},
     "output_type": "execute_result"
    }
   ],
   "source": [
    "a>=15"
   ]
  },
  {
   "cell_type": "code",
   "execution_count": 30,
   "id": "e4b6211f",
   "metadata": {},
   "outputs": [
    {
     "data": {
      "text/plain": [
       "True"
      ]
     },
     "execution_count": 30,
     "metadata": {},
     "output_type": "execute_result"
    }
   ],
   "source": [
    "a<=15"
   ]
  },
  {
   "cell_type": "code",
   "execution_count": 31,
   "id": "fd48e7d5",
   "metadata": {},
   "outputs": [
    {
     "data": {
      "text/plain": [
       "True"
      ]
     },
     "execution_count": 31,
     "metadata": {},
     "output_type": "execute_result"
    }
   ],
   "source": [
    "a<=15"
   ]
  },
  {
   "cell_type": "code",
   "execution_count": 32,
   "id": "878b9ca3",
   "metadata": {},
   "outputs": [
    {
     "data": {
      "text/plain": [
       "False"
      ]
     },
     "execution_count": 32,
     "metadata": {},
     "output_type": "execute_result"
    }
   ],
   "source": [
    "20==a"
   ]
  },
  {
   "cell_type": "code",
   "execution_count": 33,
   "id": "32c1dc13",
   "metadata": {},
   "outputs": [
    {
     "data": {
      "text/plain": [
       "True"
      ]
     },
     "execution_count": 33,
     "metadata": {},
     "output_type": "execute_result"
    }
   ],
   "source": [
    "a=10\n",
    "b=10\n",
    "a<=b"
   ]
  },
  {
   "cell_type": "code",
   "execution_count": 34,
   "id": "5edded17",
   "metadata": {},
   "outputs": [
    {
     "data": {
      "text/plain": [
       "True"
      ]
     },
     "execution_count": 34,
     "metadata": {},
     "output_type": "execute_result"
    }
   ],
   "source": [
    "a=15\n",
    "b=20\n",
    "\n",
    "a==15 and a<b"
   ]
  },
  {
   "cell_type": "code",
   "execution_count": 35,
   "id": "1c4c8929",
   "metadata": {},
   "outputs": [
    {
     "data": {
      "text/plain": [
       "False"
      ]
     },
     "execution_count": 35,
     "metadata": {},
     "output_type": "execute_result"
    }
   ],
   "source": [
    "a==15 and a>b"
   ]
  },
  {
   "cell_type": "code",
   "execution_count": 36,
   "id": "8dd947c4",
   "metadata": {},
   "outputs": [
    {
     "data": {
      "text/plain": [
       "False"
      ]
     },
     "execution_count": 36,
     "metadata": {},
     "output_type": "execute_result"
    }
   ],
   "source": [
    "a<5 and a<b"
   ]
  },
  {
   "cell_type": "code",
   "execution_count": 37,
   "id": "686e85cc",
   "metadata": {},
   "outputs": [
    {
     "data": {
      "text/plain": [
       "False"
      ]
     },
     "execution_count": 37,
     "metadata": {},
     "output_type": "execute_result"
    }
   ],
   "source": [
    "a<5 and a>b"
   ]
  },
  {
   "cell_type": "code",
   "execution_count": 38,
   "id": "54d5fe34",
   "metadata": {},
   "outputs": [
    {
     "data": {
      "text/plain": [
       "False"
      ]
     },
     "execution_count": 38,
     "metadata": {},
     "output_type": "execute_result"
    }
   ],
   "source": [
    "a=15\n",
    "b=20\n",
    "a==15 or a<b\n",
    "a==15 or a>b\n",
    "a<5 or a<b\n",
    "a<5 or a>b"
   ]
  },
  {
   "cell_type": "code",
   "execution_count": 39,
   "id": "21f9bc58",
   "metadata": {},
   "outputs": [
    {
     "data": {
      "text/plain": [
       "True"
      ]
     },
     "execution_count": 39,
     "metadata": {},
     "output_type": "execute_result"
    }
   ],
   "source": [
    "a=30\n",
    "b=20\n",
    "c=10\n",
    "\n",
    "a>b and a>c"
   ]
  },
  {
   "cell_type": "code",
   "execution_count": 40,
   "id": "6708524c",
   "metadata": {},
   "outputs": [
    {
     "data": {
      "text/plain": [
       "False"
      ]
     },
     "execution_count": 40,
     "metadata": {},
     "output_type": "execute_result"
    }
   ],
   "source": [
    "a<5 & a<b"
   ]
  },
  {
   "cell_type": "code",
   "execution_count": 41,
   "id": "acfa38e7",
   "metadata": {},
   "outputs": [
    {
     "data": {
      "text/plain": [
       "True"
      ]
     },
     "execution_count": 41,
     "metadata": {},
     "output_type": "execute_result"
    }
   ],
   "source": [
    "a<5 | a>b"
   ]
  },
  {
   "cell_type": "code",
   "execution_count": 42,
   "id": "c1b92ed0",
   "metadata": {},
   "outputs": [
    {
     "name": "stdout",
     "output_type": "stream",
     "text": [
      "True\n"
     ]
    },
    {
     "data": {
      "text/plain": [
       "False"
      ]
     },
     "execution_count": 42,
     "metadata": {},
     "output_type": "execute_result"
    }
   ],
   "source": [
    "a=10\n",
    "b=5\n",
    "print(a>b)\n",
    "not(a>b)"
   ]
  },
  {
   "cell_type": "code",
   "execution_count": 43,
   "id": "43f2d703",
   "metadata": {},
   "outputs": [
    {
     "name": "stdout",
     "output_type": "stream",
     "text": [
      "2357397187152\n",
      "2357397187152\n",
      "True\n"
     ]
    }
   ],
   "source": [
    "x=10\n",
    "y=10\n",
    "print(id(x))\n",
    "print(id(y))\n",
    "\n",
    "print(x is y)"
   ]
  },
  {
   "cell_type": "code",
   "execution_count": 44,
   "id": "fb42b37a",
   "metadata": {},
   "outputs": [
    {
     "name": "stdout",
     "output_type": "stream",
     "text": [
      "2357397187152\n",
      "2357397187472\n",
      "False\n"
     ]
    }
   ],
   "source": [
    "x=10\n",
    "y=20\n",
    "print(id(x))\n",
    "print(id(y))\n",
    "\n",
    "print(x is y)"
   ]
  },
  {
   "cell_type": "code",
   "execution_count": 45,
   "id": "e5c7c9ab",
   "metadata": {},
   "outputs": [
    {
     "name": "stdout",
     "output_type": "stream",
     "text": [
      "2357397187152\n",
      "2357397187472\n",
      "True\n"
     ]
    }
   ],
   "source": [
    "x=10\n",
    "y=20\n",
    "print(id(x))\n",
    "print(id(y))\n",
    "\n",
    "print(x is not y)"
   ]
  },
  {
   "cell_type": "code",
   "execution_count": 46,
   "id": "00d8da0f",
   "metadata": {},
   "outputs": [
    {
     "name": "stdout",
     "output_type": "stream",
     "text": [
      "2357397187152\n",
      "2357397187152\n",
      "True\n"
     ]
    }
   ],
   "source": [
    "x=10\n",
    "y=10\n",
    "print(id(x))\n",
    "print(id(y))\n",
    "\n",
    "print(x is y)"
   ]
  },
  {
   "cell_type": "code",
   "execution_count": 47,
   "id": "b856169c",
   "metadata": {},
   "outputs": [
    {
     "name": "stdout",
     "output_type": "stream",
     "text": [
      "True\n",
      "True\n"
     ]
    }
   ],
   "source": [
    "x=\"Hello world\"\n",
    "print(\"H\" in x)\n",
    "print(\"hello\" not in x)"
   ]
  },
  {
   "cell_type": "code",
   "execution_count": 48,
   "id": "fcd3a2aa",
   "metadata": {},
   "outputs": [
    {
     "name": "stdout",
     "output_type": "stream",
     "text": [
      "True\n",
      "True\n",
      "True\n",
      "False\n"
     ]
    }
   ],
   "source": [
    "x=\"Hello World\"\n",
    "\n",
    "print(\"r\" in x)\n",
    "print(\"l\" in x)\n",
    "print(\"Hello\" in x)\n",
    "print(\"hello\" in x)"
   ]
  },
  {
   "cell_type": "code",
   "execution_count": 49,
   "id": "b36c8934",
   "metadata": {},
   "outputs": [
    {
     "name": "stdout",
     "output_type": "stream",
     "text": [
      "1\n"
     ]
    }
   ],
   "source": [
    "a=65\n",
    "b=39\n",
    "c=a&b\n",
    "print(c)"
   ]
  },
  {
   "cell_type": "code",
   "execution_count": 50,
   "id": "647de5c8",
   "metadata": {},
   "outputs": [
    {
     "name": "stdout",
     "output_type": "stream",
     "text": [
      "103\n"
     ]
    }
   ],
   "source": [
    "c=a|b\n",
    "print(c)"
   ]
  },
  {
   "cell_type": "code",
   "execution_count": 51,
   "id": "99c22683",
   "metadata": {},
   "outputs": [
    {
     "name": "stdout",
     "output_type": "stream",
     "text": [
      "102\n"
     ]
    }
   ],
   "source": [
    "c=a^b\n",
    "print(c)"
   ]
  },
  {
   "cell_type": "code",
   "execution_count": 52,
   "id": "90a36072",
   "metadata": {},
   "outputs": [
    {
     "name": "stdout",
     "output_type": "stream",
     "text": [
      "-66\n"
     ]
    }
   ],
   "source": [
    "print(~a)"
   ]
  },
  {
   "cell_type": "code",
   "execution_count": 53,
   "id": "28867d2c",
   "metadata": {},
   "outputs": [
    {
     "name": "stdout",
     "output_type": "stream",
     "text": [
      "260\n"
     ]
    }
   ],
   "source": [
    "a=65\n",
    "print(a<<2)"
   ]
  },
  {
   "cell_type": "code",
   "execution_count": 54,
   "id": "279ce00b",
   "metadata": {},
   "outputs": [
    {
     "name": "stdout",
     "output_type": "stream",
     "text": [
      "16\n"
     ]
    }
   ],
   "source": [
    "a=65\n",
    "print(a>>2)"
   ]
  },
  {
   "cell_type": "code",
   "execution_count": 55,
   "id": "70982bd8",
   "metadata": {},
   "outputs": [
    {
     "name": "stdout",
     "output_type": "stream",
     "text": [
      "Welkom to session on Python Programming\n"
     ]
    }
   ],
   "source": [
    "print(\"Welkom to session on Python Programming\")"
   ]
  },
  {
   "cell_type": "code",
   "execution_count": 56,
   "id": "036017e3",
   "metadata": {},
   "outputs": [
    {
     "name": "stdout",
     "output_type": "stream",
     "text": [
      "10\n"
     ]
    }
   ],
   "source": [
    "x=10\n",
    "print(x)"
   ]
  },
  {
   "cell_type": "code",
   "execution_count": 57,
   "id": "1777dfd5",
   "metadata": {},
   "outputs": [
    {
     "name": "stdout",
     "output_type": "stream",
     "text": [
      "x\n"
     ]
    }
   ],
   "source": [
    "print(\"x\")"
   ]
  },
  {
   "cell_type": "code",
   "execution_count": 58,
   "id": "ea578f58",
   "metadata": {},
   "outputs": [],
   "source": [
    "y=20"
   ]
  },
  {
   "cell_type": "code",
   "execution_count": 59,
   "id": "fc50d8d7",
   "metadata": {},
   "outputs": [
    {
     "name": "stdout",
     "output_type": "stream",
     "text": [
      "20\n"
     ]
    }
   ],
   "source": [
    "print(y)"
   ]
  },
  {
   "cell_type": "code",
   "execution_count": 60,
   "id": "1fe90eba",
   "metadata": {},
   "outputs": [],
   "source": [
    "z=x+y"
   ]
  },
  {
   "cell_type": "code",
   "execution_count": 61,
   "id": "1a52c788",
   "metadata": {},
   "outputs": [
    {
     "name": "stdout",
     "output_type": "stream",
     "text": [
      "30\n"
     ]
    }
   ],
   "source": [
    "print(z)"
   ]
  },
  {
   "cell_type": "code",
   "execution_count": 62,
   "id": "c06d2bcf",
   "metadata": {},
   "outputs": [
    {
     "name": "stdout",
     "output_type": "stream",
     "text": [
      "Enter Number9\n"
     ]
    }
   ],
   "source": [
    "a=input(\"Enter Number\")"
   ]
  },
  {
   "cell_type": "code",
   "execution_count": 63,
   "id": "0aee6d51",
   "metadata": {},
   "outputs": [
    {
     "name": "stdout",
     "output_type": "stream",
     "text": [
      "Enter Number70\n"
     ]
    }
   ],
   "source": [
    "b=input(\"Enter Number\")"
   ]
  },
  {
   "cell_type": "code",
   "execution_count": 64,
   "id": "dc8f3ce9",
   "metadata": {},
   "outputs": [],
   "source": [
    "c=a+b"
   ]
  },
  {
   "cell_type": "code",
   "execution_count": 65,
   "id": "0f19582c",
   "metadata": {},
   "outputs": [
    {
     "name": "stdout",
     "output_type": "stream",
     "text": [
      "970\n"
     ]
    }
   ],
   "source": [
    "print(c)"
   ]
  },
  {
   "cell_type": "code",
   "execution_count": 66,
   "id": "e62df4a2",
   "metadata": {},
   "outputs": [
    {
     "name": "stdout",
     "output_type": "stream",
     "text": [
      "79\n"
     ]
    }
   ],
   "source": [
    "x=int(a)\n",
    "y=int(b)\n",
    "\n",
    "z=x+y\n",
    "print(z)"
   ]
  },
  {
   "cell_type": "code",
   "execution_count": 67,
   "id": "eeb657f0",
   "metadata": {},
   "outputs": [
    {
     "name": "stdout",
     "output_type": "stream",
     "text": [
      "Enter Height66\n",
      "Enter Base36\n",
      "Area of Traingle 1188.0\n"
     ]
    }
   ],
   "source": [
    "h=input(\"Enter Height\")\n",
    "b=input(\"Enter Base\")\n",
    "h=int(h)\n",
    "b=int(b)\n",
    "a=0.5*h*b\n",
    "print(\"Area of Traingle\", a)"
   ]
  },
  {
   "cell_type": "code",
   "execution_count": 68,
   "id": "aa096616",
   "metadata": {},
   "outputs": [
    {
     "name": "stdout",
     "output_type": "stream",
     "text": [
      "Enter site 1 of rectangle44\n"
     ]
    }
   ],
   "source": [
    "site1=input (\"Enter site 1 of rectangle\")"
   ]
  },
  {
   "cell_type": "code",
   "execution_count": 69,
   "id": "fb3bc723",
   "metadata": {},
   "outputs": [
    {
     "name": "stdout",
     "output_type": "stream",
     "text": [
      "Enter site 2 of rectangle55\n"
     ]
    }
   ],
   "source": [
    "site2=input (\"Enter site 2 of rectangle\")"
   ]
  },
  {
   "cell_type": "code",
   "execution_count": 70,
   "id": "48bb2c50",
   "metadata": {},
   "outputs": [],
   "source": [
    "site1=int(site1)\n",
    "site2=int(site2)"
   ]
  },
  {
   "cell_type": "code",
   "execution_count": 71,
   "id": "8893da52",
   "metadata": {},
   "outputs": [],
   "source": [
    "area=site1*site2"
   ]
  },
  {
   "cell_type": "code",
   "execution_count": 72,
   "id": "a082ed63",
   "metadata": {},
   "outputs": [
    {
     "name": "stdout",
     "output_type": "stream",
     "text": [
      "AREA of RECTANGLE IS 2420\n"
     ]
    }
   ],
   "source": [
    "print(\"AREA of RECTANGLE IS\" ,area)"
   ]
  },
  {
   "cell_type": "code",
   "execution_count": 73,
   "id": "00bc760d",
   "metadata": {},
   "outputs": [],
   "source": [
    "x=20"
   ]
  },
  {
   "cell_type": "code",
   "execution_count": 74,
   "id": "318c254e",
   "metadata": {},
   "outputs": [
    {
     "name": "stdout",
     "output_type": "stream",
     "text": [
      "20\n"
     ]
    }
   ],
   "source": [
    "print(x)"
   ]
  },
  {
   "cell_type": "code",
   "execution_count": 75,
   "id": "1c45a7c0",
   "metadata": {},
   "outputs": [
    {
     "name": "stdout",
     "output_type": "stream",
     "text": [
      "2357397187472\n"
     ]
    }
   ],
   "source": [
    "print(id(x))"
   ]
  },
  {
   "cell_type": "code",
   "execution_count": 76,
   "id": "b301cd87",
   "metadata": {},
   "outputs": [],
   "source": [
    "x=40"
   ]
  },
  {
   "cell_type": "code",
   "execution_count": 77,
   "id": "77348af7",
   "metadata": {},
   "outputs": [
    {
     "name": "stdout",
     "output_type": "stream",
     "text": [
      "2357397188112\n"
     ]
    }
   ],
   "source": [
    "print(id(x))"
   ]
  },
  {
   "cell_type": "code",
   "execution_count": 78,
   "id": "481a116b",
   "metadata": {},
   "outputs": [
    {
     "name": "stdout",
     "output_type": "stream",
     "text": [
      "HELLO\n",
      "2357476975216\n"
     ]
    }
   ],
   "source": [
    "p=\"HELLO\"\n",
    "print(p)\n",
    "print(id(p))"
   ]
  },
  {
   "cell_type": "code",
   "execution_count": 79,
   "id": "9301ea8a",
   "metadata": {},
   "outputs": [],
   "source": [
    "x=y=z=2"
   ]
  },
  {
   "cell_type": "code",
   "execution_count": 80,
   "id": "664ecef8",
   "metadata": {},
   "outputs": [
    {
     "name": "stdout",
     "output_type": "stream",
     "text": [
      "2\n",
      "2\n",
      "2\n"
     ]
    }
   ],
   "source": [
    "print(x)\n",
    "print(y)\n",
    "print(z)"
   ]
  },
  {
   "cell_type": "code",
   "execution_count": 81,
   "id": "5f2dff65",
   "metadata": {},
   "outputs": [],
   "source": [
    "x=4"
   ]
  },
  {
   "cell_type": "code",
   "execution_count": 82,
   "id": "1221b0da",
   "metadata": {},
   "outputs": [
    {
     "name": "stdout",
     "output_type": "stream",
     "text": [
      "4\n",
      "2\n",
      "2\n"
     ]
    }
   ],
   "source": [
    "print(x)\n",
    "print(y)\n",
    "print(z)"
   ]
  },
  {
   "cell_type": "code",
   "execution_count": 83,
   "id": "3e8a5ed3",
   "metadata": {},
   "outputs": [
    {
     "name": "stdout",
     "output_type": "stream",
     "text": [
      "2357397186960\n",
      "2357397186896\n",
      "2357397186896\n"
     ]
    }
   ],
   "source": [
    "print(id(x))\n",
    "print(id(y))\n",
    "print(id(z))"
   ]
  },
  {
   "cell_type": "code",
   "execution_count": 84,
   "id": "9af15011",
   "metadata": {},
   "outputs": [],
   "source": [
    "a=15\n",
    "b=5"
   ]
  },
  {
   "cell_type": "code",
   "execution_count": 85,
   "id": "ce9c1568",
   "metadata": {},
   "outputs": [
    {
     "name": "stdout",
     "output_type": "stream",
     "text": [
      "20\n"
     ]
    }
   ],
   "source": [
    "c=a+b\n",
    "print(c)"
   ]
  },
  {
   "cell_type": "code",
   "execution_count": 86,
   "id": "e8fdf6ce",
   "metadata": {},
   "outputs": [
    {
     "name": "stdout",
     "output_type": "stream",
     "text": [
      "10\n"
     ]
    }
   ],
   "source": [
    "c=a-b\n",
    "print(c)"
   ]
  },
  {
   "cell_type": "code",
   "execution_count": 87,
   "id": "13ee4103",
   "metadata": {},
   "outputs": [
    {
     "name": "stdout",
     "output_type": "stream",
     "text": [
      "75\n"
     ]
    }
   ],
   "source": [
    "c=a*b\n",
    "print(c)"
   ]
  },
  {
   "cell_type": "code",
   "execution_count": 88,
   "id": "e18a7a7b",
   "metadata": {},
   "outputs": [
    {
     "name": "stdout",
     "output_type": "stream",
     "text": [
      "3.0\n"
     ]
    }
   ],
   "source": [
    "c=a/b\n",
    "print(c)"
   ]
  },
  {
   "cell_type": "code",
   "execution_count": 89,
   "id": "1339816b",
   "metadata": {},
   "outputs": [
    {
     "name": "stdout",
     "output_type": "stream",
     "text": [
      "Enter Number12\n",
      "Enter Number33\n"
     ]
    }
   ],
   "source": [
    "a=input(\"Enter Number\")\n",
    "b=input(\"Enter Number\")"
   ]
  },
  {
   "cell_type": "code",
   "execution_count": 90,
   "id": "008b27f8",
   "metadata": {},
   "outputs": [],
   "source": [
    "a=int(a)\n",
    "b=int(b)"
   ]
  },
  {
   "cell_type": "code",
   "execution_count": 91,
   "id": "8e08a54e",
   "metadata": {},
   "outputs": [
    {
     "name": "stdout",
     "output_type": "stream",
     "text": [
      "45\n"
     ]
    }
   ],
   "source": [
    "c=a+b\n",
    "print(c)"
   ]
  },
  {
   "cell_type": "code",
   "execution_count": 92,
   "id": "99eaf358",
   "metadata": {},
   "outputs": [
    {
     "name": "stdout",
     "output_type": "stream",
     "text": [
      "410186270246002225336426103593500672\n"
     ]
    }
   ],
   "source": [
    "c=a**b\n",
    "print(c)"
   ]
  },
  {
   "cell_type": "code",
   "execution_count": 93,
   "id": "86573518",
   "metadata": {},
   "outputs": [
    {
     "name": "stdout",
     "output_type": "stream",
     "text": [
      "0\n"
     ]
    }
   ],
   "source": [
    "c=a//b\n",
    "print(c)"
   ]
  },
  {
   "cell_type": "code",
   "execution_count": 94,
   "id": "95ff96ee",
   "metadata": {},
   "outputs": [],
   "source": [
    "x=14\n",
    "y=3"
   ]
  },
  {
   "cell_type": "code",
   "execution_count": 95,
   "id": "25138ffd",
   "metadata": {},
   "outputs": [
    {
     "name": "stdout",
     "output_type": "stream",
     "text": [
      "4.666666666666667\n"
     ]
    }
   ],
   "source": [
    "z=x/y\n",
    "print(z)"
   ]
  },
  {
   "cell_type": "code",
   "execution_count": 96,
   "id": "f51b6616",
   "metadata": {},
   "outputs": [
    {
     "name": "stdout",
     "output_type": "stream",
     "text": [
      "2\n"
     ]
    }
   ],
   "source": [
    "z=x%y\n",
    "print(z)"
   ]
  },
  {
   "cell_type": "code",
   "execution_count": 97,
   "id": "68809c34",
   "metadata": {},
   "outputs": [
    {
     "name": "stdout",
     "output_type": "stream",
     "text": [
      "2\n"
     ]
    }
   ],
   "source": [
    "z=x&y\n",
    "print(z)"
   ]
  },
  {
   "cell_type": "code",
   "execution_count": 98,
   "id": "3b9e59cf",
   "metadata": {},
   "outputs": [
    {
     "name": "stdout",
     "output_type": "stream",
     "text": [
      "['apple', 'mango', 'grapes']\n"
     ]
    }
   ],
   "source": [
    "fruits=[\"apple\",\"mango\",\"grapes\"]\n",
    "print(fruits)"
   ]
  },
  {
   "cell_type": "code",
   "execution_count": 99,
   "id": "d2619653",
   "metadata": {},
   "outputs": [
    {
     "name": "stdout",
     "output_type": "stream",
     "text": [
      "apple\n"
     ]
    }
   ],
   "source": [
    "print(fruits[0])"
   ]
  },
  {
   "cell_type": "code",
   "execution_count": 100,
   "id": "30462a1c",
   "metadata": {},
   "outputs": [
    {
     "name": "stdout",
     "output_type": "stream",
     "text": [
      "mango\n"
     ]
    }
   ],
   "source": [
    "print(fruits[1])"
   ]
  },
  {
   "cell_type": "code",
   "execution_count": 101,
   "id": "e634bf6c",
   "metadata": {},
   "outputs": [
    {
     "name": "stdout",
     "output_type": "stream",
     "text": [
      "grapes\n"
     ]
    }
   ],
   "source": [
    "print(fruits[2])"
   ]
  },
  {
   "cell_type": "code",
   "execution_count": 102,
   "id": "f4d73510",
   "metadata": {},
   "outputs": [
    {
     "name": "stdout",
     "output_type": "stream",
     "text": [
      "grapes\n"
     ]
    }
   ],
   "source": [
    "print(fruits[-1])"
   ]
  },
  {
   "cell_type": "code",
   "execution_count": 103,
   "id": "3ceeff58",
   "metadata": {},
   "outputs": [
    {
     "name": "stdout",
     "output_type": "stream",
     "text": [
      "mango\n"
     ]
    }
   ],
   "source": [
    "print(fruits[-2])"
   ]
  },
  {
   "cell_type": "code",
   "execution_count": 104,
   "id": "0fcb46eb",
   "metadata": {},
   "outputs": [
    {
     "name": "stdout",
     "output_type": "stream",
     "text": [
      "['apple', 'pear', 'grapes']\n"
     ]
    }
   ],
   "source": [
    "fruits[1]=\"pear\"\n",
    "print(fruits)"
   ]
  },
  {
   "cell_type": "code",
   "execution_count": 105,
   "id": "b5bb6aa2",
   "metadata": {},
   "outputs": [],
   "source": [
    "fruits.append(\"banana\")"
   ]
  },
  {
   "cell_type": "code",
   "execution_count": 106,
   "id": "29b9ade1",
   "metadata": {},
   "outputs": [
    {
     "name": "stdout",
     "output_type": "stream",
     "text": [
      "['apple', 'pear', 'grapes', 'banana']\n"
     ]
    }
   ],
   "source": [
    "print(fruits)"
   ]
  },
  {
   "cell_type": "code",
   "execution_count": 107,
   "id": "8fdf14f9",
   "metadata": {},
   "outputs": [
    {
     "name": "stdout",
     "output_type": "stream",
     "text": [
      "[]\n"
     ]
    }
   ],
   "source": [
    "fruits.clear()\n",
    "print(fruits)"
   ]
  },
  {
   "cell_type": "code",
   "execution_count": 108,
   "id": "e75b4223",
   "metadata": {},
   "outputs": [
    {
     "name": "stdout",
     "output_type": "stream",
     "text": [
      "['apple', 'mango', 'grapes']\n"
     ]
    }
   ],
   "source": [
    "x=[\"apple\",\"mango\",\"grapes\"]\n",
    "fruits=x.copy()\n",
    "print(fruits)"
   ]
  },
  {
   "cell_type": "code",
   "execution_count": 109,
   "id": "c89a2b1f",
   "metadata": {},
   "outputs": [
    {
     "name": "stdout",
     "output_type": "stream",
     "text": [
      "1\n"
     ]
    }
   ],
   "source": [
    "print(fruits.count('apple'))"
   ]
  },
  {
   "cell_type": "code",
   "execution_count": 110,
   "id": "dd6c9169",
   "metadata": {},
   "outputs": [],
   "source": [
    "fruits1=[\"strawberry\",\"banana\"]"
   ]
  },
  {
   "cell_type": "code",
   "execution_count": 111,
   "id": "6ff544bd",
   "metadata": {},
   "outputs": [
    {
     "name": "stdout",
     "output_type": "stream",
     "text": [
      "['strawberry', 'banana']\n"
     ]
    }
   ],
   "source": [
    "print(fruits1)"
   ]
  },
  {
   "cell_type": "code",
   "execution_count": 112,
   "id": "f0f95e0c",
   "metadata": {},
   "outputs": [
    {
     "name": "stdout",
     "output_type": "stream",
     "text": [
      "['apple', 'mango', 'grapes', 'strawberry', 'banana']\n"
     ]
    }
   ],
   "source": [
    "fruits.extend(fruits1)\n",
    "print(fruits)"
   ]
  },
  {
   "cell_type": "code",
   "execution_count": 113,
   "id": "552b3fbc",
   "metadata": {},
   "outputs": [
    {
     "name": "stdout",
     "output_type": "stream",
     "text": [
      "['apple', 'mango', 'grapes', 'strawberry', 'banana']\n",
      "['strawberry', 'banana']\n"
     ]
    }
   ],
   "source": [
    "print(fruits)\n",
    "print(fruits1)"
   ]
  },
  {
   "cell_type": "code",
   "execution_count": 114,
   "id": "6fbca466",
   "metadata": {},
   "outputs": [
    {
     "name": "stdout",
     "output_type": "stream",
     "text": [
      "[5, 6, 7, 1, 2, 3]\n",
      "[1, 2, 3]\n"
     ]
    }
   ],
   "source": [
    "x=[1,2,3]\n",
    "y=[5,6,7]\n",
    "y.extend(x)\n",
    "print(y)\n",
    "print(x)"
   ]
  },
  {
   "cell_type": "code",
   "execution_count": 115,
   "id": "fad91a28",
   "metadata": {},
   "outputs": [
    {
     "name": "stdout",
     "output_type": "stream",
     "text": [
      "1\n"
     ]
    }
   ],
   "source": [
    "print(fruits.index('mango'))"
   ]
  },
  {
   "cell_type": "code",
   "execution_count": 116,
   "id": "58a8e25d",
   "metadata": {},
   "outputs": [],
   "source": [
    "fruits.insert(3,\"orange\")"
   ]
  },
  {
   "cell_type": "code",
   "execution_count": 117,
   "id": "0995a499",
   "metadata": {},
   "outputs": [
    {
     "name": "stdout",
     "output_type": "stream",
     "text": [
      "['apple', 'mango', 'grapes', 'orange', 'strawberry', 'banana']\n"
     ]
    }
   ],
   "source": [
    "print(fruits)"
   ]
  },
  {
   "cell_type": "code",
   "execution_count": 118,
   "id": "f7fd8bb0",
   "metadata": {},
   "outputs": [
    {
     "data": {
      "text/plain": [
       "'orange'"
      ]
     },
     "execution_count": 118,
     "metadata": {},
     "output_type": "execute_result"
    }
   ],
   "source": [
    "fruits.pop(3)"
   ]
  },
  {
   "cell_type": "code",
   "execution_count": 119,
   "id": "e8039219",
   "metadata": {},
   "outputs": [
    {
     "name": "stdout",
     "output_type": "stream",
     "text": [
      "['apple', 'mango', 'grapes', 'strawberry', 'banana']\n"
     ]
    }
   ],
   "source": [
    "print(fruits)"
   ]
  },
  {
   "cell_type": "code",
   "execution_count": 120,
   "id": "1e846058",
   "metadata": {},
   "outputs": [],
   "source": [
    "fruits.remove('mango')"
   ]
  },
  {
   "cell_type": "code",
   "execution_count": 121,
   "id": "530c63e6",
   "metadata": {},
   "outputs": [
    {
     "name": "stdout",
     "output_type": "stream",
     "text": [
      "['apple', 'grapes', 'strawberry', 'banana']\n"
     ]
    }
   ],
   "source": [
    "print(fruits)"
   ]
  },
  {
   "cell_type": "code",
   "execution_count": 122,
   "id": "30dbf1d5",
   "metadata": {},
   "outputs": [],
   "source": [
    "fruits.reverse()"
   ]
  },
  {
   "cell_type": "code",
   "execution_count": 123,
   "id": "c0df5f8d",
   "metadata": {},
   "outputs": [
    {
     "name": "stdout",
     "output_type": "stream",
     "text": [
      "['banana', 'strawberry', 'grapes', 'apple']\n"
     ]
    }
   ],
   "source": [
    "print(fruits)"
   ]
  },
  {
   "cell_type": "code",
   "execution_count": 124,
   "id": "fb5b3e5c",
   "metadata": {},
   "outputs": [],
   "source": [
    "fruits=['apple','mango','banana','strawberry','orange']"
   ]
  },
  {
   "cell_type": "code",
   "execution_count": 125,
   "id": "fa4cae1d",
   "metadata": {},
   "outputs": [
    {
     "data": {
      "text/plain": [
       "['apple', 'mango']"
      ]
     },
     "execution_count": 125,
     "metadata": {},
     "output_type": "execute_result"
    }
   ],
   "source": [
    "fruits[:2]"
   ]
  },
  {
   "cell_type": "code",
   "execution_count": 126,
   "id": "4f091bdb",
   "metadata": {},
   "outputs": [
    {
     "data": {
      "text/plain": [
       "['mango', 'banana']"
      ]
     },
     "execution_count": 126,
     "metadata": {},
     "output_type": "execute_result"
    }
   ],
   "source": [
    "fruits[1:3]"
   ]
  },
  {
   "cell_type": "code",
   "execution_count": 127,
   "id": "b5fd50c0",
   "metadata": {},
   "outputs": [
    {
     "data": {
      "text/plain": [
       "['banana', 'strawberry', 'orange']"
      ]
     },
     "execution_count": 127,
     "metadata": {},
     "output_type": "execute_result"
    }
   ],
   "source": [
    "fruits[2:]"
   ]
  },
  {
   "cell_type": "code",
   "execution_count": 128,
   "id": "8b3ebb91",
   "metadata": {},
   "outputs": [
    {
     "data": {
      "text/plain": [
       "['orange']"
      ]
     },
     "execution_count": 128,
     "metadata": {},
     "output_type": "execute_result"
    }
   ],
   "source": [
    "fruits[-1:]"
   ]
  },
  {
   "cell_type": "code",
   "execution_count": 129,
   "id": "48d7b5e7",
   "metadata": {},
   "outputs": [
    {
     "data": {
      "text/plain": [
       "['mango', 'banana', 'strawberry', 'orange']"
      ]
     },
     "execution_count": 129,
     "metadata": {},
     "output_type": "execute_result"
    }
   ],
   "source": [
    "fruits[-4:]"
   ]
  },
  {
   "cell_type": "code",
   "execution_count": 130,
   "id": "00182c31",
   "metadata": {},
   "outputs": [
    {
     "data": {
      "text/plain": [
       "['banana', 'strawberry', 'orange']"
      ]
     },
     "execution_count": 130,
     "metadata": {},
     "output_type": "execute_result"
    }
   ],
   "source": [
    "fruits[-3:]"
   ]
  },
  {
   "cell_type": "code",
   "execution_count": 131,
   "id": "12f11f41",
   "metadata": {},
   "outputs": [
    {
     "data": {
      "text/plain": [
       "['banana', 'strawberry']"
      ]
     },
     "execution_count": 131,
     "metadata": {},
     "output_type": "execute_result"
    }
   ],
   "source": [
    "fruits[-3:-1]"
   ]
  },
  {
   "cell_type": "code",
   "execution_count": 132,
   "id": "ca75f58c",
   "metadata": {},
   "outputs": [
    {
     "name": "stdout",
     "output_type": "stream",
     "text": [
      "[100, 200, 150, 450]\n"
     ]
    }
   ],
   "source": [
    "L1=[100,200,150,450]\n",
    "print(L1)"
   ]
  },
  {
   "cell_type": "code",
   "execution_count": 133,
   "id": "f4e525f8",
   "metadata": {},
   "outputs": [
    {
     "name": "stdout",
     "output_type": "stream",
     "text": [
      "['x', 'y', 'z']\n"
     ]
    }
   ],
   "source": [
    "L2=['x','y','z']\n",
    "print(L2)"
   ]
  },
  {
   "cell_type": "code",
   "execution_count": 134,
   "id": "239ab619",
   "metadata": {},
   "outputs": [
    {
     "name": "stdout",
     "output_type": "stream",
     "text": [
      "['John', 'Ann', 'Mark', 'Rick']\n"
     ]
    }
   ],
   "source": [
    "name=['John','Ann','Mark','Rick']\n",
    "print(name)"
   ]
  },
  {
   "cell_type": "code",
   "execution_count": 135,
   "id": "facc3f2f",
   "metadata": {},
   "outputs": [
    {
     "name": "stdout",
     "output_type": "stream",
     "text": [
      "[4, 'XYZ', 5.6, 'a']\n"
     ]
    }
   ],
   "source": [
    "L3=[4,'XYZ',5.6,'a']\n",
    "print(L3)"
   ]
  },
  {
   "cell_type": "code",
   "execution_count": 136,
   "id": "ceb7fb73",
   "metadata": {},
   "outputs": [],
   "source": [
    "fruits=(\"apple\",\"mango\",\"grapes\")"
   ]
  },
  {
   "cell_type": "code",
   "execution_count": 137,
   "id": "696796e8",
   "metadata": {},
   "outputs": [
    {
     "name": "stdout",
     "output_type": "stream",
     "text": [
      "('apple', 'mango', 'grapes')\n"
     ]
    }
   ],
   "source": [
    "print(fruits)"
   ]
  },
  {
   "cell_type": "code",
   "execution_count": 138,
   "id": "e46af418",
   "metadata": {},
   "outputs": [
    {
     "name": "stdout",
     "output_type": "stream",
     "text": [
      "apple\n"
     ]
    }
   ],
   "source": [
    "print(fruits[0])"
   ]
  },
  {
   "cell_type": "code",
   "execution_count": 139,
   "id": "c4e2e3b8",
   "metadata": {},
   "outputs": [
    {
     "name": "stdout",
     "output_type": "stream",
     "text": [
      "mango\n"
     ]
    }
   ],
   "source": [
    "print(fruits[1])"
   ]
  },
  {
   "cell_type": "code",
   "execution_count": 140,
   "id": "828fb149",
   "metadata": {},
   "outputs": [
    {
     "name": "stdout",
     "output_type": "stream",
     "text": [
      "grapes\n"
     ]
    }
   ],
   "source": [
    "print(fruits[2])"
   ]
  },
  {
   "cell_type": "code",
   "execution_count": 141,
   "id": "cfea087e",
   "metadata": {},
   "outputs": [
    {
     "name": "stdout",
     "output_type": "stream",
     "text": [
      "grapes\n"
     ]
    }
   ],
   "source": [
    "print(fruits[-1])"
   ]
  },
  {
   "cell_type": "code",
   "execution_count": 142,
   "id": "70138e8e",
   "metadata": {},
   "outputs": [
    {
     "name": "stdout",
     "output_type": "stream",
     "text": [
      "mango\n"
     ]
    }
   ],
   "source": [
    "print(fruits[-2])"
   ]
  },
  {
   "cell_type": "code",
   "execution_count": 143,
   "id": "7b057108",
   "metadata": {},
   "outputs": [
    {
     "name": "stdout",
     "output_type": "stream",
     "text": [
      "apple\n"
     ]
    }
   ],
   "source": [
    "print(fruits[-3])"
   ]
  },
  {
   "cell_type": "code",
   "execution_count": 144,
   "id": "556c4fa9",
   "metadata": {},
   "outputs": [
    {
     "name": "stdout",
     "output_type": "stream",
     "text": [
      "(1, 2, 3)\n",
      "('a', 'b', 'c')\n",
      "(1, 2, 3, 'a', 'b', 'c')\n"
     ]
    }
   ],
   "source": [
    "t1=(1,2,3)\n",
    "t2=('a','b','c')\n",
    "t3=t1+t2\n",
    "print(t1)\n",
    "print(t2)\n",
    "print(t3)"
   ]
  },
  {
   "cell_type": "code",
   "execution_count": 145,
   "id": "f1358f2e",
   "metadata": {},
   "outputs": [
    {
     "name": "stdout",
     "output_type": "stream",
     "text": [
      "(1, 2, 3)\n",
      "('a', 'b', 'c')\n"
     ]
    }
   ],
   "source": [
    "t1=(1,2,3)\n",
    "t2=('a','b','c')\n",
    "print(t1)\n",
    "print(t2)"
   ]
  },
  {
   "cell_type": "code",
   "execution_count": 146,
   "id": "5df25c7c",
   "metadata": {},
   "outputs": [
    {
     "name": "stdout",
     "output_type": "stream",
     "text": [
      "('a', 'b', 'c')\n",
      "('a', 'b', 'c', 'a', 'b', 'c')\n"
     ]
    }
   ],
   "source": [
    "t1=('a','b','c')\n",
    "t2=t1*2\n",
    "print(t1)\n",
    "print(t2)"
   ]
  },
  {
   "cell_type": "code",
   "execution_count": 147,
   "id": "9b992e9e",
   "metadata": {},
   "outputs": [
    {
     "name": "stdout",
     "output_type": "stream",
     "text": [
      "1\n"
     ]
    }
   ],
   "source": [
    "t1=('x','y','z')\n",
    "print(t1.index('y'))"
   ]
  },
  {
   "cell_type": "code",
   "execution_count": 148,
   "id": "e2683f7d",
   "metadata": {},
   "outputs": [
    {
     "name": "stdout",
     "output_type": "stream",
     "text": [
      "2\n"
     ]
    }
   ],
   "source": [
    "t1=('x','y','z','x')\n",
    "print(t1.count('x'))"
   ]
  },
  {
   "cell_type": "code",
   "execution_count": 149,
   "id": "8de6c936",
   "metadata": {},
   "outputs": [],
   "source": [
    "fruits=('apple','mango','grapes')"
   ]
  },
  {
   "cell_type": "code",
   "execution_count": 150,
   "id": "82ab64aa",
   "metadata": {},
   "outputs": [
    {
     "data": {
      "text/plain": [
       "('apple', 'mango', 'grapes')"
      ]
     },
     "execution_count": 150,
     "metadata": {},
     "output_type": "execute_result"
    }
   ],
   "source": [
    "fruits[0:]"
   ]
  },
  {
   "cell_type": "code",
   "execution_count": 151,
   "id": "50d629e9",
   "metadata": {},
   "outputs": [
    {
     "data": {
      "text/plain": [
       "('mango', 'grapes')"
      ]
     },
     "execution_count": 151,
     "metadata": {},
     "output_type": "execute_result"
    }
   ],
   "source": [
    "fruits[1:]"
   ]
  },
  {
   "cell_type": "code",
   "execution_count": 152,
   "id": "446c6a33",
   "metadata": {},
   "outputs": [
    {
     "data": {
      "text/plain": [
       "'grapes'"
      ]
     },
     "execution_count": 152,
     "metadata": {},
     "output_type": "execute_result"
    }
   ],
   "source": [
    "fruits[-1]"
   ]
  },
  {
   "cell_type": "code",
   "execution_count": 153,
   "id": "cb28936f",
   "metadata": {},
   "outputs": [
    {
     "data": {
      "text/plain": [
       "'apple'"
      ]
     },
     "execution_count": 153,
     "metadata": {},
     "output_type": "execute_result"
    }
   ],
   "source": [
    "fruits[-3]"
   ]
  },
  {
   "cell_type": "code",
   "execution_count": 154,
   "id": "4797da05",
   "metadata": {},
   "outputs": [
    {
     "name": "stdout",
     "output_type": "stream",
     "text": [
      "(1, 2, 3)\n",
      "('a', 'b', 'c')\n",
      "('Rose', 'Lily', 'Jasmin')\n",
      "(1, 4, 5, 'orange')\n"
     ]
    }
   ],
   "source": [
    "t1=(1,2,3)\n",
    "t2=('a','b','c')\n",
    "t3=(\"Rose\",\"Lily\",\"Jasmin\")\n",
    "t4= (1,4,5,\"orange\")\n",
    "print(t1)\n",
    "print(t2)\n",
    "print(t3)\n",
    "print(t4)"
   ]
  },
  {
   "cell_type": "code",
   "execution_count": 155,
   "id": "27c077f0",
   "metadata": {},
   "outputs": [
    {
     "name": "stdout",
     "output_type": "stream",
     "text": [
      "{'grapes', 'apple', 'mango'}\n"
     ]
    }
   ],
   "source": [
    "fruits={'apple','mango','grapes'}\n",
    "print(fruits)"
   ]
  },
  {
   "cell_type": "code",
   "execution_count": 156,
   "id": "a17e3193",
   "metadata": {},
   "outputs": [
    {
     "name": "stdout",
     "output_type": "stream",
     "text": [
      "{1, 2, 3, 4, 5}\n"
     ]
    }
   ],
   "source": [
    "x={1,2,3,4,5}\n",
    "print(x)"
   ]
  },
  {
   "cell_type": "code",
   "execution_count": 157,
   "id": "3571405d",
   "metadata": {},
   "outputs": [
    {
     "name": "stdout",
     "output_type": "stream",
     "text": [
      "{'b', 'a', 'c', 'd', 'e'}\n"
     ]
    }
   ],
   "source": [
    "y={'a','b','c','d','e'}\n",
    "print(y)"
   ]
  },
  {
   "cell_type": "code",
   "execution_count": 158,
   "id": "ae635a61",
   "metadata": {},
   "outputs": [
    {
     "name": "stdout",
     "output_type": "stream",
     "text": [
      "grapes\n",
      "apple\n",
      "mango\n"
     ]
    }
   ],
   "source": [
    "fruits={'apple','mango','grapes'}\n",
    "for x in fruits:\n",
    "    print(x)"
   ]
  },
  {
   "cell_type": "code",
   "execution_count": 159,
   "id": "388d4150",
   "metadata": {},
   "outputs": [
    {
     "name": "stdout",
     "output_type": "stream",
     "text": [
      "{'grapes', 'apple', 'orange', 'mango'}\n"
     ]
    }
   ],
   "source": [
    "fruits={'apple','mango','grapes'}\n",
    "fruits.add('orange')\n",
    "print(fruits)"
   ]
  },
  {
   "cell_type": "code",
   "execution_count": 160,
   "id": "7bc51cb1",
   "metadata": {},
   "outputs": [
    {
     "name": "stdout",
     "output_type": "stream",
     "text": [
      "{'pear', 'cherry', 'mango', 'grapes', 'apple'}\n",
      "{'pear', 'cherry'}\n"
     ]
    }
   ],
   "source": [
    "fruits1={'apple','mango','grapes'}\n",
    "fruits2={'pear','cherry'}\n",
    "fruits1.update(fruits2)\n",
    "print(fruits1)\n",
    "print(fruits2)"
   ]
  },
  {
   "cell_type": "code",
   "execution_count": 161,
   "id": "f62103fb",
   "metadata": {},
   "outputs": [
    {
     "name": "stdout",
     "output_type": "stream",
     "text": [
      "{'orange', 'mango', 'grapes', 'apple', 'strawberry'}\n"
     ]
    }
   ],
   "source": [
    "fruits1={'apple','mango','grapes'}\n",
    "List1={'strawberry','orange'}\n",
    "fruits1.update(List1)\n",
    "print(fruits1)"
   ]
  },
  {
   "cell_type": "code",
   "execution_count": 162,
   "id": "3e3148c6",
   "metadata": {},
   "outputs": [
    {
     "name": "stdout",
     "output_type": "stream",
     "text": [
      "{'grapes', 'apple', 'orange'}\n"
     ]
    }
   ],
   "source": [
    "fruits1={'apple','mango','grapes'}\n",
    "fruits.remove('mango')\n",
    "print(fruits)"
   ]
  },
  {
   "cell_type": "code",
   "execution_count": 163,
   "id": "6a45d961",
   "metadata": {},
   "outputs": [
    {
     "data": {
      "text/plain": [
       "'grapes'"
      ]
     },
     "execution_count": 163,
     "metadata": {},
     "output_type": "execute_result"
    }
   ],
   "source": [
    "fruits1={'apple','mango','grapes'}\n",
    "fruits.pop()"
   ]
  },
  {
   "cell_type": "code",
   "execution_count": 164,
   "id": "c99bde9d",
   "metadata": {},
   "outputs": [
    {
     "name": "stdout",
     "output_type": "stream",
     "text": [
      "set()\n"
     ]
    }
   ],
   "source": [
    "fruits.clear()\n",
    "print(fruits)"
   ]
  },
  {
   "cell_type": "code",
   "execution_count": 165,
   "id": "465c8e79",
   "metadata": {},
   "outputs": [
    {
     "ename": "NameError",
     "evalue": "name 'fruits' is not defined",
     "output_type": "error",
     "traceback": [
      "\u001b[1;31m---------------------------------------------------------------------------\u001b[0m",
      "\u001b[1;31mNameError\u001b[0m                                 Traceback (most recent call last)",
      "Cell \u001b[1;32mIn[165], line 3\u001b[0m\n\u001b[0;32m      1\u001b[0m fruits\u001b[38;5;241m=\u001b[39m{\u001b[38;5;124m\"\u001b[39m\u001b[38;5;124mapple\u001b[39m\u001b[38;5;124m\"\u001b[39m,\u001b[38;5;124m\"\u001b[39m\u001b[38;5;124mmango\u001b[39m\u001b[38;5;124m\"\u001b[39m,\u001b[38;5;124m\"\u001b[39m\u001b[38;5;124mgrapes\u001b[39m\u001b[38;5;124m\"\u001b[39m}\n\u001b[0;32m      2\u001b[0m \u001b[38;5;28;01mdel\u001b[39;00m(fruits)\n\u001b[1;32m----> 3\u001b[0m \u001b[38;5;28mprint\u001b[39m(\u001b[43mfruits\u001b[49m)\n",
      "\u001b[1;31mNameError\u001b[0m: name 'fruits' is not defined"
     ]
    }
   ],
   "source": [
    "fruits={\"apple\",\"mango\",\"grapes\"}\n",
    "del(fruits)\n",
    "print(fruits)"
   ]
  },
  {
   "cell_type": "code",
   "execution_count": 166,
   "id": "449f9bf0",
   "metadata": {},
   "outputs": [
    {
     "name": "stdout",
     "output_type": "stream",
     "text": [
      "{'apple'}\n",
      "{'pear', 'apple'}\n"
     ]
    }
   ],
   "source": [
    "fruits1={'apple','mango','grapes'}\n",
    "fruits2={'pear','apple'}\n",
    "fruits1.intersection_update(fruits2)\n",
    "print(fruits1)\n",
    "print(fruits2)"
   ]
  },
  {
   "cell_type": "code",
   "execution_count": 167,
   "id": "690f365b",
   "metadata": {},
   "outputs": [
    {
     "name": "stdout",
     "output_type": "stream",
     "text": [
      "{'grapes', 'apple', 'mango'}\n",
      "{'pear', 'apple', 'cherry'}\n",
      "{'pear', 'cherry', 'mango', 'grapes', 'apple'}\n"
     ]
    }
   ],
   "source": [
    "fruits1={'apple','mango','grapes'}\n",
    "fruits2={'pear','apple','cherry'}\n",
    "fruits3=fruits1.union(fruits2)\n",
    "print(fruits1)\n",
    "print(fruits2)\n",
    "print(fruits3)"
   ]
  },
  {
   "cell_type": "code",
   "execution_count": 168,
   "id": "d805fe30",
   "metadata": {},
   "outputs": [
    {
     "name": "stdout",
     "output_type": "stream",
     "text": [
      "{'pear', 'cherry', 'mango', 'grapes', 'apple'}\n",
      "{'pear', 'apple', 'cherry'}\n"
     ]
    }
   ],
   "source": [
    "fruits1={'apple','mango','grapes'}\n",
    "fruits2={'pear','apple','cherry'}\n",
    "fruits1.update(fruits2)\n",
    "print(fruits1)\n",
    "print(fruits2)"
   ]
  },
  {
   "cell_type": "code",
   "execution_count": 169,
   "id": "a81be7c1",
   "metadata": {},
   "outputs": [
    {
     "name": "stdout",
     "output_type": "stream",
     "text": [
      "{'apple'}\n",
      "{'pear', 'apple', 'cherry'}\n"
     ]
    }
   ],
   "source": [
    "fruits1={'apple','mango','grapes'}\n",
    "fruits2={'pear','apple','cherry'}\n",
    "fruits1.intersection_update(fruits2)\n",
    "print(fruits1)\n",
    "print(fruits2)"
   ]
  },
  {
   "cell_type": "code",
   "execution_count": 170,
   "id": "b2c27960",
   "metadata": {},
   "outputs": [
    {
     "name": "stdout",
     "output_type": "stream",
     "text": [
      "{'grapes', 'apple', 'mango'}\n",
      "{'pear', 'apple'}\n",
      "{'apple'}\n"
     ]
    }
   ],
   "source": [
    "fruits1={'apple','mango','grapes'}\n",
    "fruits2={'pear','apple'}\n",
    "fruits3=fruits1.intersection(fruits2)\n",
    "print(fruits1)\n",
    "print(fruits2)\n",
    "print(fruits3)"
   ]
  },
  {
   "cell_type": "code",
   "execution_count": 171,
   "id": "02ce9258",
   "metadata": {},
   "outputs": [
    {
     "name": "stdout",
     "output_type": "stream",
     "text": [
      "{'grapes', 'pear', 'mango'}\n",
      "{'pear', 'apple'}\n"
     ]
    }
   ],
   "source": [
    "fruits1={'apple','mango','grapes'}\n",
    "fruits2={'pear','apple'}\n",
    "fruits1.symmetric_difference_update(fruits2)\n",
    "print(fruits1)\n",
    "print(fruits2)"
   ]
  },
  {
   "cell_type": "code",
   "execution_count": 172,
   "id": "8be527b8",
   "metadata": {},
   "outputs": [
    {
     "name": "stdout",
     "output_type": "stream",
     "text": [
      "{'grapes', 'apple', 'mango'}\n",
      "{'pear', 'apple'}\n",
      "{'pear', 'mango', 'grapes'}\n"
     ]
    }
   ],
   "source": [
    "fruits1={'apple','mango','grapes'}\n",
    "fruits2={'pear','apple'}\n",
    "fruits3=fruits1.symmetric_difference(fruits2)\n",
    "print(fruits1)\n",
    "print(fruits2)\n",
    "print(fruits3)"
   ]
  },
  {
   "cell_type": "code",
   "execution_count": 173,
   "id": "5d196f7e",
   "metadata": {},
   "outputs": [
    {
     "name": "stdout",
     "output_type": "stream",
     "text": [
      "['False', 'None', 'True', '__peg_parser__', 'and', 'as', 'assert', 'async', 'await', 'break', 'class', 'continue', 'def', 'del', 'elif', 'else', 'except', 'finally', 'for', 'from', 'global', 'if', 'import', 'in', 'is', 'lambda', 'nonlocal', 'not', 'or', 'pass', 'raise', 'return', 'try', 'while', 'with', 'yield']\n"
     ]
    }
   ],
   "source": [
    "import keyword\n",
    "s=keyword.kwlist\n",
    "print(s)"
   ]
  },
  {
   "cell_type": "code",
   "execution_count": 174,
   "id": "1225ad69",
   "metadata": {},
   "outputs": [
    {
     "name": "stdout",
     "output_type": "stream",
     "text": [
      "Hello\n"
     ]
    }
   ],
   "source": [
    "print(\"Hello\")"
   ]
  },
  {
   "cell_type": "code",
   "execution_count": 175,
   "id": "0dfe85fd",
   "metadata": {},
   "outputs": [
    {
     "name": "stdout",
     "output_type": "stream",
     "text": [
      "Hello\n",
      "Hello\n",
      "Hello\n",
      "Hello\n",
      "Hello\n",
      "Hello\n"
     ]
    }
   ],
   "source": [
    "print(\"Hello\")\n",
    "print(\"Hello\")\n",
    "print(\"Hello\")\n",
    "print(\"Hello\")\n",
    "print(\"Hello\")\n",
    "print(\"Hello\")"
   ]
  },
  {
   "cell_type": "code",
   "execution_count": 176,
   "id": "45c9c50e",
   "metadata": {},
   "outputs": [
    {
     "name": "stdout",
     "output_type": "stream",
     "text": [
      "apple\n",
      "mango\n",
      "banana\n"
     ]
    }
   ],
   "source": [
    "fruits=(\"apple\",\"mango\",\"banana\")\n",
    "\n",
    "for i in fruits:\n",
    "    print(i)"
   ]
  },
  {
   "cell_type": "code",
   "execution_count": 177,
   "id": "c5f599bf",
   "metadata": {},
   "outputs": [
    {
     "name": "stdout",
     "output_type": "stream",
     "text": [
      "0\n",
      "1\n",
      "2\n",
      "3\n",
      "4\n",
      "5\n"
     ]
    }
   ],
   "source": [
    "for i in range(6):\n",
    "    print(i)"
   ]
  },
  {
   "cell_type": "code",
   "execution_count": 178,
   "id": "9564e0f0",
   "metadata": {},
   "outputs": [
    {
     "name": "stdout",
     "output_type": "stream",
     "text": [
      "2\n",
      "3\n",
      "4\n",
      "5\n"
     ]
    }
   ],
   "source": [
    "for i in range(2,6):\n",
    "    print(i)"
   ]
  },
  {
   "cell_type": "code",
   "execution_count": 179,
   "id": "a6edba15",
   "metadata": {},
   "outputs": [
    {
     "name": "stdout",
     "output_type": "stream",
     "text": [
      "1\n",
      "3\n",
      "5\n",
      "7\n",
      "9\n",
      "11\n",
      "13\n",
      "15\n",
      "17\n",
      "19\n"
     ]
    }
   ],
   "source": [
    "for i in range(1,20,2):\n",
    "    print(i)"
   ]
  },
  {
   "cell_type": "code",
   "execution_count": 180,
   "id": "6ee6aa03",
   "metadata": {},
   "outputs": [
    {
     "name": "stdout",
     "output_type": "stream",
     "text": [
      "0\n",
      "1\n",
      "2\n",
      "3\n",
      "4\n",
      "5\n"
     ]
    }
   ],
   "source": [
    "for i in range(6):\n",
    "    print(i)"
   ]
  },
  {
   "cell_type": "code",
   "execution_count": 181,
   "id": "735d11c4",
   "metadata": {},
   "outputs": [
    {
     "name": "stdout",
     "output_type": "stream",
     "text": [
      "2\n",
      "3\n",
      "4\n",
      "5\n"
     ]
    }
   ],
   "source": [
    "for i in range(2,6):\n",
    "    print(i)"
   ]
  },
  {
   "cell_type": "code",
   "execution_count": 182,
   "id": "7961d438",
   "metadata": {},
   "outputs": [
    {
     "name": "stdout",
     "output_type": "stream",
     "text": [
      "1\n",
      "3\n",
      "5\n",
      "7\n",
      "9\n",
      "11\n",
      "13\n",
      "15\n",
      "17\n",
      "19\n"
     ]
    }
   ],
   "source": [
    "for i in range(1,20,2):\n",
    "    print(i)"
   ]
  },
  {
   "cell_type": "code",
   "execution_count": 183,
   "id": "ad59ecb7",
   "metadata": {},
   "outputs": [
    {
     "name": "stdout",
     "output_type": "stream",
     "text": [
      "Enter Number99\n",
      "0\n",
      "1\n",
      "2\n",
      "3\n",
      "4\n",
      "5\n",
      "6\n",
      "7\n",
      "8\n",
      "9\n",
      "10\n",
      "11\n",
      "12\n",
      "13\n",
      "14\n",
      "15\n",
      "16\n",
      "17\n",
      "18\n",
      "19\n",
      "20\n",
      "21\n",
      "22\n",
      "23\n",
      "24\n",
      "25\n",
      "26\n",
      "27\n",
      "28\n",
      "29\n",
      "30\n",
      "31\n",
      "32\n",
      "33\n",
      "34\n",
      "35\n",
      "36\n",
      "37\n",
      "38\n",
      "39\n",
      "40\n",
      "41\n",
      "42\n",
      "43\n",
      "44\n",
      "45\n",
      "46\n",
      "47\n",
      "48\n",
      "49\n",
      "50\n",
      "51\n",
      "52\n",
      "53\n",
      "54\n",
      "55\n",
      "56\n",
      "57\n",
      "58\n",
      "59\n",
      "60\n",
      "61\n",
      "62\n",
      "63\n",
      "64\n",
      "65\n",
      "66\n",
      "67\n",
      "68\n",
      "69\n",
      "70\n",
      "71\n",
      "72\n",
      "73\n",
      "74\n",
      "75\n",
      "76\n",
      "77\n",
      "78\n",
      "79\n",
      "80\n",
      "81\n",
      "82\n",
      "83\n",
      "84\n",
      "85\n",
      "86\n",
      "87\n",
      "88\n",
      "89\n",
      "90\n",
      "91\n",
      "92\n",
      "93\n",
      "94\n",
      "95\n",
      "96\n",
      "97\n",
      "98\n"
     ]
    }
   ],
   "source": [
    "n=input(\"Enter Number\")\n",
    "n=int(n)\n",
    "\n",
    "for i in range(n):\n",
    "    print(i)"
   ]
  },
  {
   "cell_type": "code",
   "execution_count": 184,
   "id": "4f07b580",
   "metadata": {},
   "outputs": [
    {
     "name": "stdout",
     "output_type": "stream",
     "text": [
      "Enter Number12\n",
      "1\n",
      "2\n",
      "3\n",
      "4\n",
      "5\n",
      "6\n",
      "7\n",
      "8\n",
      "9\n",
      "10\n",
      "11\n"
     ]
    }
   ],
   "source": [
    "n=input(\"Enter Number\")\n",
    "n=int(n)\n",
    "\n",
    "for i in range(1,n):\n",
    "    print(i)"
   ]
  },
  {
   "cell_type": "code",
   "execution_count": 185,
   "id": "8a479dab",
   "metadata": {},
   "outputs": [
    {
     "name": "stdout",
     "output_type": "stream",
     "text": [
      "Enter Number2\n",
      "0\n",
      "1\n"
     ]
    }
   ],
   "source": [
    "n=input(\"Enter Number\")\n",
    "n=int(n)\n",
    "\n",
    "for i in range(n):\n",
    "    print(i)"
   ]
  },
  {
   "cell_type": "code",
   "execution_count": 186,
   "id": "a0b7bc45",
   "metadata": {},
   "outputs": [
    {
     "name": "stdout",
     "output_type": "stream",
     "text": [
      "1\n",
      "2\n",
      "3\n",
      "4\n",
      "5\n",
      "END\n"
     ]
    }
   ],
   "source": [
    "i=1\n",
    "while i<=5:\n",
    "    print(i)\n",
    "    i=i+1\n",
    "    \n",
    "print(\"END\")  "
   ]
  },
  {
   "cell_type": "code",
   "execution_count": 188,
   "id": "5fd7323b",
   "metadata": {},
   "outputs": [
    {
     "ename": "SyntaxError",
     "evalue": "invalid syntax (1782521602.py, line 4)",
     "output_type": "error",
     "traceback": [
      "\u001b[1;36m  Cell \u001b[1;32mIn[188], line 4\u001b[1;36m\u001b[0m\n\u001b[1;33m    i=++\u001b[0m\n\u001b[1;37m        ^\u001b[0m\n\u001b[1;31mSyntaxError\u001b[0m\u001b[1;31m:\u001b[0m invalid syntax\n"
     ]
    }
   ],
   "source": [
    "i=1\n",
    "while i<=5:\n",
    "    print(i)\n",
    "    i++\n",
    "    \n",
    "print(\"END\") "
   ]
  },
  {
   "cell_type": "code",
   "execution_count": 189,
   "id": "26a7a2b7",
   "metadata": {},
   "outputs": [
    {
     "name": "stdout",
     "output_type": "stream",
     "text": [
      "1\n",
      "2\n",
      "3\n",
      "4\n",
      "5\n",
      "END\n"
     ]
    }
   ],
   "source": [
    "i=1\n",
    "while i<=5:\n",
    "    print(i)\n",
    "    i=i+1\n",
    "    \n",
    "print(\"END\") "
   ]
  },
  {
   "cell_type": "code",
   "execution_count": 190,
   "id": "933879a3",
   "metadata": {},
   "outputs": [
    {
     "name": "stdout",
     "output_type": "stream",
     "text": [
      "1\n",
      "2\n",
      "3\n",
      "4\n",
      "5\n",
      "END\n"
     ]
    }
   ],
   "source": [
    "i=1\n",
    "while i<6:\n",
    "    print(i)\n",
    "    i=i+1\n",
    "    \n",
    "print(\"END\") "
   ]
  },
  {
   "cell_type": "code",
   "execution_count": 191,
   "id": "8266a7d5",
   "metadata": {},
   "outputs": [
    {
     "name": "stdout",
     "output_type": "stream",
     "text": [
      "1\n",
      "2\n",
      "3\n",
      "4\n",
      "5\n",
      "END\n"
     ]
    }
   ],
   "source": [
    "for i in range(1,11):\n",
    "    print(i)\n",
    "    if i==5:\n",
    "        break\n",
    "        \n",
    "print(\"END\")  "
   ]
  },
  {
   "cell_type": "code",
   "execution_count": 192,
   "id": "4aa87e26",
   "metadata": {},
   "outputs": [
    {
     "name": "stdout",
     "output_type": "stream",
     "text": [
      "1\n",
      "2\n",
      "3\n",
      "4\n",
      "6\n",
      "7\n",
      "8\n",
      "9\n",
      "10\n",
      "END\n"
     ]
    }
   ],
   "source": [
    "for i in range(1,11):\n",
    "    if i==5:\n",
    "        continue\n",
    "    print(i)\n",
    "        \n",
    "print(\"END\")  "
   ]
  },
  {
   "cell_type": "code",
   "execution_count": 193,
   "id": "9654dc3f",
   "metadata": {},
   "outputs": [
    {
     "name": "stdout",
     "output_type": "stream",
     "text": [
      "1\n",
      "2\n",
      "3\n",
      "4\n",
      "6\n",
      "8\n",
      "9\n",
      "10\n",
      "END\n"
     ]
    }
   ],
   "source": [
    "for i in range(1,11):\n",
    "    if i==5:\n",
    "        continue\n",
    "    if i==7:\n",
    "        continue\n",
    "    print(i)\n",
    "        \n",
    "print(\"END\") "
   ]
  },
  {
   "cell_type": "code",
   "execution_count": 194,
   "id": "a7532039",
   "metadata": {},
   "outputs": [
    {
     "name": "stdout",
     "output_type": "stream",
     "text": [
      "1\n",
      "2\n",
      "3\n",
      "4\n",
      "6\n",
      "8\n",
      "9\n",
      "10\n",
      "END\n"
     ]
    }
   ],
   "source": [
    "for i in range(1,11):\n",
    "        if i==5 or i==7:\n",
    "            continue\n",
    "            \n",
    "        print(i)\n",
    "            \n",
    "print(\"END\")    "
   ]
  },
  {
   "cell_type": "code",
   "execution_count": 195,
   "id": "79f7bdc7",
   "metadata": {},
   "outputs": [
    {
     "name": "stdout",
     "output_type": "stream",
     "text": [
      "20\n"
     ]
    }
   ],
   "source": [
    "\"\"\"\n",
    "This is session 6\n",
    "Welcome:\n",
    "Pythone Programming\n",
    "\n",
    "\"\"\"\n",
    "a=20\n",
    "print(20)"
   ]
  },
  {
   "cell_type": "code",
   "execution_count": 196,
   "id": "ec4d97e4",
   "metadata": {},
   "outputs": [
    {
     "name": "stdout",
     "output_type": "stream",
     "text": [
      "4.47213595499958\n"
     ]
    }
   ],
   "source": [
    "import math\n",
    "\n",
    "a=20 \n",
    "s=math.sqrt(20)\n",
    "print(s)"
   ]
  },
  {
   "cell_type": "code",
   "execution_count": 197,
   "id": "30c01fae",
   "metadata": {},
   "outputs": [
    {
     "name": "stdout",
     "output_type": "stream",
     "text": [
      "16.0\n"
     ]
    }
   ],
   "source": [
    "x=2\n",
    "y=4\n",
    "p=math.pow(x,y)\n",
    "print(p)"
   ]
  },
  {
   "cell_type": "code",
   "execution_count": 198,
   "id": "2e861a6e",
   "metadata": {},
   "outputs": [
    {
     "name": "stdout",
     "output_type": "stream",
     "text": [
      "1.2599210498948732\n"
     ]
    }
   ],
   "source": [
    "m=2**(1/3)\n",
    "print(m)"
   ]
  },
  {
   "cell_type": "code",
   "execution_count": 199,
   "id": "958bf92b",
   "metadata": {},
   "outputs": [
    {
     "name": "stdout",
     "output_type": "stream",
     "text": [
      "1.4142135623730951\n"
     ]
    }
   ],
   "source": [
    "n=2**(1/2)\n",
    "print(n)"
   ]
  },
  {
   "cell_type": "code",
   "execution_count": 200,
   "id": "8bd08ab9",
   "metadata": {},
   "outputs": [
    {
     "ename": "SyntaxError",
     "evalue": "invalid syntax (2080227725.py, line 3)",
     "output_type": "error",
     "traceback": [
      "\u001b[1;36m  Cell \u001b[1;32mIn[200], line 3\u001b[1;36m\u001b[0m\n\u001b[1;33m    z=x raised to power y\u001b[0m\n\u001b[1;37m        ^\u001b[0m\n\u001b[1;31mSyntaxError\u001b[0m\u001b[1;31m:\u001b[0m invalid syntax\n"
     ]
    }
   ],
   "source": [
    "x=3\n",
    "y=4\n",
    "z=x raised to power y"
   ]
  },
  {
   "cell_type": "code",
   "execution_count": 201,
   "id": "52711bfe",
   "metadata": {},
   "outputs": [
    {
     "name": "stdout",
     "output_type": "stream",
     "text": [
      "Enter x12\n",
      "Enter y3\n",
      "1728\n"
     ]
    }
   ],
   "source": [
    "x=input(\"Enter x\")\n",
    "y=input(\"Enter y\")\n",
    "\n",
    "x=int(x)\n",
    "y=int(y)\n",
    "\n",
    "z=1\n",
    "\n",
    "for i in range(y):\n",
    "    z=z*x\n",
    "    \n",
    "print(z)"
   ]
  },
  {
   "cell_type": "code",
   "execution_count": 202,
   "id": "97d1569c",
   "metadata": {},
   "outputs": [
    {
     "name": "stdout",
     "output_type": "stream",
     "text": [
      "Enter x6\n",
      "Enter y9\n",
      "6\n",
      "36\n",
      "216\n",
      "1296\n",
      "7776\n",
      "46656\n",
      "279936\n",
      "1679616\n",
      "10077696\n"
     ]
    }
   ],
   "source": [
    "x=input(\"Enter x\")\n",
    "y=input(\"Enter y\")\n",
    "\n",
    "x=int(x)\n",
    "y=int(y)\n",
    "\n",
    "z=1\n",
    "\n",
    "for i in range(y):\n",
    "    z=z*x\n",
    "    print(z) "
   ]
  },
  {
   "cell_type": "code",
   "execution_count": 203,
   "id": "c6ccac0d",
   "metadata": {},
   "outputs": [],
   "source": [
    "student={\"Name\":\"John\",\"Roll_No\":90,\"Marks\":90}"
   ]
  },
  {
   "cell_type": "code",
   "execution_count": 204,
   "id": "263591d6",
   "metadata": {},
   "outputs": [
    {
     "name": "stdout",
     "output_type": "stream",
     "text": [
      "{'Name': 'John', 'Roll_No': 90, 'Marks': 90}\n"
     ]
    }
   ],
   "source": [
    "print(student)"
   ]
  },
  {
   "cell_type": "code",
   "execution_count": 205,
   "id": "6847562b",
   "metadata": {},
   "outputs": [],
   "source": [
    "x=student.get(\"Name\")"
   ]
  },
  {
   "cell_type": "code",
   "execution_count": 206,
   "id": "226ab4a0",
   "metadata": {},
   "outputs": [
    {
     "name": "stdout",
     "output_type": "stream",
     "text": [
      "John\n"
     ]
    }
   ],
   "source": [
    "print(x)"
   ]
  },
  {
   "cell_type": "code",
   "execution_count": 207,
   "id": "b6a09917",
   "metadata": {},
   "outputs": [],
   "source": [
    "m=student.keys()"
   ]
  },
  {
   "cell_type": "code",
   "execution_count": 208,
   "id": "2ee75ee0",
   "metadata": {},
   "outputs": [
    {
     "name": "stdout",
     "output_type": "stream",
     "text": [
      "dict_keys(['Name', 'Roll_No', 'Marks'])\n"
     ]
    }
   ],
   "source": [
    "print(m)"
   ]
  },
  {
   "cell_type": "code",
   "execution_count": 209,
   "id": "a279f95f",
   "metadata": {},
   "outputs": [
    {
     "name": "stdout",
     "output_type": "stream",
     "text": [
      "dict_values(['John', 90, 90])\n"
     ]
    }
   ],
   "source": [
    "k=student.values()\n",
    "print(k)"
   ]
  },
  {
   "cell_type": "code",
   "execution_count": 210,
   "id": "06a3f962",
   "metadata": {},
   "outputs": [],
   "source": [
    "student['Mark']='First Year'"
   ]
  },
  {
   "cell_type": "code",
   "execution_count": 211,
   "id": "1027b910",
   "metadata": {},
   "outputs": [
    {
     "data": {
      "text/plain": [
       "{'Name': 'John', 'Roll_No': 90, 'Marks': 90, 'Mark': 'First Year'}"
      ]
     },
     "execution_count": 211,
     "metadata": {},
     "output_type": "execute_result"
    }
   ],
   "source": [
    "student"
   ]
  },
  {
   "cell_type": "code",
   "execution_count": 212,
   "id": "c12371a5",
   "metadata": {},
   "outputs": [],
   "source": [
    "student['Marks']=60"
   ]
  },
  {
   "cell_type": "code",
   "execution_count": 213,
   "id": "f9b75377",
   "metadata": {},
   "outputs": [
    {
     "data": {
      "text/plain": [
       "{'Name': 'John', 'Roll_No': 90, 'Marks': 60, 'Mark': 'First Year'}"
      ]
     },
     "execution_count": 213,
     "metadata": {},
     "output_type": "execute_result"
    }
   ],
   "source": [
    "student"
   ]
  },
  {
   "cell_type": "code",
   "execution_count": 214,
   "id": "a966cb3b",
   "metadata": {},
   "outputs": [
    {
     "name": "stdout",
     "output_type": "stream",
     "text": [
      "dict_items([('Name', 'John'), ('Roll_No', 90), ('Marks', 60), ('Mark', 'First Year')])\n"
     ]
    }
   ],
   "source": [
    "h=student.items()\n",
    "print(h)"
   ]
  },
  {
   "cell_type": "code",
   "execution_count": 215,
   "id": "17bf8a78",
   "metadata": {},
   "outputs": [
    {
     "name": "stdout",
     "output_type": "stream",
     "text": [
      "{'Name': 'Rick', 'Roll_No': 90, 'Marks': 60, 'Mark': 'First Year'}\n"
     ]
    }
   ],
   "source": [
    "student.update({'Name':'Rick'})\n",
    "print(student)"
   ]
  },
  {
   "cell_type": "code",
   "execution_count": 216,
   "id": "fa3fa378",
   "metadata": {},
   "outputs": [
    {
     "name": "stdout",
     "output_type": "stream",
     "text": [
      "{'Name': 'Rick', 'Roll_No': 90, 'Mark': 'First Year'}\n"
     ]
    }
   ],
   "source": [
    "student.pop('Marks')\n",
    "print(student)"
   ]
  },
  {
   "cell_type": "code",
   "execution_count": 217,
   "id": "a74da074",
   "metadata": {},
   "outputs": [
    {
     "name": "stdout",
     "output_type": "stream",
     "text": [
      "{'Name': 'Rick', 'Roll_No': 90}\n"
     ]
    }
   ],
   "source": [
    "student.popitem()\n",
    "print(student)"
   ]
  },
  {
   "cell_type": "code",
   "execution_count": 218,
   "id": "14983bfd",
   "metadata": {},
   "outputs": [
    {
     "name": "stdout",
     "output_type": "stream",
     "text": [
      "{}\n"
     ]
    }
   ],
   "source": [
    "student.clear()\n",
    "print(student)"
   ]
  },
  {
   "cell_type": "code",
   "execution_count": 219,
   "id": "98672f0c",
   "metadata": {},
   "outputs": [],
   "source": [
    "del student"
   ]
  },
  {
   "cell_type": "code",
   "execution_count": 220,
   "id": "64b12df1",
   "metadata": {},
   "outputs": [
    {
     "ename": "NameError",
     "evalue": "name 'student' is not defined",
     "output_type": "error",
     "traceback": [
      "\u001b[1;31m---------------------------------------------------------------------------\u001b[0m",
      "\u001b[1;31mNameError\u001b[0m                                 Traceback (most recent call last)",
      "Cell \u001b[1;32mIn[220], line 1\u001b[0m\n\u001b[1;32m----> 1\u001b[0m \u001b[43mstudent\u001b[49m\n",
      "\u001b[1;31mNameError\u001b[0m: name 'student' is not defined"
     ]
    }
   ],
   "source": [
    "student"
   ]
  },
  {
   "cell_type": "code",
   "execution_count": 221,
   "id": "451a5ca3",
   "metadata": {},
   "outputs": [
    {
     "name": "stdout",
     "output_type": "stream",
     "text": [
      "{'Name': 'John', 'Roll_No': 90, 'Marks': 90}\n",
      "{'Name': 'John', 'Roll_No': 90, 'Marks': 90}\n"
     ]
    }
   ],
   "source": [
    "student={\"Name\":\"John\",\"Roll_No\":90,\"Marks\":90}\n",
    "\n",
    "d1=student.copy()\n",
    "print(d1)\n",
    "print(student)"
   ]
  },
  {
   "cell_type": "code",
   "execution_count": 222,
   "id": "edd808ee",
   "metadata": {},
   "outputs": [
    {
     "name": "stdout",
     "output_type": "stream",
     "text": [
      "{1: 10, 2: 20, 3: 30}\n"
     ]
    }
   ],
   "source": [
    "Dict1={1:10,2:20,3:30}\n",
    "print(Dict1)"
   ]
  },
  {
   "cell_type": "code",
   "execution_count": 223,
   "id": "8d587739",
   "metadata": {},
   "outputs": [
    {
     "name": "stdout",
     "output_type": "stream",
     "text": [
      "{1: 20, 2: 20, 3: 30}\n"
     ]
    }
   ],
   "source": [
    "Dict1={1:20,2:20,3:30}\n",
    "print(Dict1)"
   ]
  },
  {
   "cell_type": "code",
   "execution_count": 224,
   "id": "d31e0108",
   "metadata": {},
   "outputs": [
    {
     "name": "stdout",
     "output_type": "stream",
     "text": [
      "Enter side 14\n",
      "Enter side 25\n",
      "Enter side 36\n",
      "7.5\n",
      "Area of traingle is 9.921567416492215\n"
     ]
    }
   ],
   "source": [
    "a=input('Enter side 1')\n",
    "b=input('Enter side 2')\n",
    "c=input('Enter side 3')\n",
    "\n",
    "a=int(a)\n",
    "b=int(b)\n",
    "c=int(c)\n",
    "\n",
    "s=(a+b+c)/2\n",
    "print(s)\n",
    "\n",
    "area=(s*(s-a)*(s-b)*(s-c))**0.5\n",
    "\n",
    "print(\"Area of traingle is\", area)"
   ]
  },
  {
   "cell_type": "code",
   "execution_count": 225,
   "id": "d000a285",
   "metadata": {},
   "outputs": [
    {
     "name": "stdout",
     "output_type": "stream",
     "text": [
      "7.5\n"
     ]
    }
   ],
   "source": [
    "s=(a+b+c)/2\n",
    "print(s)"
   ]
  },
  {
   "cell_type": "code",
   "execution_count": 226,
   "id": "10826093",
   "metadata": {},
   "outputs": [
    {
     "name": "stdout",
     "output_type": "stream",
     "text": [
      "Enter number9\n",
      "9 is Positive\n"
     ]
    }
   ],
   "source": [
    "n=input(\"Enter number\")\n",
    "n=int(n)\n",
    "\n",
    "if n>0:\n",
    "    print(n,\"is Positive\")"
   ]
  },
  {
   "cell_type": "code",
   "execution_count": 227,
   "id": "bcef2a58",
   "metadata": {},
   "outputs": [
    {
     "name": "stdout",
     "output_type": "stream",
     "text": [
      "Enter number-9\n"
     ]
    }
   ],
   "source": [
    "n=input(\"Enter number\")\n",
    "n=int(n)\n",
    "\n",
    "if n>0:\n",
    "    print(n,\"is Positive\")"
   ]
  },
  {
   "cell_type": "code",
   "execution_count": 229,
   "id": "94da39f4",
   "metadata": {},
   "outputs": [
    {
     "name": "stdout",
     "output_type": "stream",
     "text": [
      "Enter number0\n"
     ]
    }
   ],
   "source": [
    "n=input(\"Enter number\")\n",
    "n=int(n)\n",
    "\n",
    "if n>0:\n",
    "    print(n, \"is Positive\")"
   ]
  },
  {
   "cell_type": "code",
   "execution_count": 230,
   "id": "3664cd33",
   "metadata": {},
   "outputs": [
    {
     "name": "stdout",
     "output_type": "stream",
     "text": [
      "Enter number5\n",
      "5 is Positive\n"
     ]
    }
   ],
   "source": [
    "n=input(\"Enter number\")\n",
    "n=int(n)\n",
    "\n",
    "if n>0:\n",
    "    print(n,\"is Positive\")\n",
    "    \n",
    "if n<0:\n",
    "    print(n,\"is negative\")"
   ]
  },
  {
   "cell_type": "code",
   "execution_count": 231,
   "id": "8122c3ff",
   "metadata": {},
   "outputs": [
    {
     "name": "stdout",
     "output_type": "stream",
     "text": [
      "Enter number-5\n",
      "-5 is negative\n"
     ]
    }
   ],
   "source": [
    "n=input(\"Enter number\")\n",
    "n=int(n)\n",
    "\n",
    "if n>0:\n",
    "    print(n,\"is Positive\")\n",
    "    \n",
    "if n<0:\n",
    "    print(n,\"is negative\")"
   ]
  },
  {
   "cell_type": "code",
   "execution_count": 232,
   "id": "6ef9c2ee",
   "metadata": {},
   "outputs": [
    {
     "name": "stdout",
     "output_type": "stream",
     "text": [
      "Enter number0\n",
      "0 is zero\n"
     ]
    }
   ],
   "source": [
    "n=input(\"Enter number\")\n",
    "n=int(n)\n",
    "\n",
    "if n>0:\n",
    "    print(n,\"is Positive\")\n",
    "    \n",
    "if n<0:\n",
    "    print(n,\"is negative\")\n",
    "    \n",
    "if n==0:\n",
    "    print(n,\"is zero\")\n"
   ]
  },
  {
   "cell_type": "code",
   "execution_count": 233,
   "id": "86fc763d",
   "metadata": {},
   "outputs": [
    {
     "name": "stdout",
     "output_type": "stream",
     "text": [
      "Enter number60\n",
      "Enter number40\n",
      "60 is max\n"
     ]
    }
   ],
   "source": [
    "x=input(\"Enter number\")\n",
    "y=input(\"Enter number\")\n",
    "\n",
    "x=int(x)\n",
    "y=int(y)\n",
    "\n",
    "if x>y:\n",
    "    print(x,\"is max\")"
   ]
  },
  {
   "cell_type": "code",
   "execution_count": 234,
   "id": "cc07823a",
   "metadata": {},
   "outputs": [
    {
     "name": "stdout",
     "output_type": "stream",
     "text": [
      "Enter number5\n",
      "Enter number2\n",
      "5 is max\n"
     ]
    }
   ],
   "source": [
    "x=input(\"Enter number\")\n",
    "y=input(\"Enter number\")\n",
    "\n",
    "x=int(x)\n",
    "y=int(y)\n",
    "\n",
    "if x>y:\n",
    "    print(x,\"is max\")"
   ]
  },
  {
   "cell_type": "code",
   "execution_count": 235,
   "id": "03dfa2b8",
   "metadata": {},
   "outputs": [
    {
     "name": "stdout",
     "output_type": "stream",
     "text": [
      "Enter number1\n",
      "Enter number0\n",
      "1 is max\n"
     ]
    }
   ],
   "source": [
    "x=input(\"Enter number\")\n",
    "y=input(\"Enter number\")\n",
    "\n",
    "x=int(x)\n",
    "y=int(y)\n",
    "\n",
    "if x>y:\n",
    "    print(x,\"is max\")\n",
    "\n",
    "    "
   ]
  },
  {
   "cell_type": "code",
   "execution_count": 236,
   "id": "87154726",
   "metadata": {},
   "outputs": [
    {
     "name": "stdout",
     "output_type": "stream",
     "text": [
      "Enter number-9\n",
      "Enter number6\n",
      "6 is max\n"
     ]
    }
   ],
   "source": [
    "x=input(\"Enter number\")\n",
    "y=input(\"Enter number\")\n",
    "\n",
    "x=int(x)\n",
    "y=int(y)\n",
    "\n",
    "if x>y:\n",
    "    print(x,\"is max\")\n",
    "    \n",
    "if y>x:\n",
    "    print(y,\"is max\")"
   ]
  },
  {
   "cell_type": "code",
   "execution_count": 237,
   "id": "547ed45b",
   "metadata": {},
   "outputs": [
    {
     "name": "stdout",
     "output_type": "stream",
     "text": [
      "Enter number-9\n",
      "Enter number-15\n",
      "-9 is max\n"
     ]
    }
   ],
   "source": [
    "x=input(\"Enter number\")\n",
    "y=input(\"Enter number\")\n",
    "\n",
    "x=int(x)\n",
    "y=int(y)\n",
    "\n",
    "if x>y:\n",
    "    print(x,\"is max\")\n",
    "    \n",
    "if y>x:\n",
    "    print(y,\"is max\")"
   ]
  },
  {
   "cell_type": "code",
   "execution_count": 238,
   "id": "37b3bcd4",
   "metadata": {},
   "outputs": [
    {
     "name": "stdout",
     "output_type": "stream",
     "text": [
      "Enter number6\n",
      "Enter number6\n"
     ]
    }
   ],
   "source": [
    "x=input(\"Enter number\")\n",
    "y=input(\"Enter number\")\n",
    "\n",
    "x=int(x)\n",
    "y=int(y)\n",
    "\n",
    "if x>y:\n",
    "    print(x,\"is max\")\n",
    "    \n",
    "if y>x:\n",
    "    print(y,\"is max\")"
   ]
  },
  {
   "cell_type": "code",
   "execution_count": 239,
   "id": "0c26cc91",
   "metadata": {},
   "outputs": [
    {
     "name": "stdout",
     "output_type": "stream",
     "text": [
      "Enter number0\n",
      "Enter number0\n",
      "0 is max\n"
     ]
    }
   ],
   "source": [
    "x=input(\"Enter number\")\n",
    "y=input(\"Enter number\")\n",
    "\n",
    "x=int(x)\n",
    "y=int(y)\n",
    "\n",
    "if x>=y:\n",
    "    print(x,\"is max\")\n",
    "    \n",
    "if y>x:\n",
    "    print(y,\"is max\")"
   ]
  },
  {
   "cell_type": "code",
   "execution_count": 240,
   "id": "038df63a",
   "metadata": {},
   "outputs": [
    {
     "name": "stdout",
     "output_type": "stream",
     "text": [
      "Enter number1\n",
      "Enter number-1\n",
      "1 is max\n"
     ]
    }
   ],
   "source": [
    "x=input(\"Enter number\")\n",
    "y=input(\"Enter number\")\n",
    "\n",
    "x=int(x)\n",
    "y=int(y)\n",
    "\n",
    "if x>y or x==y:\n",
    "    print(x,\"is max\")\n",
    "    \n",
    "if y>x:\n",
    "    print(y,\"is max\")"
   ]
  },
  {
   "cell_type": "code",
   "execution_count": 241,
   "id": "d3fcb65d",
   "metadata": {},
   "outputs": [
    {
     "name": "stdout",
     "output_type": "stream",
     "text": [
      "Enter number6\n",
      "6 is positive\n"
     ]
    }
   ],
   "source": [
    "n=input(\"Enter number\")\n",
    "n=int(n)\n",
    "\n",
    "if n>0:\n",
    "    print(n,\"is positive\")\n",
    "    \n",
    "if n<0:\n",
    "    print(n,\"is negative\")\n",
    "    \n",
    "if n==0:\n",
    "    print(n,\"is zero\")"
   ]
  },
  {
   "cell_type": "code",
   "execution_count": 242,
   "id": "5bcb50d5",
   "metadata": {},
   "outputs": [
    {
     "name": "stdout",
     "output_type": "stream",
     "text": [
      "Enter number-5\n",
      "-5 is negative\n"
     ]
    }
   ],
   "source": [
    "n=input(\"Enter number\")\n",
    "n=int(n)\n",
    "\n",
    "if n>0:\n",
    "    print(n,\"is positive\")\n",
    "    \n",
    "if n<0:\n",
    "    print(n,\"is negative\")\n",
    "    \n",
    "if n==0:\n",
    "    print(n,\"is zero\")"
   ]
  },
  {
   "cell_type": "code",
   "execution_count": 243,
   "id": "8245a162",
   "metadata": {},
   "outputs": [
    {
     "name": "stdout",
     "output_type": "stream",
     "text": [
      "Enter number0\n",
      "0 is zero\n"
     ]
    }
   ],
   "source": [
    "n=input(\"Enter number\")\n",
    "n=int(n)\n",
    "\n",
    "if n>0:\n",
    "    print(n,\"is positive\")\n",
    "    \n",
    "if n<0:\n",
    "    print(n,\"is negative\")\n",
    "    \n",
    "if n==0:\n",
    "    print(n,\"is zero\")"
   ]
  },
  {
   "cell_type": "code",
   "execution_count": 244,
   "id": "80b8eb77",
   "metadata": {},
   "outputs": [
    {
     "name": "stdout",
     "output_type": "stream",
     "text": [
      "Enter number5\n",
      "5 is positive\n"
     ]
    }
   ],
   "source": [
    "n=input(\"Enter number\")\n",
    "n=int(n)\n",
    "\n",
    "if n>0:\n",
    "    print(n,\"is positive\")\n",
    "    \n",
    "if n<0:\n",
    "    print(n,\"is negative\")\n",
    "    \n",
    "if n==0:\n",
    "    print(n,\"is zero\")"
   ]
  },
  {
   "cell_type": "code",
   "execution_count": 245,
   "id": "201d6a23",
   "metadata": {},
   "outputs": [
    {
     "name": "stdout",
     "output_type": "stream",
     "text": [
      "Enter number3\n",
      "3 is positive\n"
     ]
    }
   ],
   "source": [
    "n=input(\"Enter number\")\n",
    "n=int(n)\n",
    "\n",
    "if n>0:\n",
    "    print(n,\"is positive\")\n",
    "elif n<0:\n",
    "    print(n,\"is negative\")"
   ]
  },
  {
   "cell_type": "code",
   "execution_count": 246,
   "id": "dfff9665",
   "metadata": {},
   "outputs": [
    {
     "name": "stdout",
     "output_type": "stream",
     "text": [
      "Enter number-99\n",
      "-99 is negative\n"
     ]
    }
   ],
   "source": [
    "n=input(\"Enter number\")\n",
    "n=int(n)\n",
    "\n",
    "if n>0:\n",
    "    print(n,\"is positive\")\n",
    "elif n<0:\n",
    "    print(n,\"is negative\")"
   ]
  },
  {
   "cell_type": "code",
   "execution_count": 247,
   "id": "a61cdcc9",
   "metadata": {},
   "outputs": [
    {
     "name": "stdout",
     "output_type": "stream",
     "text": [
      "Enter number9\n",
      "9 is positive\n",
      "END of program\n"
     ]
    }
   ],
   "source": [
    "n=input(\"Enter number\")\n",
    "n=int(n)\n",
    "\n",
    "if n>0:\n",
    "    print(n,\"is positive\")\n",
    "elif n<0:\n",
    "    print(n,\"is negative\")\n",
    "    \n",
    "print(\"END of program\")  "
   ]
  },
  {
   "cell_type": "code",
   "execution_count": 248,
   "id": "11cbf496",
   "metadata": {},
   "outputs": [
    {
     "name": "stdout",
     "output_type": "stream",
     "text": [
      "Enter number3\n",
      "Enter number1\n",
      "3 is max\n"
     ]
    }
   ],
   "source": [
    "x=input(\"Enter number\")\n",
    "y=input(\"Enter number\")\n",
    "\n",
    "x=int(x)\n",
    "y=int(y)\n",
    "\n",
    "if x>=y:\n",
    "    print(x,\"is max\")\n",
    "else:\n",
    "    print(y,\"is max\")"
   ]
  },
  {
   "cell_type": "code",
   "execution_count": 249,
   "id": "2f62874f",
   "metadata": {},
   "outputs": [
    {
     "name": "stdout",
     "output_type": "stream",
     "text": [
      "Enter number1\n",
      "Enter number5\n",
      "5 is max\n"
     ]
    }
   ],
   "source": [
    "x=input(\"Enter number\")\n",
    "y=input(\"Enter number\")\n",
    "\n",
    "x=int(x)\n",
    "y=int(y)\n",
    "\n",
    "if x>=y:\n",
    "    print(x,\"is max\")\n",
    "else:\n",
    "    print(y,\"is max\")"
   ]
  },
  {
   "cell_type": "code",
   "execution_count": 250,
   "id": "325ec1ce",
   "metadata": {},
   "outputs": [
    {
     "name": "stdout",
     "output_type": "stream",
     "text": [
      "Enter number78\n",
      "78 is positive\n"
     ]
    }
   ],
   "source": [
    "n=input(\"Enter number\")\n",
    "n=int(n)\n",
    "\n",
    "if n>0:\n",
    "    print(n,\"is positive\")\n",
    "elif n<0:\n",
    "    print(n,\"is negative\")\n",
    "else:\n",
    "    print(n,\"is zero\")"
   ]
  },
  {
   "cell_type": "code",
   "execution_count": 251,
   "id": "c2d745a9",
   "metadata": {},
   "outputs": [
    {
     "name": "stdout",
     "output_type": "stream",
     "text": [
      "Enter number-65\n",
      "-65 is negative\n"
     ]
    }
   ],
   "source": [
    "n=input(\"Enter number\")\n",
    "n=int(n)\n",
    "\n",
    "if n>0:\n",
    "    print(n,\"is positive\")\n",
    "elif n<0:\n",
    "    print(n,\"is negative\")\n",
    "else:\n",
    "    print(n,\"is zero\")"
   ]
  },
  {
   "cell_type": "code",
   "execution_count": 252,
   "id": "ee2e4c36",
   "metadata": {},
   "outputs": [
    {
     "name": "stdout",
     "output_type": "stream",
     "text": [
      "Enter number0\n",
      "0 is zero\n"
     ]
    }
   ],
   "source": [
    "n=input(\"Enter number\")\n",
    "n=int(n)\n",
    "\n",
    "if n>0:\n",
    "    print(n,\"is positive\")\n",
    "elif n<0:\n",
    "    print(n,\"is negative\")\n",
    "else:\n",
    "    print(n,\"is zero\")"
   ]
  },
  {
   "cell_type": "code",
   "execution_count": 253,
   "id": "98472aef",
   "metadata": {},
   "outputs": [
    {
     "name": "stdout",
     "output_type": "stream",
     "text": [
      "Enter number33\n",
      "Enter number23\n",
      "Enter number13\n",
      "33 is max\n"
     ]
    }
   ],
   "source": [
    "x=input(\"Enter number\")\n",
    "y=input(\"Enter number\")\n",
    "z=input(\"Enter number\")\n",
    "\n",
    "x=int(x)\n",
    "y=int(y)\n",
    "z=int(z)\n",
    "\n",
    "if x>y and x>z:\n",
    "    print(x,\"is max\")\n",
    "if y>x and y>z:\n",
    "    print(y,\"is max\")\n",
    "if z>x and z>y:\n",
    "    print(z,\"is max\")"
   ]
  },
  {
   "cell_type": "code",
   "execution_count": 254,
   "id": "271f4da5",
   "metadata": {},
   "outputs": [
    {
     "name": "stdout",
     "output_type": "stream",
     "text": [
      "Enter number6\n",
      "Enter number3\n",
      "Enter number1\n",
      "6 is max\n"
     ]
    }
   ],
   "source": [
    "x=input(\"Enter number\")\n",
    "y=input(\"Enter number\")\n",
    "z=input(\"Enter number\")\n",
    "\n",
    "x=int(x)\n",
    "y=int(y)\n",
    "z=int(z)\n",
    "\n",
    "if x>y and x>z:\n",
    "    print(x,\"is max\")\n",
    "if y>x and y>z:\n",
    "    print(y,\"is max\")\n",
    "if z>x and z>y:\n",
    "    print(z,\"is max\")"
   ]
  },
  {
   "cell_type": "code",
   "execution_count": 255,
   "id": "628d7b53",
   "metadata": {},
   "outputs": [
    {
     "name": "stdout",
     "output_type": "stream",
     "text": [
      "Enter number0\n",
      "Enter number1\n",
      "Enter number2\n",
      "2 is max\n"
     ]
    }
   ],
   "source": [
    "x=input(\"Enter number\")\n",
    "y=input(\"Enter number\")\n",
    "z=input(\"Enter number\")\n",
    "\n",
    "x=int(x)\n",
    "y=int(y)\n",
    "z=int(z)\n",
    "\n",
    "if x>y and x>z:\n",
    "    print(x,\"is max\")\n",
    "if y>x and y>z:\n",
    "    print(y,\"is max\")\n",
    "if z>x and z>y:\n",
    "    print(z,\"is max\")"
   ]
  },
  {
   "cell_type": "code",
   "execution_count": 256,
   "id": "3b9c6f5a",
   "metadata": {},
   "outputs": [
    {
     "name": "stdout",
     "output_type": "stream",
     "text": [
      "Enter number0\n",
      "Enter number1\n",
      "Enter number0\n",
      "1 is max\n"
     ]
    }
   ],
   "source": [
    "x=input(\"Enter number\")\n",
    "y=input(\"Enter number\")\n",
    "z=input(\"Enter number\")\n",
    "\n",
    "x=int(x)\n",
    "y=int(y)\n",
    "z=int(z)\n",
    "\n",
    "if x>y and x>z:\n",
    "    print(x,\"is max\")\n",
    "elif y>z:\n",
    "    print(y,\"is max\")\n",
    "else:\n",
    "    print(z,\"is max\")"
   ]
  },
  {
   "cell_type": "code",
   "execution_count": 257,
   "id": "d0abbd0a",
   "metadata": {},
   "outputs": [
    {
     "name": "stdout",
     "output_type": "stream",
     "text": [
      "Enter number-9\n",
      "Enter number-2\n",
      "Enter number0\n",
      "0 is max\n"
     ]
    }
   ],
   "source": [
    "x=input(\"Enter number\")\n",
    "y=input(\"Enter number\")\n",
    "z=input(\"Enter number\")\n",
    "\n",
    "x=int(x)\n",
    "y=int(y)\n",
    "z=int(z)\n",
    "\n",
    "if x>y and x>z:\n",
    "    print(x,\"is max\")\n",
    "elif y>z:\n",
    "    print(y,\"is max\")\n",
    "else:\n",
    "    print(z,\"is max\")"
   ]
  },
  {
   "cell_type": "code",
   "execution_count": 258,
   "id": "28a312f0",
   "metadata": {},
   "outputs": [
    {
     "name": "stdout",
     "output_type": "stream",
     "text": [
      "15\n",
      "56\n"
     ]
    }
   ],
   "source": [
    "def plus(a,b):\n",
    "    return a+b\n",
    "    \n",
    "print(plus(10,5))\n",
    "print(plus(20,36))"
   ]
  },
  {
   "cell_type": "code",
   "execution_count": 259,
   "id": "98d2e971",
   "metadata": {},
   "outputs": [
    {
     "name": "stdout",
     "output_type": "stream",
     "text": [
      "3.14\n",
      "78.5\n"
     ]
    }
   ],
   "source": [
    "def circle(r):\n",
    "    return 3.14*r*r\n",
    "\n",
    "print(circle(1))\n",
    "print(circle(5))"
   ]
  },
  {
   "cell_type": "code",
   "execution_count": 260,
   "id": "25ff34d8",
   "metadata": {},
   "outputs": [
    {
     "name": "stdout",
     "output_type": "stream",
     "text": [
      "180\n",
      "125\n"
     ]
    },
    {
     "ename": "TypeError",
     "evalue": "add() takes 5 positional arguments but 6 were given",
     "output_type": "error",
     "traceback": [
      "\u001b[1;31m---------------------------------------------------------------------------\u001b[0m",
      "\u001b[1;31mTypeError\u001b[0m                                 Traceback (most recent call last)",
      "Cell \u001b[1;32mIn[260], line 6\u001b[0m\n\u001b[0;32m      4\u001b[0m \u001b[38;5;28mprint\u001b[39m(add(\u001b[38;5;241m20\u001b[39m,\u001b[38;5;241m10\u001b[39m,\u001b[38;5;241m50\u001b[39m,\u001b[38;5;241m40\u001b[39m,\u001b[38;5;241m60\u001b[39m))\n\u001b[0;32m      5\u001b[0m \u001b[38;5;28mprint\u001b[39m(add(\u001b[38;5;241m20\u001b[39m,\u001b[38;5;241m10\u001b[39m,\u001b[38;5;241m50\u001b[39m,\u001b[38;5;241m40\u001b[39m,\u001b[38;5;241m5\u001b[39m))\n\u001b[1;32m----> 6\u001b[0m \u001b[38;5;28mprint\u001b[39m(\u001b[43madd\u001b[49m\u001b[43m(\u001b[49m\u001b[38;5;241;43m20\u001b[39;49m\u001b[43m,\u001b[49m\u001b[38;5;241;43m10\u001b[39;49m\u001b[43m,\u001b[49m\u001b[38;5;241;43m50\u001b[39;49m\u001b[43m,\u001b[49m\u001b[38;5;241;43m40\u001b[39;49m\u001b[43m,\u001b[49m\u001b[38;5;241;43m60\u001b[39;49m\u001b[43m,\u001b[49m\u001b[38;5;241;43m70\u001b[39;49m\u001b[43m)\u001b[49m)\n",
      "\u001b[1;31mTypeError\u001b[0m: add() takes 5 positional arguments but 6 were given"
     ]
    }
   ],
   "source": [
    "def add(a,b,f,g,k):\n",
    "    return a+b+f+g+k\n",
    "\n",
    "print(add(20,10,50,40,60))\n",
    "print(add(20,10,50,40,5))\n",
    "print(add(20,10,50,40,60,70))"
   ]
  },
  {
   "cell_type": "code",
   "execution_count": 261,
   "id": "d7d54976",
   "metadata": {},
   "outputs": [
    {
     "name": "stdout",
     "output_type": "stream",
     "text": [
      "150\n"
     ]
    }
   ],
   "source": [
    "def addn(n1,n2,n3,n4,n5):\n",
    "    return n1+n2+n3+n4+n5\n",
    "\n",
    "sum=add(10,20,30,40,50)\n",
    "print(sum)"
   ]
  },
  {
   "cell_type": "code",
   "execution_count": 262,
   "id": "e2bdac6c",
   "metadata": {},
   "outputs": [
    {
     "name": "stdout",
     "output_type": "stream",
     "text": [
      "xyzpoprtswesred\n"
     ]
    }
   ],
   "source": [
    "def addn(n1,n2,n3,n4,n5):\n",
    "    return n1+n2+n3+n4+n5\n",
    "\n",
    "sum=add(\"xyz\",\"pop\",\"rts\",\"wes\",\"red\")\n",
    "print(sum)"
   ]
  },
  {
   "cell_type": "code",
   "execution_count": 263,
   "id": "cf46434e",
   "metadata": {},
   "outputs": [
    {
     "name": "stdout",
     "output_type": "stream",
     "text": [
      "30\n"
     ]
    }
   ],
   "source": [
    "plus=lambda a,b:a+b\n",
    "\n",
    "print(plus(10,20))"
   ]
  },
  {
   "cell_type": "code",
   "execution_count": 264,
   "id": "03edfa53",
   "metadata": {},
   "outputs": [
    {
     "name": "stdout",
     "output_type": "stream",
     "text": [
      "150\n"
     ]
    }
   ],
   "source": [
    "plus=lambda c,y,k,z,f:c+y+k+z+f\n",
    "\n",
    "print(plus(10,20,30,40,50))"
   ]
  },
  {
   "cell_type": "code",
   "execution_count": 265,
   "id": "da2e6fe1",
   "metadata": {},
   "outputs": [
    {
     "name": "stdout",
     "output_type": "stream",
     "text": [
      "Area of circle= 3 56\n",
      "Circumference o Circle= 12.56\n",
      "Area of circle= 3 350\n",
      "Circumference o Circle= 31.400000000000002\n"
     ]
    }
   ],
   "source": [
    "def circle_1(r):\n",
    "    print(\"Area of circle=\",3,14*r*r)\n",
    "    print(\"Circumference o Circle=\",2*3.14*r)\n",
    "    \n",
    "circle_1(2)\n",
    "circle_1(5)"
   ]
  },
  {
   "cell_type": "code",
   "execution_count": 266,
   "id": "a56c13ee",
   "metadata": {},
   "outputs": [
    {
     "name": "stdout",
     "output_type": "stream",
     "text": [
      "Area= 50.24\n"
     ]
    }
   ],
   "source": [
    "circle_1=lambda r:print(\"Area=\", 3.14*r*r)\n",
    "\n",
    "circle_1(4)"
   ]
  },
  {
   "cell_type": "code",
   "execution_count": 267,
   "id": "8224861c",
   "metadata": {},
   "outputs": [
    {
     "ename": "SyntaxError",
     "evalue": "invalid syntax (645066172.py, line 1)",
     "output_type": "error",
     "traceback": [
      "\u001b[1;36m  Cell \u001b[1;32mIn[267], line 1\u001b[1;36m\u001b[0m\n\u001b[1;33m    Student:\u001b[0m\n\u001b[1;37m            ^\u001b[0m\n\u001b[1;31mSyntaxError\u001b[0m\u001b[1;31m:\u001b[0m invalid syntax\n"
     ]
    }
   ],
   "source": [
    "Student:\n",
    "        1) name\n",
    "        2) roll number\n",
    "        3) marks\n",
    "\n",
    "name=input(\"enter name:\")\n",
    "roll=input(\"Enter roll number:\")\n",
    "marks=input(\"Enter marks:\")"
   ]
  },
  {
   "cell_type": "code",
   "execution_count": 268,
   "id": "5cb152d5",
   "metadata": {},
   "outputs": [
    {
     "name": "stdout",
     "output_type": "stream",
     "text": [
      "STREAM: Computer Science\n",
      "NAME Ajit\n",
      "MARKS: 30\n"
     ]
    }
   ],
   "source": [
    "class Student:\n",
    "    stream=\"Computer Science\"\n",
    "    def __init__(self,name,marks):\n",
    "        self.name=name\n",
    "        self.marks=marks\n",
    "        \n",
    "    def display(self):\n",
    "        print(\"STREAM:\",Student.stream)\n",
    "        print(\"NAME\",self.name)\n",
    "        print(\"MARKS:\",self.marks)\n",
    "        \n",
    "s1=Student(\"Ajit\",30)\n",
    "s1.display()"
   ]
  },
  {
   "cell_type": "code",
   "execution_count": 269,
   "id": "1443ca02",
   "metadata": {},
   "outputs": [
    {
     "ename": "SyntaxError",
     "evalue": "invalid syntax (1470159086.py, line 15)",
     "output_type": "error",
     "traceback": [
      "\u001b[1;36m  Cell \u001b[1;32mIn[269], line 15\u001b[1;36m\u001b[0m\n\u001b[1;33m    def display Address(self):\u001b[0m\n\u001b[1;37m                ^\u001b[0m\n\u001b[1;31mSyntaxError\u001b[0m\u001b[1;31m:\u001b[0m invalid syntax\n"
     ]
    }
   ],
   "source": [
    "class Student:\n",
    "    stream=\"Computer Science\"\n",
    "    def __init__(self,name,marks):\n",
    "        self.name=name\n",
    "        self.marks=marks\n",
    "        \n",
    "    def display(self):\n",
    "        print(\"STREAM:\",Student.stream)\n",
    "        print(\"NAME\",self.name)\n",
    "        print(\"MARKS:\",self.marks)\n",
    "        \n",
    "    def setAddress(self,address):\n",
    "        self.address=address\n",
    "        \n",
    "    def display Address(self):\n",
    "        print(\"ADDRESS:\",self.address)\n",
    "        \n",
    "s1+Student(\"Ajit\",23)\n",
    "s1.display()\n",
    "s1.setAddress(\"SA\")\n",
    "s1.display_Address()"
   ]
  },
  {
   "cell_type": "code",
   "execution_count": 270,
   "id": "9e021c63",
   "metadata": {},
   "outputs": [
    {
     "name": "stdout",
     "output_type": "stream",
     "text": [
      "ORGANISATION AMB LIMITED\n",
      "NAME Mark\n",
      "AGE 40\n"
     ]
    }
   ],
   "source": [
    "class Employee:\n",
    "    organisation=\"AMB LIMITED\"\n",
    "    def __init__(self,name,age):\n",
    "        self.name=name\n",
    "        self.age=age\n",
    "        \n",
    "    def show(self):\n",
    "        print(\"ORGANISATION\",Employee.organisation)\n",
    "        print(\"NAME\",self.name)\n",
    "        print(\"AGE\",self.age)\n",
    "        \n",
    "e1=Employee(\"Mark\",40)\n",
    "e1.show()"
   ]
  },
  {
   "cell_type": "code",
   "execution_count": 271,
   "id": "811b1d6d",
   "metadata": {},
   "outputs": [
    {
     "name": "stdout",
     "output_type": "stream",
     "text": [
      "2023-09-28 13:40:21.904075\n"
     ]
    }
   ],
   "source": [
    "import datetime\n",
    "d1 = datetime.datetime.now()\n",
    "print(d1)"
   ]
  },
  {
   "cell_type": "code",
   "execution_count": 272,
   "id": "5d640f7c",
   "metadata": {},
   "outputs": [
    {
     "name": "stdout",
     "output_type": "stream",
     "text": [
      "2023-09-28\n"
     ]
    }
   ],
   "source": [
    "import datetime\n",
    "d1= datetime.date.today()\n",
    "print(d1)"
   ]
  },
  {
   "cell_type": "code",
   "execution_count": 273,
   "id": "0253aa8b",
   "metadata": {},
   "outputs": [
    {
     "name": "stdout",
     "output_type": "stream",
     "text": [
      "2022-07-05\n"
     ]
    }
   ],
   "source": [
    "import datetime\n",
    "d = datetime.date(2022, 7, 5)\n",
    "print(d)"
   ]
  },
  {
   "cell_type": "code",
   "execution_count": 274,
   "id": "7bbfe2d9",
   "metadata": {},
   "outputs": [
    {
     "name": "stdout",
     "output_type": "stream",
     "text": [
      "2022-07-05\n"
     ]
    }
   ],
   "source": [
    "from datetime import date\n",
    "a = date(2022, 7, 5)\n",
    "print(a)"
   ]
  },
  {
   "cell_type": "code",
   "execution_count": 275,
   "id": "183efce2",
   "metadata": {},
   "outputs": [
    {
     "name": "stdout",
     "output_type": "stream",
     "text": [
      "Current year: 2023\n",
      "Current month: 9\n",
      "Current day: 28\n"
     ]
    }
   ],
   "source": [
    "from datetime import date\n",
    "t = date.today()\n",
    "print(\"Current year:\", t.year)\n",
    "print(\"Current month:\", t.month)\n",
    "print(\"Current day:\", t.day)"
   ]
  },
  {
   "cell_type": "code",
   "execution_count": 276,
   "id": "9890b6f1",
   "metadata": {},
   "outputs": [
    {
     "name": "stdout",
     "output_type": "stream",
     "text": [
      "a = 00:00:00\n",
      "b = 10:14:32\n",
      "c = 08:23:44\n",
      "d = 09:23:44.564321\n"
     ]
    }
   ],
   "source": [
    "from datetime import time\n",
    "a = time()\n",
    "print(\"a =\", a)\n",
    "b = time(10, 14, 32)\n",
    "print(\"b =\", b)\n",
    "c = time(hour = 8, minute = 23, second = 44)\n",
    "print(\"c =\", c)\n",
    "d = time(9, 23, 44, 564321)\n",
    "print(\"d =\", d)"
   ]
  },
  {
   "cell_type": "code",
   "execution_count": 278,
   "id": "0e42e21e",
   "metadata": {},
   "outputs": [],
   "source": [
    "def circle(r):\n",
    "    return 3.14*r*r"
   ]
  },
  {
   "cell_type": "code",
   "execution_count": 279,
   "id": "7290aaa5",
   "metadata": {},
   "outputs": [
    {
     "ename": "FileNotFoundError",
     "evalue": "[Errno 2] No such file or directory: '/Users/regenesys/Documents/circle.txt'",
     "output_type": "error",
     "traceback": [
      "\u001b[1;31m---------------------------------------------------------------------------\u001b[0m",
      "\u001b[1;31mFileNotFoundError\u001b[0m                         Traceback (most recent call last)",
      "Cell \u001b[1;32mIn[279], line 1\u001b[0m\n\u001b[1;32m----> 1\u001b[0m file \u001b[38;5;241m=\u001b[39m \u001b[38;5;28;43mopen\u001b[39;49m\u001b[43m(\u001b[49m\u001b[38;5;124;43m'\u001b[39;49m\u001b[38;5;124;43m/Users/regenesys/Documents/circle.txt\u001b[39;49m\u001b[38;5;124;43m'\u001b[39;49m\u001b[43m,\u001b[49m\u001b[38;5;124;43m'\u001b[39;49m\u001b[38;5;124;43mw\u001b[39;49m\u001b[38;5;124;43m'\u001b[39;49m\u001b[43m)\u001b[49m\n\u001b[0;32m      2\u001b[0m file\u001b[38;5;241m.\u001b[39mwrite(\u001b[38;5;124m\"\u001b[39m\u001b[38;5;124mRadius=1 and Area=\u001b[39m\u001b[38;5;124m\"\u001b[39m)\n\u001b[0;32m      3\u001b[0m a\u001b[38;5;241m=\u001b[39m\u001b[38;5;28mstr\u001b[39m(circle(\u001b[38;5;241m1\u001b[39m))\n",
      "File \u001b[1;32m~\\anaconda31\\lib\\site-packages\\IPython\\core\\interactiveshell.py:286\u001b[0m, in \u001b[0;36m_modified_open\u001b[1;34m(file, *args, **kwargs)\u001b[0m\n\u001b[0;32m    279\u001b[0m \u001b[38;5;28;01mif\u001b[39;00m file \u001b[38;5;129;01min\u001b[39;00m {\u001b[38;5;241m0\u001b[39m, \u001b[38;5;241m1\u001b[39m, \u001b[38;5;241m2\u001b[39m}:\n\u001b[0;32m    280\u001b[0m     \u001b[38;5;28;01mraise\u001b[39;00m \u001b[38;5;167;01mValueError\u001b[39;00m(\n\u001b[0;32m    281\u001b[0m         \u001b[38;5;124mf\u001b[39m\u001b[38;5;124m\"\u001b[39m\u001b[38;5;124mIPython won\u001b[39m\u001b[38;5;124m'\u001b[39m\u001b[38;5;124mt let you open fd=\u001b[39m\u001b[38;5;132;01m{\u001b[39;00mfile\u001b[38;5;132;01m}\u001b[39;00m\u001b[38;5;124m by default \u001b[39m\u001b[38;5;124m\"\u001b[39m\n\u001b[0;32m    282\u001b[0m         \u001b[38;5;124m\"\u001b[39m\u001b[38;5;124mas it is likely to crash IPython. If you know what you are doing, \u001b[39m\u001b[38;5;124m\"\u001b[39m\n\u001b[0;32m    283\u001b[0m         \u001b[38;5;124m\"\u001b[39m\u001b[38;5;124myou can use builtins\u001b[39m\u001b[38;5;124m'\u001b[39m\u001b[38;5;124m open.\u001b[39m\u001b[38;5;124m\"\u001b[39m\n\u001b[0;32m    284\u001b[0m     )\n\u001b[1;32m--> 286\u001b[0m \u001b[38;5;28;01mreturn\u001b[39;00m io_open(file, \u001b[38;5;241m*\u001b[39margs, \u001b[38;5;241m*\u001b[39m\u001b[38;5;241m*\u001b[39mkwargs)\n",
      "\u001b[1;31mFileNotFoundError\u001b[0m: [Errno 2] No such file or directory: '/Users/regenesys/Documents/circle.txt'"
     ]
    }
   ],
   "source": [
    "file = open('/Users/regenesys/Documents/circle.txt','w')\n",
    "file.write(\"Radius=1 and Area=\")\n",
    "a=str(circle(1))\n",
    "print(a)\n",
    "file.write(a)\n",
    "file.write(\"\\n\")\n",
    "file.close()"
   ]
  },
  {
   "cell_type": "code",
   "execution_count": 280,
   "id": "e9098473",
   "metadata": {},
   "outputs": [
    {
     "ename": "FileNotFoundError",
     "evalue": "[Errno 2] No such file or directory: '/Users/regenesys/Documents/circle.txt'",
     "output_type": "error",
     "traceback": [
      "\u001b[1;31m---------------------------------------------------------------------------\u001b[0m",
      "\u001b[1;31mFileNotFoundError\u001b[0m                         Traceback (most recent call last)",
      "Cell \u001b[1;32mIn[280], line 1\u001b[0m\n\u001b[1;32m----> 1\u001b[0m file \u001b[38;5;241m=\u001b[39m \u001b[38;5;28;43mopen\u001b[39;49m\u001b[43m(\u001b[49m\u001b[38;5;124;43m'\u001b[39;49m\u001b[38;5;124;43m/Users/regenesys/Documents/circle.txt\u001b[39;49m\u001b[38;5;124;43m'\u001b[39;49m\u001b[43m,\u001b[49m\u001b[38;5;124;43m'\u001b[39;49m\u001b[38;5;124;43ma\u001b[39;49m\u001b[38;5;124;43m'\u001b[39;49m\u001b[43m)\u001b[49m\n\u001b[0;32m      2\u001b[0m file\u001b[38;5;241m.\u001b[39mwrite(\u001b[38;5;124m\"\u001b[39m\u001b[38;5;124mRadius=2 and Area=\u001b[39m\u001b[38;5;124m\"\u001b[39m)\n\u001b[0;32m      3\u001b[0m a\u001b[38;5;241m=\u001b[39m\u001b[38;5;28mstr\u001b[39m(circle(\u001b[38;5;241m2\u001b[39m))\n",
      "File \u001b[1;32m~\\anaconda31\\lib\\site-packages\\IPython\\core\\interactiveshell.py:286\u001b[0m, in \u001b[0;36m_modified_open\u001b[1;34m(file, *args, **kwargs)\u001b[0m\n\u001b[0;32m    279\u001b[0m \u001b[38;5;28;01mif\u001b[39;00m file \u001b[38;5;129;01min\u001b[39;00m {\u001b[38;5;241m0\u001b[39m, \u001b[38;5;241m1\u001b[39m, \u001b[38;5;241m2\u001b[39m}:\n\u001b[0;32m    280\u001b[0m     \u001b[38;5;28;01mraise\u001b[39;00m \u001b[38;5;167;01mValueError\u001b[39;00m(\n\u001b[0;32m    281\u001b[0m         \u001b[38;5;124mf\u001b[39m\u001b[38;5;124m\"\u001b[39m\u001b[38;5;124mIPython won\u001b[39m\u001b[38;5;124m'\u001b[39m\u001b[38;5;124mt let you open fd=\u001b[39m\u001b[38;5;132;01m{\u001b[39;00mfile\u001b[38;5;132;01m}\u001b[39;00m\u001b[38;5;124m by default \u001b[39m\u001b[38;5;124m\"\u001b[39m\n\u001b[0;32m    282\u001b[0m         \u001b[38;5;124m\"\u001b[39m\u001b[38;5;124mas it is likely to crash IPython. If you know what you are doing, \u001b[39m\u001b[38;5;124m\"\u001b[39m\n\u001b[0;32m    283\u001b[0m         \u001b[38;5;124m\"\u001b[39m\u001b[38;5;124myou can use builtins\u001b[39m\u001b[38;5;124m'\u001b[39m\u001b[38;5;124m open.\u001b[39m\u001b[38;5;124m\"\u001b[39m\n\u001b[0;32m    284\u001b[0m     )\n\u001b[1;32m--> 286\u001b[0m \u001b[38;5;28;01mreturn\u001b[39;00m io_open(file, \u001b[38;5;241m*\u001b[39margs, \u001b[38;5;241m*\u001b[39m\u001b[38;5;241m*\u001b[39mkwargs)\n",
      "\u001b[1;31mFileNotFoundError\u001b[0m: [Errno 2] No such file or directory: '/Users/regenesys/Documents/circle.txt'"
     ]
    }
   ],
   "source": [
    "file = open('/Users/regenesys/Documents/circle.txt','a')\n",
    "file.write(\"Radius=2 and Area=\")\n",
    "a=str(circle(2))\n",
    "print(a)\n",
    "file.write(a)\n",
    "file.write(\"\\n\")\n",
    "file.write(\"Radius=3 and Area=\")\n",
    "a=str(circle(3))\n",
    "print(a)\n",
    "file.write(a)\n",
    "file.write(\"\\n\")\n",
    "file.write(\"Radius=1 and Area=\")\n",
    "a=str(circle(4))\n",
    "print(a)\n",
    "file.write(a)\n",
    "file.write(\"\\n\")\n",
    "file.write(\"Radius=1 and Area=\")\n",
    "a=str(circle(5))\n",
    "print(a)\n",
    "file.write(a)\n",
    "file.write(\"\\n\")\n",
    "file.close()"
   ]
  },
  {
   "cell_type": "code",
   "execution_count": 281,
   "id": "b91bf156",
   "metadata": {},
   "outputs": [
    {
     "ename": "FileNotFoundError",
     "evalue": "[Errno 2] No such file or directory: '/Users/regenesys/Documents/circle.txt'",
     "output_type": "error",
     "traceback": [
      "\u001b[1;31m---------------------------------------------------------------------------\u001b[0m",
      "\u001b[1;31mFileNotFoundError\u001b[0m                         Traceback (most recent call last)",
      "Cell \u001b[1;32mIn[281], line 1\u001b[0m\n\u001b[1;32m----> 1\u001b[0m file \u001b[38;5;241m=\u001b[39m \u001b[38;5;28;43mopen\u001b[39;49m\u001b[43m(\u001b[49m\u001b[38;5;124;43m'\u001b[39;49m\u001b[38;5;124;43m/Users/regenesys/Documents/circle.txt\u001b[39;49m\u001b[38;5;124;43m'\u001b[39;49m\u001b[43m,\u001b[49m\u001b[38;5;124;43m'\u001b[39;49m\u001b[38;5;124;43mr\u001b[39;49m\u001b[38;5;124;43m'\u001b[39;49m\u001b[43m)\u001b[49m\n\u001b[0;32m      2\u001b[0m \u001b[38;5;28mprint\u001b[39m (file\u001b[38;5;241m.\u001b[39mread())\n\u001b[0;32m      3\u001b[0m file\u001b[38;5;241m.\u001b[39mclose()\n",
      "File \u001b[1;32m~\\anaconda31\\lib\\site-packages\\IPython\\core\\interactiveshell.py:286\u001b[0m, in \u001b[0;36m_modified_open\u001b[1;34m(file, *args, **kwargs)\u001b[0m\n\u001b[0;32m    279\u001b[0m \u001b[38;5;28;01mif\u001b[39;00m file \u001b[38;5;129;01min\u001b[39;00m {\u001b[38;5;241m0\u001b[39m, \u001b[38;5;241m1\u001b[39m, \u001b[38;5;241m2\u001b[39m}:\n\u001b[0;32m    280\u001b[0m     \u001b[38;5;28;01mraise\u001b[39;00m \u001b[38;5;167;01mValueError\u001b[39;00m(\n\u001b[0;32m    281\u001b[0m         \u001b[38;5;124mf\u001b[39m\u001b[38;5;124m\"\u001b[39m\u001b[38;5;124mIPython won\u001b[39m\u001b[38;5;124m'\u001b[39m\u001b[38;5;124mt let you open fd=\u001b[39m\u001b[38;5;132;01m{\u001b[39;00mfile\u001b[38;5;132;01m}\u001b[39;00m\u001b[38;5;124m by default \u001b[39m\u001b[38;5;124m\"\u001b[39m\n\u001b[0;32m    282\u001b[0m         \u001b[38;5;124m\"\u001b[39m\u001b[38;5;124mas it is likely to crash IPython. If you know what you are doing, \u001b[39m\u001b[38;5;124m\"\u001b[39m\n\u001b[0;32m    283\u001b[0m         \u001b[38;5;124m\"\u001b[39m\u001b[38;5;124myou can use builtins\u001b[39m\u001b[38;5;124m'\u001b[39m\u001b[38;5;124m open.\u001b[39m\u001b[38;5;124m\"\u001b[39m\n\u001b[0;32m    284\u001b[0m     )\n\u001b[1;32m--> 286\u001b[0m \u001b[38;5;28;01mreturn\u001b[39;00m io_open(file, \u001b[38;5;241m*\u001b[39margs, \u001b[38;5;241m*\u001b[39m\u001b[38;5;241m*\u001b[39mkwargs)\n",
      "\u001b[1;31mFileNotFoundError\u001b[0m: [Errno 2] No such file or directory: '/Users/regenesys/Documents/circle.txt'"
     ]
    }
   ],
   "source": [
    "file = open('/Users/regenesys/Documents/circle.txt','r')\n",
    "print (file.read())\n",
    "file.close()"
   ]
  },
  {
   "cell_type": "code",
   "execution_count": 282,
   "id": "3f741521",
   "metadata": {},
   "outputs": [
    {
     "name": "stdout",
     "output_type": "stream",
     "text": [
      "True\n",
      "False\n",
      "False\n",
      "True\n",
      "True\n",
      "True\n",
      "1\n",
      "103\n",
      "102\n",
      "-66\n",
      "260\n",
      "16\n"
     ]
    }
   ],
   "source": [
    "\n",
    "a=20\n",
    "b=15\n",
    "c=10\n",
    "(a>b) and (a>c)\n",
    "(a<b) or(a>c)\n",
    "not(a==10)\n",
    "\n",
    "p=5\n",
    "q=5\n",
    "r=[1,2,3]\n",
    "s=[1,2,3]\n",
    "print(p is q)\n",
    "print(p is not q)\n",
    "print(r is s)\n",
    "print(r is not s)\n",
    "\n",
    "x=\"Hello World\"\n",
    "print('H' in x)\n",
    "print('MY' not in x)\n",
    "\n",
    "a=65\n",
    "b=39\n",
    "print(a & b)\n",
    "print(a | b)\n",
    "print(a ^ b)\n",
    "print(~a)\n",
    "print(a<<2)\n",
    "print(a>>2)"
   ]
  },
  {
   "cell_type": "code",
   "execution_count": 284,
   "id": "5f7b2f48",
   "metadata": {},
   "outputs": [
    {
     "name": "stdout",
     "output_type": "stream",
     "text": [
      "Enter number 5\n",
      "5 is positive\n",
      "Enter number 4\n",
      "Enter number 9\n",
      "9  is max\n"
     ]
    }
   ],
   "source": [
    "n=input(\"Enter number \")\n",
    "n=int(n)\n",
    "if n>0:\n",
    "    print(n, \"is positive\")\n",
    "if n<0:\n",
    "    print(n, \"is negative\")\n",
    "if n==0:\n",
    "    print(n,\" is zero\")\n",
    "\n",
    "x=input(\"Enter number \")\n",
    "y=input(\"Enter number \")\n",
    "x=int(x)\n",
    "y=int(y)\n",
    "if x>=y:\n",
    "    print(x, \" is max\")\n",
    "elif y>x:\n",
    "    print(y,\" is max\")"
   ]
  },
  {
   "cell_type": "code",
   "execution_count": 285,
   "id": "6d0f8d03",
   "metadata": {},
   "outputs": [
    {
     "name": "stdout",
     "output_type": "stream",
     "text": [
      "b\n",
      "equal\n",
      "apple\n",
      "mango\n",
      "banana\n"
     ]
    }
   ],
   "source": [
    "\n",
    "a=20\n",
    "b=40\n",
    "if a>b: print(\"a is greater than b\")\n",
    "\n",
    "a=20\n",
    "b=40\n",
    "print(\"a\") if a>b else print(\"b\")\n",
    "\n",
    "a=50\n",
    "b=50\n",
    "print(\"a\") if a>b else print(\"equal\") if a==b else print(\"b\")\n",
    "\n",
    "fruits=[\"apple\",\"mango\",\"banana\"]\n",
    "for i in fruits:\n",
    "    print(i)"
   ]
  },
  {
   "cell_type": "code",
   "execution_count": 287,
   "id": "fccf0f55",
   "metadata": {},
   "outputs": [
    {
     "name": "stdout",
     "output_type": "stream",
     "text": [
      "[ 18  31 131  11] <class 'numpy.ndarray'>\n",
      "[[ 18  31 131  11]\n",
      " [ 21  20  10   5]] <class 'numpy.ndarray'>\n",
      "[[[ 18  31 131  11]\n",
      "  [ 21  20  10   5]]\n",
      "\n",
      " [[ 10   3   1  10]\n",
      "  [ 10  10  10  10]]] <class 'numpy.ndarray'>\n",
      "(4,) (2, 4) (2, 2, 4)\n",
      "4 8 16\n",
      "1 2 3\n",
      "int32 int32 int32\n",
      "int32 float64 int32\n",
      "4 2 2\n",
      "<class 'numpy.ndarray'> <class 'numpy.ndarray'> <class 'numpy.ndarray'>\n",
      "[55 60 62 44]\n",
      "[[ 0 55]\n",
      " [ 1 60]\n",
      " [ 2 62]\n",
      " [ 3 44]]\n"
     ]
    }
   ],
   "source": [
    "import numpy as np\n",
    "\n",
    "\n",
    "x = np.array([18, 31, 131, 11])\n",
    "print(x, type(x))\n",
    "\n",
    "y = np.array([ [18, 31, 131, 11],\n",
    "               [21, 20, 10, 5] ])\n",
    "print(y, type(y))\n",
    "\n",
    "z = np.array([ [ [18, 31, 131, 11],\n",
    "               [21, 20, 10, 5] ],\n",
    "               [ [10, 3, 1, 10],\n",
    "               [10, 10, 10, 10] ]   ])\n",
    "print(z, type(z))\n",
    "\n",
    "print(x.shape, y.shape, z.shape)\n",
    "print(x.size, y.size, z.size) \n",
    "print(x.ndim, y.ndim, z.ndim)\n",
    "print(x.dtype, y.dtype, z.dtype) \n",
    "y = y.astype('float')\n",
    "print(x.dtype, y.dtype, z.dtype) \n",
    "print(len(x), len(y), len(z)) \n",
    "print(type(x), type(y), type(z)) \n",
    "\n",
    "tree_heights = [55, 60, 62, 44]\n",
    "print(np.array(tree_heights)) \n",
    "print(np.array(list(enumerate(tree_heights)))) \n"
   ]
  },
  {
   "cell_type": "code",
   "execution_count": 294,
   "id": "a05d57d3",
   "metadata": {},
   "outputs": [
    {
     "data": {
      "image/png": "[encoded data removed]",
      "text/plain": [
       "<Figure size 640x480 with 1 Axes>"
      ]
     },
     "metadata": {},
     "output_type": "display_data"
    },
    {
     "data": {
      "image/png": "[encoded data removed]",
      "text/plain": [
       "<Figure size 640x480 with 1 Axes>"
      ]
     },
     "metadata": {},
     "output_type": "display_data"
    },
    {
     "data": {
      "image/png": "[encoded data removed]",
      "text/plain": [
       "<Figure size 640x480 with 2 Axes>"
      ]
     },
     "metadata": {},
     "output_type": "display_data"
    },
    {
     "data": {
      "image/png": "[encoded data removed]",
      "text/plain": [
       "<Figure size 640x480 with 4 Axes>"
      ]
     },
     "metadata": {},
     "output_type": "display_data"
    },
    {
     "data": {
      "image/png": "[encoded data removed]",
      "text/plain": [
       "<Figure size 640x480 with 4 Axes>"
      ]
     },
     "metadata": {},
     "output_type": "display_data"
    },
    {
     "data": {
      "image/png": "[encoded data removed]",
      "text/plain": [
       "<Figure size 640x480 with 4 Axes>"
      ]
     },
     "metadata": {},
     "output_type": "display_data"
    },
    {
     "data": {
      "image/png": "[encoded data removed]",
      "text/plain": [
       "<Figure size 640x480 with 1 Axes>"
      ]
     },
     "metadata": {},
     "output_type": "display_data"
    },
    {
     "data": {
      "image/png": "[encoded data removed]",
      "text/plain": [
       "<Figure size 640x480 with 2 Axes>"
      ]
     },
     "metadata": {},
     "output_type": "display_data"
    },
    {
     "data": {
      "image/png": "[encoded data removed]",
      "text/plain": [
       "<Figure size 640x480 with 1 Axes>"
      ]
     },
     "metadata": {},
     "output_type": "display_data"
    },
    {
     "data": {
      "image/png": "[encoded data removed]",
      "text/plain": [
       "<Figure size 640x480 with 1 Axes>"
      ]
     },
     "metadata": {},
     "output_type": "display_data"
    },
    {
     "ename": "NameError",
     "evalue": "name 'rng' is not defined",
     "output_type": "error",
     "traceback": [
      "\u001b[1;31m---------------------------------------------------------------------------\u001b[0m",
      "\u001b[1;31mNameError\u001b[0m                                 Traceback (most recent call last)",
      "Cell \u001b[1;32mIn[294], line 146\u001b[0m\n\u001b[0;32m    143\u001b[0m N_points \u001b[38;5;241m=\u001b[39m \u001b[38;5;241m10000\u001b[39m\n\u001b[0;32m    144\u001b[0m n_bins \u001b[38;5;241m=\u001b[39m \u001b[38;5;241m50\u001b[39m\n\u001b[1;32m--> 146\u001b[0m dist1 \u001b[38;5;241m=\u001b[39m \u001b[43mrng\u001b[49m\u001b[38;5;241m.\u001b[39mstandard_normal(N_points)\n\u001b[0;32m    147\u001b[0m dist2 \u001b[38;5;241m=\u001b[39m \u001b[38;5;241m0.4\u001b[39m \u001b[38;5;241m*\u001b[39m rng\u001b[38;5;241m.\u001b[39mstandard_normal(N_points) \u001b[38;5;241m+\u001b[39m \u001b[38;5;241m5\u001b[39m\n\u001b[0;32m    149\u001b[0m fig, axs \u001b[38;5;241m=\u001b[39m plt\u001b[38;5;241m.\u001b[39msubplots(\u001b[38;5;241m1\u001b[39m, \u001b[38;5;241m2\u001b[39m, sharey\u001b[38;5;241m=\u001b[39m\u001b[38;5;28;01mTrue\u001b[39;00m, tight_layout\u001b[38;5;241m=\u001b[39m\u001b[38;5;28;01mTrue\u001b[39;00m)\n",
      "\u001b[1;31mNameError\u001b[0m: name 'rng' is not defined"
     ]
    }
   ],
   "source": [
    "import numpy as np\n",
    "import matplotlib.pyplot as plt\n",
    "\n",
    "x = np.linspace(0, 2*np.pi, 400)\n",
    "y = np.sin(x**2)\n",
    "z = np.sin(x)\n",
    "\n",
    "x = np.linspace(0, 2*np.pi, 400)\n",
    "y = np.sin(x**2)\n",
    "z = np.sin(x)\n",
    "\n",
    "plt.plot(x, y)\n",
    "plt.title('Simple plot')\n",
    "\n",
    "plt.plot(x, y)\n",
    "plt.title('Simple plot')\n",
    "\n",
    "_, ax = plt.subplots()\n",
    "ax.plot(x, y)\n",
    "ax.set_title('Simple plot')\n",
    "\n",
    "f, (ax1, ax2) = plt.subplots(1, 2, sharey=True)\n",
    "ax1.plot(x, y)\n",
    "ax1.set_title('Sharing Y axis')\n",
    "ax2.scatter(x, z)\n",
    "\n",
    "fig, axs = plt.subplots(2, 2)\n",
    "axs[0, 0].plot(x, y)\n",
    "axs[0, 1].scatter(x, y)\n",
    "axs[1, 0].plot(x, z)\n",
    "axs[1, 1].scatter(x, z)\n",
    "\n",
    "fig, axs = plt.subplots(2, 2, sharex=True, sharey=True)\n",
    "axs[0, 0].plot(x, y)\n",
    "axs[0, 1].scatter(x, y)\n",
    "axs[1, 0].plot(x, z)\n",
    "axs[1, 1].scatter(x, z)\\\n",
    "\n",
    "fig, axs = plt.subplots(2, 2, sharex=True, sharey=True)\n",
    "axs[0, 0].plot(x, y)\n",
    "axs[0, 1].scatter(x, y)\n",
    "axs[1, 0].plot(x, z)\n",
    "axs[1, 1].scatter(x, z)\n",
    "\n",
    "import matplotlib.pyplot as plt\n",
    "import numpy as np \n",
    "\n",
    "x = 0.5 + np.arange(8)\n",
    "\n",
    "np.random.seed(10)\n",
    "y1 = np.random.uniform(2, 7, len(x))\n",
    "\n",
    "y2 = np.random.randint(2, 7, len(x))\n",
    "\n",
    "plt.bar (x, y1, width=1, edgecolor=\"white\", linewidth=0.7,color=['red','blue','red','blue','red','blue','red','blue'], \n",
    "       tick_label=['A','B','C','D','E','F','G','H']) \n",
    " \n",
    "plt.xlabel(\"Names\")\n",
    "plt.ylabel(\"Scores\") \n",
    "plt.show()\n",
    "plt.bar (x, y1, width=1, edgecolor=\"white\", linewidth=0.7,color=['red','blue','red','blue','red','blue','red','blue'],\n",
    "       tick_label=['A','B','C','D','E','F','G','H'])\n",
    "\n",
    "plt.bar (x, y1, width=1, edgecolor=\"white\", linewidth=0.7,color=['red','blue','red','blue','red','blue','red','blue'], \n",
    "       tick_label=['A','B','C','D','E','F','G','H'])\n",
    "\n",
    "fig, (ax1,ax2) = plt.subplots(1,2) \n",
    "\n",
    "x = 0.5 + np.arange(8)\n",
    "\n",
    "np.random.seed(10)\n",
    "y1 = np.random.uniform(2, 7, len(x)) \n",
    "\n",
    "y2 = np.random.randint(2, 7, len(x))\n",
    " \n",
    "ax1.bar(x, y1, width=1, edgecolor=\"white\", linewidth=0.7) \n",
    "ax2.bar(x, y2, width=0.7, edgecolor=\"red\", linewidth=1) \n",
    "ax1.set(xlim=(0, 8), xticks=np.arange(1, 8),\n",
    "       ylim=(0, 8), yticks=np.arange(1, 8)) \n",
    "ax2.set(xlim=(0, 10), xticks=np.arange(1, 10),\n",
    "       ylim=(0, 10), yticks=np.arange(1, 10)) \n",
    "plt.show()\n",
    "\n",
    "import numpy as np\n",
    "import matplotlib.pyplot as plt\n",
    "\n",
    "data = [[30, 25, 50, 20],\n",
    "        [40, 23, 51, 17],\n",
    "        [35, 22, 45, 19]]\n",
    "X = np.arange(4)\n",
    "fig = plt.figure()\n",
    "ax = fig.add_axes([0,0,1,1])\n",
    "ax.bar (X + 0.00, data[0], color = 'b', width = 0.25) \n",
    "ax.bar(X + 0.25, data[1], color = 'g', width = 0.25, tick_label=['F','S','T','F']) \n",
    "ax.bar(X + 0.50, data[2], color = 'r', width = 0.25) \n",
    "\n",
    "x1 = [89, 43, 36, 36, 95, 10,\n",
    "      66, 34, 38, 20]\n",
    "\n",
    "y1 = [21, 46, 3, 35, 67, 95,\n",
    "      53, 72, 58, 10]\n",
    "\n",
    "x2 = [26, 29, 48, 64, 6, 5,\n",
    "      36, 66, 72, 40]\n",
    "\n",
    "y2 = [26, 34, 90, 33, 38,\n",
    "      20, 56, 2, 47, 15]\n",
    "\n",
    "plt.scatter(x1, y1, c =\"pink\",\n",
    "            linewidths = 2,\n",
    "            marker =\"s\",\n",
    "            edgecolor =\"green\",\n",
    "            s = 50)\n",
    "\n",
    "plt.scatter(x2, y2, c =\"yellow\",\n",
    "            linewidths = 2,\n",
    "            marker =\"^\",\n",
    "            edgecolor =\"red\",\n",
    "            s = 200)\n",
    "\n",
    "plt.xlabel(\"X-axis\")\n",
    "plt.ylabel(\"Y-axis\")\n",
    "plt.show() \n",
    "fig, ax = plt.subplots() \n",
    "ax.set(xlim=(0, 100), xticks=np.arange(0, 100, 20),\n",
    "       ylim=(0, 100), yticks=np.arange(0, 100, 10)) \n",
    "ax.scatter(x1, y1, c =\"pink\",\n",
    "            linewidths = 2,\n",
    "            marker =\"s\",\n",
    "            edgecolor =\"green\",\n",
    "            s = 50)\n",
    "\n",
    "ax.scatter (x2, y2, c =\"yellow\",\n",
    "            linewidths = 2,\n",
    "            marker =\"^\",\n",
    "            edgecolor =\"red\",\n",
    "            s = 200)\n",
    "\n",
    "plt.xlabel(\"X-axis with limits\")\n",
    "plt.ylabel(\"Y-axis with limits\")\n",
    "plt.show()\n",
    "ng = np.random.default_rng(10)\n",
    "N_points = 10000\n",
    "n_bins = 50\n",
    "\n",
    "dist1 = rng.standard_normal(N_points)\n",
    "dist2 = 0.4 * rng.standard_normal(N_points) + 5\n",
    "\n",
    "fig, axs = plt.subplots(1, 2, sharey=True, tight_layout=True)\n",
    "\n",
    "axs[0].hist(dist1, bins=n_bins)\n",
    "axs[1].hist(dist2, bins=n_bins)\n",
    "\n",
    "x = np.linspace(0, 2*np.pi, 400)\n",
    "y = np.sin(x**2)\n",
    "z = np.sin(x)\n",
    "\n",
    "plt.plot(x, y)\n",
    "plt.title('Simple plot')\n",
    "\n",
    "_, ax = plt.subplots()\n",
    "ax.plot(x, y)\n",
    "ax.set_title('Simple plot')\n",
    "\n",
    "ax1.plot(x, y)\n",
    "ax1.set_title('Sharing Y axis')\n",
    "ax2.scatter(x, z)\n",
    "\n",
    "fig, axs = plt.subplots(2, 2)\n",
    "axs[0, 0].plot(x, y)\n",
    "axs[0, 1].scatter(x, y)\n",
    "axs[1, 0].plot(x, z)\n",
    "axs[1, 1].scatter(x, z)\n",
    "\n",
    "cmap='rainbow'\n",
    "\n",
    "x = np.linspace(0, 2*np.pi, 200)\n",
    "y = np.sin(x**2)\n",
    "\n",
    "plt.plot(x, y, color='red', linewidth=1, alpha=1, linestyle='--')\n",
    "\n",
    "plt.plot(x, y, color='red', linewidth=1, alpha=1, marker='o')\n",
    "\n",
    "plt.plot(x, y, color='red', linewidth=1, alpha=1, marker='o', markersize=10)\n",
    "\n",
    "\n"
   ]
  },
  {
   "cell_type": "code",
   "execution_count": null,
   "id": "420613a1",
   "metadata": {},
   "outputs": [],
   "source": []
  }
 ],
 "metadata": {
  "kernelspec": {
   "display_name": "Python 3 (ipykernel)",
   "language": "python",
   "name": "python3"
  },
  "language_info": {
   "codemirror_mode": {
    "name": "ipython",
    "version": 3
   },
   "file_extension": ".py",
   "mimetype": "text/x-python",
   "name": "python",
   "nbconvert_exporter": "python",
   "pygments_lexer": "ipython3",
   "version": "3.11.4"
  }
 },
 "nbformat": 4,
 "nbformat_minor": 5
}
