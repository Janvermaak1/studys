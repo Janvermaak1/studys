{
 "cells": [
  {
   "cell_type": "markdown",
   "id": "8aa68fda",
   "metadata": {},
   "source": [
    "Week 3 Activity\n",
    "1. Write a python code to check whether the entered number is an even number\n",
    "or an odd number using the if statement.\n",
    "[Hint: n%2=0 for all even numbers and n%2=1 for all odd numbers, read\n",
    "number using input () function, use if statement]\n",
    "For example:\n",
    "EVEN NUMBERS: 0%2=0, 2%2=0, 4%2=0, 6%2=0….\n",
    "ODD NUMBERS: 1%2=1, 3%2=1, 5%2=1, 7%2=1.......\n",
    "2. Write a python code to check whether the entered number is an even number\n",
    "or an odd number using the if-else statement.\n",
    "[Hint: n%2=0 for all even numbers and n%2=1 for all odd numbers, read\n",
    "number using input () function, use if-else statement]\n",
    "3. Write a python code to read three angles of a triangle and check whether it is\n",
    "valid or not using the if statement.\n",
    "[Hint: Read 3 angles of triangle a1, a2 and a3. For valid triangle, sum of 3\n",
    "angles of the triangle is equal to 180 and the angle should not be negative\n",
    "and zero.]\n",
    "For example, 1: a1=60, a2=70 and a3=50, where a1+a2+a3=180, a1>0, a2>0\n",
    "and a3>0. So, the triangle is VALID.\n",
    "For example, 2: a1=100, a2=40 and a3=70, where a1+a2+a3=210 which\n",
    "means a1+a2+a3≠180 , a1>0, a2>0 and a3>0. So, the triangle is NOT\n",
    "VALID.\n",
    "For example, 3: a1=180, a2=0 and a3=0, where a1+a2+a3=180, a1>0, a2=0\n",
    "and a3=0. So, the triangle is NOT VALID because a2 and a3 are zero.\n",
    "4. Write a python code to read three angles of a triangle and check whether it is\n",
    "valid or not using an if-else statement.\n",
    "[Hint: Read 3 angles of triangle a1, a2 and a3. For valid triangle, sum of 3\n",
    "the angle of the triangle is equal to 180 and the angle should not be negative\n",
    "and zero.]"
   ]
  },
  {
   "cell_type": "markdown",
   "id": "b2cb32c7",
   "metadata": {},
   "source": [
    "Write a python code to check whether the entered number is an even number or an odd number using the if statement. [Hint: n%2=0 for all even numbers and n%2=1 for all odd numbers, read number using input () function, use if statement] For example: EVEN NUMBERS: 0%2=0, 2%2=0, 4%2=0, 6%2=0…. ODD NUMBERS: 1%2=1, 3%2=1, 5%2=1, 7%2=1......."
   ]
  },
  {
   "cell_type": "markdown",
   "id": "dbc9e9ad",
   "metadata": {},
   "source": [
    "# EVEN or ODD number using if statement"
   ]
  },
  {
   "cell_type": "code",
   "execution_count": null,
   "id": "27e0b8e8",
   "metadata": {},
   "outputs": [],
   "source": [
    "n=input(\"Enter number\")\n",
    "n=int(n)\n",
    "\n",
    "if n%2==0:\n",
    "    print(n, \"is Even Number\")\n",
    "if n%2==1:\n",
    "    print(n, \"is Uneven number\")"
   ]
  },
  {
   "cell_type": "markdown",
   "id": "dac01f09",
   "metadata": {},
   "source": [
    "# EVEN or ODD number using if-else statement"
   ]
  },
  {
   "cell_type": "code",
   "execution_count": 5,
   "id": "ff951ad4",
   "metadata": {},
   "outputs": [
    {
     "name": "stdout",
     "output_type": "stream",
     "text": [
      "Enter number7\n",
      "7 is Uneven number\n"
     ]
    }
   ],
   "source": [
    "n=input(\"Enter number\")\n",
    "n=int(n)\n",
    "\n",
    "if n%2==0:\n",
    "    print(n, \"is Even Number\")\n",
    "else:\n",
    "    print(n, \"is Uneven number\")\n",
    "    "
   ]
  },
  {
   "cell_type": "markdown",
   "id": "5504eb84",
   "metadata": {},
   "source": [
    "Write a python code to check whether the entered number is an even number or an odd number using the if-else statement. [Hint: n%2=0 for all even numbers and n%2=1 for all odd numbers, read number using input () function, use if-else statement]"
   ]
  },
  {
   "cell_type": "markdown",
   "id": "fb319eb0",
   "metadata": {},
   "source": [
    "Write a python code to read three angles of a triangle and check whether it is valid or not using the if statement. [Hint: Read 3 angles of triangle a1, a2 and a3. For valid triangle, sum of 3 angles of the triangle is equal to 180 and the angle should not be negative and zero.] For example, 1: a1=60, a2=70 and a3=50, where a1+a2+a3=180, a1>0, a2>0 and a3>0. So, the triangle is VALID. For example, 2: a1=100, a2=40 and a3=70, where a1+a2+a3=210 which means a1+a2+a3≠180 , a1>0, a2>0 and a3>0. So, the triangle is NOT VALID. For example, 3: a1=180, a2=0 and a3=0, where a1+a2+a3=180, a1>0, a2=0 and a3=0. So, the triangle is NOT VALID because a2 and a3 are zero."
   ]
  },
  {
   "cell_type": "markdown",
   "id": "d9c408a6",
   "metadata": {},
   "source": [
    "# VALID OR INVALID TRIANGLE using if statement"
   ]
  },
  {
   "cell_type": "code",
   "execution_count": 7,
   "id": "d26993f6",
   "metadata": {},
   "outputs": [
    {
     "name": "stdout",
     "output_type": "stream",
     "text": [
      "Enter angle 180\n",
      "Enter angle 220\n",
      "Enter angle 380\n",
      "VALID TRIANGLE\n"
     ]
    }
   ],
   "source": [
    "a=input(\"Enter angle 1 \")\n",
    "b=input(\"Enter angle 2 \")\n",
    "c=input(\"Enter angle 3 \")\n",
    "\n",
    "a=int(a)\n",
    "b=int(b)\n",
    "c=int(c)\n",
    "\n",
    "if a+b+c==180 and a>0 and b>0 and c>0:\n",
    "    print(\"VALID TRIANGLE\")\n",
    "if a+b+c!=180 or a<=0 or b<=0 or c<=0:\n",
    "    print(\"INVALID TRIANGLE\")\n"
   ]
  },
  {
   "cell_type": "markdown",
   "id": "a6181a8b",
   "metadata": {},
   "source": [
    "# VALID OR INVALID TRIANGLE using if-else statement"
   ]
  },
  {
   "cell_type": "markdown",
   "id": "512cbc9a",
   "metadata": {},
   "source": [
    "Write a python code to read three angles of a triangle and check whether it is valid or not using an if-else statement. [Hint: Read 3 angles of triangle a1, a2 and a3. For valid triangle, sum of 3 the angle of the triangle is equal to 180 and the angle should not be negative and zero.]"
   ]
  },
  {
   "cell_type": "code",
   "execution_count": null,
   "id": "becddc1b",
   "metadata": {},
   "outputs": [],
   "source": [
    "a=input(\"Enter angle 1 \")\n",
    "b=input(\"Enter angle 2 \")\n",
    "c=input(\"Enter angle 3 \")\n",
    "\n",
    "a=int(a)\n",
    "b=int(b)\n",
    "c=int(c)\n",
    "\n",
    "if a+b+c==180 and a>0 and b>0 and c>0:\n",
    "    print(\"VALID TRIANGLE\")\n",
    "else:\n",
    "    print(\"INVALID TRIANGLE\")"
   ]
  }
 ],
 "metadata": {
  "kernelspec": {
   "display_name": "Python 3 (ipykernel)",
   "language": "python",
   "name": "python3"
  },
  "language_info": {
   "codemirror_mode": {
    "name": "ipython",
    "version": 3
   },
   "file_extension": ".py",
   "mimetype": "text/x-python",
   "name": "python",
   "nbconvert_exporter": "python",
   "pygments_lexer": "ipython3",
   "version": "3.8.8"
  }
 },
 "nbformat": 4,
 "nbformat_minor": 5
}
