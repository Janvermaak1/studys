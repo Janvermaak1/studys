{
 "cells": [
  {
   "cell_type": "markdown",
   "id": "1c318d58",
   "metadata": {},
   "source": [
    "Activity 2\n",
    "1. Write a Python code to perform arithmetic operation (+, -, *, /, %, ** and //).\n",
    "[Hint: Read 2 numbers using input () function, perform all arithmetic\n",
    "operations on those two numbers and display results.]\n",
    "\n",
    "2. Write a Python code to read 3 sides of triangle and find area of triangle.\n",
    "[Hint: Read 3 sides of triangle (a , b and c), calculate semi perimeter\n",
    "i.e., s=(a+b+c)/2, calculate area of triangle i.e., area= √𝑠(𝑠 − 𝑎)(𝑠 − 𝑏)(𝑠 − 𝑐) and\n",
    "display semi perimeter and area of triangle]\n"
   ]
  },
  {
   "cell_type": "code",
   "execution_count": 4,
   "id": "7d4cd58b",
   "metadata": {},
   "outputs": [
    {
     "name": "stdout",
     "output_type": "stream",
     "text": [
      "45\n",
      "29\n"
     ]
    }
   ],
   "source": [
    "x=45\n",
    "y=29\n",
    "print(x)\n",
    "print(y)"
   ]
  },
  {
   "cell_type": "code",
   "execution_count": 6,
   "id": "f07391a3",
   "metadata": {},
   "outputs": [
    {
     "name": "stdout",
     "output_type": "stream",
     "text": [
      "74\n"
     ]
    }
   ],
   "source": [
    "z=x+y\n",
    "print(z)"
   ]
  },
  {
   "cell_type": "code",
   "execution_count": 5,
   "id": "9ab8229f",
   "metadata": {},
   "outputs": [
    {
     "name": "stdout",
     "output_type": "stream",
     "text": [
      "29\n"
     ]
    }
   ],
   "source": [
    "z=x-y\n",
    "print(y)"
   ]
  },
  {
   "cell_type": "code",
   "execution_count": 7,
   "id": "0db1780a",
   "metadata": {},
   "outputs": [
    {
     "name": "stdout",
     "output_type": "stream",
     "text": [
      "1.5517241379310345\n"
     ]
    }
   ],
   "source": [
    "z=x/y\n",
    "print(z)"
   ]
  },
  {
   "cell_type": "code",
   "execution_count": 8,
   "id": "b03c25aa",
   "metadata": {},
   "outputs": [
    {
     "name": "stdout",
     "output_type": "stream",
     "text": [
      "1305\n"
     ]
    }
   ],
   "source": [
    "z=x*y\n",
    "print(z)"
   ]
  },
  {
   "cell_type": "code",
   "execution_count": 9,
   "id": "f22dec08",
   "metadata": {},
   "outputs": [
    {
     "name": "stdout",
     "output_type": "stream",
     "text": [
      "16\n"
     ]
    }
   ],
   "source": [
    "z=x%y\n",
    "print(z)"
   ]
  },
  {
   "cell_type": "code",
   "execution_count": 10,
   "id": "d8f4be3f",
   "metadata": {},
   "outputs": [
    {
     "name": "stdout",
     "output_type": "stream",
     "text": [
      "1\n"
     ]
    }
   ],
   "source": [
    "z=x//y\n",
    "print(z)"
   ]
  },
  {
   "cell_type": "code",
   "execution_count": 11,
   "id": "9c1bcb9b",
   "metadata": {},
   "outputs": [
    {
     "name": "stdout",
     "output_type": "stream",
     "text": [
      "877329837017924494095445366390049457550048828125\n"
     ]
    }
   ],
   "source": [
    "z=x**y\n",
    "print(z)"
   ]
  },
  {
   "cell_type": "code",
   "execution_count": null,
   "id": "097d81d8",
   "metadata": {},
   "outputs": [],
   "source": []
  },
  {
   "cell_type": "markdown",
   "id": "020470eb",
   "metadata": {},
   "source": [
    "2. Write a Python code to read 3 sides of triangle and find area of triangle. [Hint: Read 3 sides of triangle (a , b and c), calculate semi perimeter i.e., s=(a+b+c)/2, calculate area of triangle i.e., area= √𝑠(𝑠 − 𝑎)(𝑠 − 𝑏)(𝑠 − 𝑐) and display semi perimeter and area of triangle]"
   ]
  },
  {
   "cell_type": "code",
   "execution_count": 17,
   "id": "c5847646",
   "metadata": {},
   "outputs": [
    {
     "name": "stdout",
     "output_type": "stream",
     "text": [
      "Enter site 1 of traingle25\n"
     ]
    }
   ],
   "source": [
    "site1=input(\"Enter site 1 of traingle\")"
   ]
  },
  {
   "cell_type": "code",
   "execution_count": 18,
   "id": "721f3269",
   "metadata": {},
   "outputs": [
    {
     "name": "stdout",
     "output_type": "stream",
     "text": [
      "Enter site 2 of traingle25\n"
     ]
    }
   ],
   "source": [
    "site2=input(\"Enter site 2 of traingle\")"
   ]
  },
  {
   "cell_type": "code",
   "execution_count": 19,
   "id": "fda4816a",
   "metadata": {},
   "outputs": [
    {
     "name": "stdout",
     "output_type": "stream",
     "text": [
      "Enter site 3 of traingle25\n"
     ]
    }
   ],
   "source": [
    "site3=input(\"Enter site 3 of traingle\")"
   ]
  },
  {
   "cell_type": "code",
   "execution_count": 22,
   "id": "ad42517b",
   "metadata": {},
   "outputs": [],
   "source": [
    "a=site1\n",
    "b=site2\n",
    "c=site3"
   ]
  },
  {
   "cell_type": "code",
   "execution_count": 34,
   "id": "74914833",
   "metadata": {},
   "outputs": [],
   "source": [
    "a=int(a)\n",
    "b=int(b)\n",
    "c=int(c)"
   ]
  },
  {
   "cell_type": "raw",
   "id": "39615f68",
   "metadata": {},
   "source": []
  },
  {
   "cell_type": "code",
   "execution_count": 36,
   "id": "597ff60d",
   "metadata": {},
   "outputs": [
    {
     "name": "stdout",
     "output_type": "stream",
     "text": [
      "37.5\n"
     ]
    }
   ],
   "source": [
    "s=(a+b+c)/2\n",
    "print(s)"
   ]
  },
  {
   "cell_type": "code",
   "execution_count": 41,
   "id": "e6a145e6",
   "metadata": {},
   "outputs": [
    {
     "name": "stdout",
     "output_type": "stream",
     "text": [
      "15625\n"
     ]
    }
   ],
   "source": [
    "area=a*b*c\n",
    "print(area)"
   ]
  },
  {
   "cell_type": "code",
   "execution_count": null,
   "id": "21c7b1ef",
   "metadata": {},
   "outputs": [],
   "source": []
  }
 ],
 "metadata": {
  "kernelspec": {
   "display_name": "Python 3 (ipykernel)",
   "language": "python",
   "name": "python3"
  },
  "language_info": {
   "codemirror_mode": {
    "name": "ipython",
    "version": 3
   },
   "file_extension": ".py",
   "mimetype": "text/x-python",
   "name": "python",
   "nbconvert_exporter": "python",
   "pygments_lexer": "ipython3",
   "version": "3.9.12"
  }
 },
 "nbformat": 4,
 "nbformat_minor": 5
}
