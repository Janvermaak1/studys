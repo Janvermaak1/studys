{
 "cells": [
  {
   "cell_type": "markdown",
   "id": "6af8bb96",
   "metadata": {},
   "source": [
    "Activity 5\n",
    "1) Define a class ‘CricketPlayer’ with the following members.\n",
    "Variables: name, age, country, runs\n",
    "Functions: init(), display ()\n",
    "init()- to initialize variables name, age, country, runs\n",
    "display()- to display values of variables name, age, country, runs\n",
    "\n",
    "2) Write a Python program to perform the following steps\n",
    "\n",
    "• Create a text file named Test1.txt with some content (at least 5\n",
    "lines).\n",
    "\n",
    "• Open the Test1.txt file in read mode to perform read operation.\n",
    "\n",
    "• Open the Test1.txt to file append the text in file.\n",
    "\n",
    "3) Write a function to find area of triangle.\n",
    "\n",
    "4) Write a function to find maximum of two numbers.\n",
    "\n",
    "5) Write a function to find an average of three numbers."
   ]
  },
  {
   "cell_type": "code",
   "execution_count": null,
   "id": "c532d62c",
   "metadata": {},
   "outputs": [],
   "source": []
  },
  {
   "cell_type": "markdown",
   "id": "7abac30a",
   "metadata": {},
   "source": [
    "1) Define a class ‘CricketPlayer’ with the following members. Variables: name, age, country, runs Functions: init(), display () init()- to initialize variables name, age, country, runs display()- to display values of variables name, age, country, runs"
   ]
  },
  {
   "cell_type": "code",
   "execution_count": 6,
   "id": "e0aca418",
   "metadata": {},
   "outputs": [
    {
     "ename": "AttributeError",
     "evalue": "'CricketPlayer' object has no attribute 'show'",
     "output_type": "error",
     "traceback": [
      "\u001b[1;31m---------------------------------------------------------------------------\u001b[0m",
      "\u001b[1;31mAttributeError\u001b[0m                            Traceback (most recent call last)",
      "Input \u001b[1;32mIn [6]\u001b[0m, in \u001b[0;36m<cell line: 17>\u001b[1;34m()\u001b[0m\n\u001b[0;32m     14\u001b[0m             \u001b[38;5;28mprint\u001b[39m(\u001b[38;5;124m\"\u001b[39m\u001b[38;5;124mRUNS:\u001b[39m\u001b[38;5;124m\"\u001b[39m,\u001b[38;5;28mself\u001b[39m\u001b[38;5;241m.\u001b[39mruns)\n\u001b[0;32m     16\u001b[0m c1\u001b[38;5;241m=\u001b[39mCricketPlayer(\u001b[38;5;124m\"\u001b[39m\u001b[38;5;124mPeter\u001b[39m\u001b[38;5;124m\"\u001b[39m,\u001b[38;5;241m23\u001b[39m,\u001b[38;5;124m\"\u001b[39m\u001b[38;5;124mUSA\u001b[39m\u001b[38;5;124m\"\u001b[39m,\u001b[38;5;241m50\u001b[39m)\n\u001b[1;32m---> 17\u001b[0m \u001b[43mc1\u001b[49m\u001b[38;5;241;43m.\u001b[39;49m\u001b[43mshow\u001b[49m()\n",
      "\u001b[1;31mAttributeError\u001b[0m: 'CricketPlayer' object has no attribute 'show'"
     ]
    }
   ],
   "source": [
    "class CricketPlayer:\n",
    "    sport=\"Cricket\"\n",
    "    def __init__(self,name,age,country,runs):\n",
    "        self.name=name\n",
    "        self.age=age\n",
    "        self.country=country\n",
    "        self.runs=runs\n",
    "        \n",
    "        def show(self):\n",
    "            print(\"SPORT:\",CricketPlayer.sport)\n",
    "            print(\"NAME:\",self.name)\n",
    "            print(\"AGE:\",self.age)\n",
    "            print(\"COUNTRY:\",self.country)\n",
    "            print(\"RUNS:\",self.runs)\n",
    "            \n",
    "c1=CricketPlayer(\"Peter\",23,\"USA\",50)\n",
    "c1.show()\n",
    "            "
   ]
  },
  {
   "cell_type": "code",
   "execution_count": null,
   "id": "43ebaed7",
   "metadata": {},
   "outputs": [],
   "source": []
  },
  {
   "cell_type": "markdown",
   "id": "a8ae4be2",
   "metadata": {},
   "source": [
    "2) Write a Python program to perform the following steps\n",
    "\n",
    "• Create a text file named Test1.txt with some content (at least 5 lines).\n",
    "\n",
    "• Open the Test1.txt file in read mode to perform read operation.\n",
    "\n",
    "• Open the Test1.txt to file append the text in file."
   ]
  },
  {
   "cell_type": "code",
   "execution_count": 16,
   "id": "a3c0e360",
   "metadata": {},
   "outputs": [
    {
     "name": "stdout",
     "output_type": "stream",
     "text": [
      "\n"
     ]
    }
   ],
   "source": [
    "file = open('/Users/Jan Petrus Vermaak/Documents/Test.txt', 'r')\n",
    "print (file.read())\n",
    "file.close()"
   ]
  },
  {
   "cell_type": "code",
   "execution_count": 17,
   "id": "1f1d3c42",
   "metadata": {},
   "outputs": [
    {
     "name": "stdout",
     "output_type": "stream",
     "text": [
      "Output of Readlines after appending\n",
      "\n",
      "\n"
     ]
    }
   ],
   "source": [
    "file = open('/Users/Jan Petrus Vermaak/Documents/Test.txt', 'a+')\n",
    "print(\"Output of Readlines after appending\")\n",
    "print (file.read())\n",
    "print()\n",
    "file.close()"
   ]
  },
  {
   "cell_type": "code",
   "execution_count": null,
   "id": "7db7679c",
   "metadata": {},
   "outputs": [],
   "source": []
  },
  {
   "cell_type": "markdown",
   "id": "84eed56f",
   "metadata": {},
   "source": [
    "3) Write a function to find area of triangle."
   ]
  },
  {
   "cell_type": "code",
   "execution_count": 18,
   "id": "cc8e9ead",
   "metadata": {},
   "outputs": [
    {
     "name": "stdout",
     "output_type": "stream",
     "text": [
      "Enter site 112\n",
      "Enter site 213\n",
      "Enter site 315\n",
      "20.0\n",
      "Area of triangle 74.83314773547883\n"
     ]
    }
   ],
   "source": [
    "a=input(\"Enter site 1\")\n",
    "b=input(\"Enter site 2\")\n",
    "c=input(\"Enter site 3\")\n",
    "\n",
    "a=int(a)\n",
    "b=int(b)\n",
    "c=int(c)\n",
    "\n",
    "s=(a+b+c)/2\n",
    "print(s)\n",
    "\n",
    "area=(s*(s-a)*(s-b)*(s-c))**0.5\n",
    "\n",
    "print(\"Area of triangle\", area)"
   ]
  },
  {
   "cell_type": "code",
   "execution_count": null,
   "id": "ae4c9fa4",
   "metadata": {},
   "outputs": [],
   "source": []
  },
  {
   "cell_type": "markdown",
   "id": "25312ca5",
   "metadata": {},
   "source": [
    "4) Write a function to find maximum of two numbers."
   ]
  },
  {
   "cell_type": "code",
   "execution_count": 19,
   "id": "526bd520",
   "metadata": {},
   "outputs": [
    {
     "name": "stdout",
     "output_type": "stream",
     "text": [
      "Enter number23\n",
      "Enter number12\n",
      "23 is max\n"
     ]
    }
   ],
   "source": [
    "x=input(\"Enter number\")\n",
    "y=input(\"Enter number\")\n",
    "\n",
    "x=int(x)\n",
    "y=int(y)\n",
    "\n",
    "if x>y:\n",
    "    print(x,\"is max\")\n",
    "    \n",
    "if y>x:\n",
    "    print(y,\"is max\")"
   ]
  },
  {
   "cell_type": "code",
   "execution_count": null,
   "id": "90e8f22c",
   "metadata": {},
   "outputs": [],
   "source": []
  },
  {
   "cell_type": "markdown",
   "id": "aea60801",
   "metadata": {},
   "source": [
    "5) Write a function to find an average of three numbers."
   ]
  },
  {
   "cell_type": "code",
   "execution_count": 20,
   "id": "be512a0d",
   "metadata": {},
   "outputs": [
    {
     "name": "stdout",
     "output_type": "stream",
     "text": [
      "Enter number12\n",
      "Enter number13\n",
      "Enter number21\n",
      "21 is max\n"
     ]
    }
   ],
   "source": [
    "x=input(\"Enter number\")\n",
    "y=input(\"Enter number\")\n",
    "z=input(\"Enter number\")\n",
    "\n",
    "x=int(x)\n",
    "y=int(y)\n",
    "z=int(z)\n",
    "\n",
    "if x>y and x>z:\n",
    "    print(x,\"is max\")\n",
    "elif y>z:\n",
    "    print(y,\"is max\")\n",
    "else:\n",
    "    print(z,\"is max\")"
   ]
  },
  {
   "cell_type": "code",
   "execution_count": null,
   "id": "ffe4bd3d",
   "metadata": {},
   "outputs": [],
   "source": []
  }
 ],
 "metadata": {
  "kernelspec": {
   "display_name": "Python 3 (ipykernel)",
   "language": "python",
   "name": "python3"
  },
  "language_info": {
   "codemirror_mode": {
    "name": "ipython",
    "version": 3
   },
   "file_extension": ".py",
   "mimetype": "text/x-python",
   "name": "python",
   "nbconvert_exporter": "python",
   "pygments_lexer": "ipython3",
   "version": "3.9.12"
  }
 },
 "nbformat": 4,
 "nbformat_minor": 5
}
