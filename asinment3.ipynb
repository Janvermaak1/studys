{
 "cells": [
  {
   "cell_type": "markdown",
   "id": "cef790f8",
   "metadata": {},
   "source": [
    "Week 3 Activity 4\n",
    "\n",
    "1. Write a python code to create a list Country with below countries and then\n",
    "display the items in the list using a for loop.\n",
    "Country= SOUTH AFRICA, NIGERIA, INDIA, UK, USA,\n",
    "AUSTRALIA\n",
    "\n",
    "2. Write a python code to display squares of 1 to 10. (Use for loop or while\n",
    "loop)\n",
    "For example:\n",
    "Square of 1 =1, Square of 2 is 4, Square of 3 is 9....\n",
    "So, output will be 1,4,9,16,25,36,49,64,81,100\n",
    "\n",
    "3. Write a python code to display squares of 1 to n. (Use for loop or while\n",
    "loop)\n",
    "For example:\n",
    "Square of 1 =1, Square of 2 is 4, Square of 3 is 9....\n",
    "So, output will be 1,4,9,16,25,36,49,64,81, 100, ........n\n",
    "2\n",
    "\n",
    "4. Write a python code to display a multiplication table of any number.\n",
    "[Hint: Read a number n. Use for loop or while loop to display below pattern\n",
    "For example, n=4\n",
    "4 * 1= 4\n",
    "4 * 2 = 8\n",
    "4 * 3 = 12\n",
    ":\n",
    ":\n",
    "4 * 10 = 40\n"
   ]
  },
  {
   "cell_type": "markdown",
   "id": "cd4d6f52",
   "metadata": {},
   "source": [
    "1. Write a python code to create a list Country with below countries and then display the items in the list using a for loop. Country= SOUTH AFRICA, NIGERIA, INDIA, UK, USA, AUSTRALIA"
   ]
  },
  {
   "cell_type": "code",
   "execution_count": 29,
   "id": "21b8c811",
   "metadata": {},
   "outputs": [
    {
     "name": "stdout",
     "output_type": "stream",
     "text": [
      "AUSTRALIA\n",
      "INDIA\n",
      "USA\n",
      "SOUTH AFRICA\n",
      "UK\n",
      "NIGERIA\n"
     ]
    }
   ],
   "source": [
    "Country={\"SOUTH AFRICA\",\"NIGERIA\",\"INDIA\",\"UK\",\"USA\",\"AUSTRALIA\"}\n",
    "\n",
    "for i in Country:\n",
    "    print(i)"
   ]
  },
  {
   "cell_type": "code",
   "execution_count": 30,
   "id": "3227649a",
   "metadata": {},
   "outputs": [],
   "source": [
    "x=Country"
   ]
  },
  {
   "cell_type": "code",
   "execution_count": 31,
   "id": "041b846b",
   "metadata": {},
   "outputs": [
    {
     "name": "stdout",
     "output_type": "stream",
     "text": [
      "{'AUSTRALIA', 'INDIA', 'USA', 'SOUTH AFRICA', 'UK', 'NIGERIA'}\n"
     ]
    }
   ],
   "source": [
    "print(x)"
   ]
  },
  {
   "cell_type": "code",
   "execution_count": 36,
   "id": "9383aaa6",
   "metadata": {},
   "outputs": [
    {
     "ename": "SyntaxError",
     "evalue": "invalid syntax (3040203257.py, line 1)",
     "output_type": "error",
     "traceback": [
      "\u001b[1;36m  Input \u001b[1;32mIn [36]\u001b[1;36m\u001b[0m\n\u001b[1;33m    for i range(3):\u001b[0m\n\u001b[1;37m          ^\u001b[0m\n\u001b[1;31mSyntaxError\u001b[0m\u001b[1;31m:\u001b[0m invalid syntax\n"
     ]
    }
   ],
   "source": [
    "for i range(3):\n",
    "    print(i)"
   ]
  },
  {
   "cell_type": "code",
   "execution_count": 33,
   "id": "671274f1",
   "metadata": {
    "scrolled": true
   },
   "outputs": [
    {
     "name": "stdout",
     "output_type": "stream",
     "text": [
      "1\n",
      "2\n"
     ]
    }
   ],
   "source": [
    "for i in range(1,3):\n",
    "    print(i)"
   ]
  },
  {
   "cell_type": "code",
   "execution_count": 37,
   "id": "20182fcd",
   "metadata": {},
   "outputs": [
    {
     "name": "stdout",
     "output_type": "stream",
     "text": [
      "1\n"
     ]
    }
   ],
   "source": [
    "for i in range(1,3,8):\n",
    "    print(i)"
   ]
  },
  {
   "cell_type": "code",
   "execution_count": 24,
   "id": "ed2d6892",
   "metadata": {},
   "outputs": [
    {
     "data": {
      "text/plain": [
       "{'AUSTRALIA', 'INDIA', 'NIGERIA', 'SOUTH AFRICA', 'UK', 'USA'}"
      ]
     },
     "execution_count": 24,
     "metadata": {},
     "output_type": "execute_result"
    }
   ],
   "source": [
    "Country"
   ]
  },
  {
   "cell_type": "code",
   "execution_count": 26,
   "id": "e8b41503",
   "metadata": {},
   "outputs": [
    {
     "ename": "AttributeError",
     "evalue": "'set' object has no attribute 'items'",
     "output_type": "error",
     "traceback": [
      "\u001b[1;31m---------------------------------------------------------------------------\u001b[0m",
      "\u001b[1;31mAttributeError\u001b[0m                            Traceback (most recent call last)",
      "Input \u001b[1;32mIn [26]\u001b[0m, in \u001b[0;36m<cell line: 1>\u001b[1;34m()\u001b[0m\n\u001b[1;32m----> 1\u001b[0m h\u001b[38;5;241m=\u001b[39m\u001b[43mCountry\u001b[49m\u001b[38;5;241;43m.\u001b[39;49m\u001b[43mitems\u001b[49m()\n\u001b[0;32m      2\u001b[0m \u001b[38;5;28mprint\u001b[39m(h)\n",
      "\u001b[1;31mAttributeError\u001b[0m: 'set' object has no attribute 'items'"
     ]
    }
   ],
   "source": [
    "h=Country.items()\n",
    "print(h)"
   ]
  },
  {
   "cell_type": "code",
   "execution_count": 27,
   "id": "b5468b40",
   "metadata": {},
   "outputs": [
    {
     "ename": "AttributeError",
     "evalue": "'set' object has no attribute 'popitem'",
     "output_type": "error",
     "traceback": [
      "\u001b[1;31m---------------------------------------------------------------------------\u001b[0m",
      "\u001b[1;31mAttributeError\u001b[0m                            Traceback (most recent call last)",
      "Input \u001b[1;32mIn [27]\u001b[0m, in \u001b[0;36m<cell line: 1>\u001b[1;34m()\u001b[0m\n\u001b[1;32m----> 1\u001b[0m \u001b[43mCountry\u001b[49m\u001b[38;5;241;43m.\u001b[39;49m\u001b[43mpopitem\u001b[49m()\n\u001b[0;32m      2\u001b[0m \u001b[38;5;28mprint\u001b[39m(Country)\n",
      "\u001b[1;31mAttributeError\u001b[0m: 'set' object has no attribute 'popitem'"
     ]
    }
   ],
   "source": [
    "Country.popitem()\n",
    "print(Country)"
   ]
  },
  {
   "cell_type": "markdown",
   "id": "fdc83958",
   "metadata": {},
   "source": [
    "2. Write a python code to display squares of 1 to 10. (Use for loop or while\n",
    "loop)\n",
    "For example:\n",
    "Square of 1 =1, Square of 2 is 4, Square of 3 is 9....\n",
    "So, output will be 1,4,9,16,25,36,49,64,81,100"
   ]
  },
  {
   "cell_type": "code",
   "execution_count": 38,
   "id": "f2316847",
   "metadata": {},
   "outputs": [
    {
     "name": "stdout",
     "output_type": "stream",
     "text": [
      "1\n",
      "2\n",
      "3\n",
      "4\n",
      "5\n",
      "6\n",
      "7\n",
      "8\n",
      "9\n",
      "10\n"
     ]
    }
   ],
   "source": [
    "i=1\n",
    "while i<=10:\n",
    "    print(i)\n",
    "    i=i+1\n"
   ]
  },
  {
   "cell_type": "code",
   "execution_count": 40,
   "id": "16f9c122",
   "metadata": {},
   "outputs": [
    {
     "name": "stdout",
     "output_type": "stream",
     "text": [
      "1.0\n"
     ]
    }
   ],
   "source": [
    "import math\n",
    "\n",
    "a=1\n",
    "s=math.sqrt(1)\n",
    "print(s)"
   ]
  },
  {
   "cell_type": "code",
   "execution_count": 50,
   "id": "21425a5b",
   "metadata": {},
   "outputs": [
    {
     "name": "stdout",
     "output_type": "stream",
     "text": [
      "2.0\n"
     ]
    }
   ],
   "source": [
    "import math\n",
    "\n",
    "a=2\n",
    "s=math.sqrt(4)\n",
    "print(s)"
   ]
  },
  {
   "cell_type": "code",
   "execution_count": 51,
   "id": "244b840f",
   "metadata": {},
   "outputs": [
    {
     "name": "stdout",
     "output_type": "stream",
     "text": [
      "3.0\n"
     ]
    }
   ],
   "source": [
    "import math\n",
    "\n",
    "a=3\n",
    "s=math.sqrt(9)\n",
    "print(s)"
   ]
  },
  {
   "cell_type": "code",
   "execution_count": 52,
   "id": "75249ee0",
   "metadata": {},
   "outputs": [
    {
     "name": "stdout",
     "output_type": "stream",
     "text": [
      "4.0\n"
     ]
    }
   ],
   "source": [
    "import math\n",
    "\n",
    "a=4\n",
    "s=math.sqrt(16)\n",
    "print(s)"
   ]
  },
  {
   "cell_type": "code",
   "execution_count": 53,
   "id": "cb7028da",
   "metadata": {},
   "outputs": [
    {
     "name": "stdout",
     "output_type": "stream",
     "text": [
      "5.0\n"
     ]
    }
   ],
   "source": [
    "import math\n",
    "\n",
    "a=5\n",
    "s=math.sqrt(25)\n",
    "print(s)"
   ]
  },
  {
   "cell_type": "code",
   "execution_count": 54,
   "id": "229ce9d9",
   "metadata": {},
   "outputs": [
    {
     "name": "stdout",
     "output_type": "stream",
     "text": [
      "6.0\n"
     ]
    }
   ],
   "source": [
    "import math\n",
    "\n",
    "a=6\n",
    "s=math.sqrt(36)\n",
    "print(s)"
   ]
  },
  {
   "cell_type": "code",
   "execution_count": 55,
   "id": "9bdea9b0",
   "metadata": {},
   "outputs": [
    {
     "name": "stdout",
     "output_type": "stream",
     "text": [
      "7.0\n"
     ]
    }
   ],
   "source": [
    "import math\n",
    "\n",
    "a=7\n",
    "s=math.sqrt(49)\n",
    "print(s)"
   ]
  },
  {
   "cell_type": "code",
   "execution_count": 56,
   "id": "62ffd051",
   "metadata": {},
   "outputs": [
    {
     "name": "stdout",
     "output_type": "stream",
     "text": [
      "8.0\n"
     ]
    }
   ],
   "source": [
    "import math\n",
    "\n",
    "a=8\n",
    "s=math.sqrt(64)\n",
    "print(s)"
   ]
  },
  {
   "cell_type": "code",
   "execution_count": 57,
   "id": "d787f5b5",
   "metadata": {},
   "outputs": [
    {
     "name": "stdout",
     "output_type": "stream",
     "text": [
      "9.0\n"
     ]
    }
   ],
   "source": [
    "import math\n",
    "\n",
    "a=9\n",
    "s=math.sqrt(81)\n",
    "print(s)"
   ]
  },
  {
   "cell_type": "code",
   "execution_count": 58,
   "id": "5a5c863c",
   "metadata": {},
   "outputs": [
    {
     "name": "stdout",
     "output_type": "stream",
     "text": [
      "10.0\n"
     ]
    }
   ],
   "source": [
    "import math\n",
    "\n",
    "a=10\n",
    "s=math.sqrt(100)\n",
    "print(s)"
   ]
  },
  {
   "cell_type": "markdown",
   "id": "876000f0",
   "metadata": {},
   "source": [
    "3. Write a python code to display squares of 1 to n. (Use for loop or while\n",
    "loop)\n",
    "For example:\n",
    "Square of 1 =1, Square of 2 is 4, Square of 3 is 9....\n",
    "So, output will be 1,4,9,16,25,36,49,64,81, 100, ........n\n",
    "2"
   ]
  },
  {
   "cell_type": "code",
   "execution_count": 60,
   "id": "b64b9690",
   "metadata": {},
   "outputs": [
    {
     "name": "stdout",
     "output_type": "stream",
     "text": [
      "2.0\n"
     ]
    }
   ],
   "source": [
    "n=2**(1/1)\n",
    "print(n)\n"
   ]
  },
  {
   "cell_type": "code",
   "execution_count": 63,
   "id": "ed162eb8",
   "metadata": {},
   "outputs": [
    {
     "name": "stdout",
     "output_type": "stream",
     "text": [
      "4.0\n"
     ]
    }
   ],
   "source": [
    "n=2**(2/1)\n",
    "print(n)"
   ]
  },
  {
   "cell_type": "code",
   "execution_count": 68,
   "id": "0882bc45",
   "metadata": {},
   "outputs": [
    {
     "name": "stdout",
     "output_type": "stream",
     "text": [
      "8.0\n"
     ]
    }
   ],
   "source": [
    "n=2**(3/1)\n",
    "print(n)"
   ]
  },
  {
   "cell_type": "code",
   "execution_count": 69,
   "id": "23a264b6",
   "metadata": {},
   "outputs": [
    {
     "name": "stdout",
     "output_type": "stream",
     "text": [
      "16.0\n"
     ]
    }
   ],
   "source": [
    "n=2**(4/1)\n",
    "print(n)"
   ]
  },
  {
   "cell_type": "code",
   "execution_count": 70,
   "id": "5da73b58",
   "metadata": {},
   "outputs": [
    {
     "name": "stdout",
     "output_type": "stream",
     "text": [
      "32.0\n"
     ]
    }
   ],
   "source": [
    "n=2**(5/1)\n",
    "print(n)"
   ]
  },
  {
   "cell_type": "code",
   "execution_count": 71,
   "id": "e37ccacb",
   "metadata": {},
   "outputs": [
    {
     "name": "stdout",
     "output_type": "stream",
     "text": [
      "64.0\n"
     ]
    }
   ],
   "source": [
    "n=2**(6/1)\n",
    "print(n)"
   ]
  },
  {
   "cell_type": "code",
   "execution_count": 72,
   "id": "ca4e49a4",
   "metadata": {},
   "outputs": [
    {
     "name": "stdout",
     "output_type": "stream",
     "text": [
      "128.0\n"
     ]
    }
   ],
   "source": [
    "n=2**(7/1)\n",
    "print(n)"
   ]
  },
  {
   "cell_type": "code",
   "execution_count": 73,
   "id": "1828377d",
   "metadata": {},
   "outputs": [
    {
     "name": "stdout",
     "output_type": "stream",
     "text": [
      "256.0\n"
     ]
    }
   ],
   "source": [
    "n=2**(8/1)\n",
    "print(n)"
   ]
  },
  {
   "cell_type": "code",
   "execution_count": 74,
   "id": "b45b61f9",
   "metadata": {},
   "outputs": [
    {
     "name": "stdout",
     "output_type": "stream",
     "text": [
      "512.0\n"
     ]
    }
   ],
   "source": [
    "n=2**(9/1)\n",
    "print(n)"
   ]
  },
  {
   "cell_type": "code",
   "execution_count": 77,
   "id": "3fd9ad43",
   "metadata": {},
   "outputs": [
    {
     "name": "stdout",
     "output_type": "stream",
     "text": [
      "1024.0\n"
     ]
    }
   ],
   "source": [
    "n=2**(10/1)\n",
    "print(n)"
   ]
  },
  {
   "cell_type": "markdown",
   "id": "76fc592f",
   "metadata": {},
   "source": [
    "4. Write a python code to display a multiplication table of any number.\n",
    "[Hint: Read a number n. Use for loop or while loop to display below pattern\n",
    "For example, n=4\n",
    "4 * 1= 4\n",
    "4 * 2 = 8\n",
    "4 * 3 = 12\n",
    ":\n",
    ":\n",
    "4 * 10 = 40"
   ]
  },
  {
   "cell_type": "code",
   "execution_count": 79,
   "id": "9bdc98fe",
   "metadata": {},
   "outputs": [
    {
     "name": "stdout",
     "output_type": "stream",
     "text": [
      "4\n"
     ]
    }
   ],
   "source": [
    "n=4*1\n",
    "print(n)\n"
   ]
  },
  {
   "cell_type": "code",
   "execution_count": 80,
   "id": "df084803",
   "metadata": {},
   "outputs": [
    {
     "name": "stdout",
     "output_type": "stream",
     "text": [
      "8\n"
     ]
    }
   ],
   "source": [
    "n=4*2\n",
    "print(n)"
   ]
  },
  {
   "cell_type": "code",
   "execution_count": 81,
   "id": "79d6a08b",
   "metadata": {},
   "outputs": [
    {
     "name": "stdout",
     "output_type": "stream",
     "text": [
      "12\n"
     ]
    }
   ],
   "source": [
    "n=4*3\n",
    "print(n)"
   ]
  },
  {
   "cell_type": "code",
   "execution_count": 82,
   "id": "2c949192",
   "metadata": {},
   "outputs": [
    {
     "name": "stdout",
     "output_type": "stream",
     "text": [
      "16\n"
     ]
    }
   ],
   "source": [
    "n=4*4\n",
    "print(n)"
   ]
  },
  {
   "cell_type": "code",
   "execution_count": 83,
   "id": "7de071f3",
   "metadata": {},
   "outputs": [
    {
     "name": "stdout",
     "output_type": "stream",
     "text": [
      "20\n"
     ]
    }
   ],
   "source": [
    "n=4*5\n",
    "print(n)"
   ]
  },
  {
   "cell_type": "code",
   "execution_count": 84,
   "id": "c53eddca",
   "metadata": {},
   "outputs": [
    {
     "name": "stdout",
     "output_type": "stream",
     "text": [
      "24\n"
     ]
    }
   ],
   "source": [
    "n=4*6\n",
    "print(n)"
   ]
  },
  {
   "cell_type": "code",
   "execution_count": 85,
   "id": "f7879f0c",
   "metadata": {},
   "outputs": [
    {
     "name": "stdout",
     "output_type": "stream",
     "text": [
      "28\n"
     ]
    }
   ],
   "source": [
    "n=4*7\n",
    "print(n)"
   ]
  },
  {
   "cell_type": "code",
   "execution_count": 86,
   "id": "64a8b305",
   "metadata": {},
   "outputs": [
    {
     "name": "stdout",
     "output_type": "stream",
     "text": [
      "32\n"
     ]
    }
   ],
   "source": [
    "n=4*8\n",
    "print(n)"
   ]
  },
  {
   "cell_type": "code",
   "execution_count": 87,
   "id": "56972a64",
   "metadata": {},
   "outputs": [
    {
     "name": "stdout",
     "output_type": "stream",
     "text": [
      "36\n"
     ]
    }
   ],
   "source": [
    "n=4*9\n",
    "print(n)"
   ]
  },
  {
   "cell_type": "code",
   "execution_count": 88,
   "id": "5642bcf5",
   "metadata": {},
   "outputs": [
    {
     "name": "stdout",
     "output_type": "stream",
     "text": [
      "40\n"
     ]
    }
   ],
   "source": [
    "n=4*10\n",
    "print(n)"
   ]
  },
  {
   "cell_type": "code",
   "execution_count": null,
   "id": "bc74b2c3",
   "metadata": {},
   "outputs": [],
   "source": []
  }
 ],
 "metadata": {
  "kernelspec": {
   "display_name": "Python 3 (ipykernel)",
   "language": "python",
   "name": "python3"
  },
  "language_info": {
   "codemirror_mode": {
    "name": "ipython",
    "version": 3
   },
   "file_extension": ".py",
   "mimetype": "text/x-python",
   "name": "python",
   "nbconvert_exporter": "python",
   "pygments_lexer": "ipython3",
   "version": "3.9.12"
  }
 },
 "nbformat": 4,
 "nbformat_minor": 5
}
