{
 "cells": [
  {
   "cell_type": "markdown",
   "id": "1640b98d",
   "metadata": {},
   "source": [
    "Activity\n",
    "● Design a database to store and manipulate employee data.\n",
    "● Create EMPLOYEE database and then create tables in it.\n",
    "● Perform insert, update and delete operations on tables created in EMPLOYEE\n",
    "database."
   ]
  },
  {
   "cell_type": "code",
   "execution_count": 2,
   "id": "a04953f1",
   "metadata": {},
   "outputs": [
    {
     "name": "stdout",
     "output_type": "stream",
     "text": [
      "Opened database successfully\n"
     ]
    }
   ],
   "source": [
    "import sqlite3\n",
    "conn=sqlite3.connect('cstd.db')\n",
    "print(\"Opened database successfully\")"
   ]
  },
  {
   "cell_type": "code",
   "execution_count": 4,
   "id": "3149872f",
   "metadata": {},
   "outputs": [
    {
     "name": "stdout",
     "output_type": "stream",
     "text": [
      "Table 1 created successfully\n",
      "Table 2 created successfully\n"
     ]
    }
   ],
   "source": [
    "conn.execute('''CREATE TABLE Employee_Department ( Employee_Number INT PRIMARY KEY NOT NULL, Name TEXT NOT NULL,Department INT NOT NULL);''')\n",
    "\n",
    "print(\"Table 1 created successfully\")\n",
    "\n",
    "conn.execute(\"create table Employee_Info(Employee_no int primarykey not null,Name text not null,Address text not null,Mobile int not null,Date_of_Birth not null)\")\n",
    "\n",
    "print(\"Table 2 created successfully\")"
   ]
  },
  {
   "cell_type": "code",
   "execution_count": 5,
   "id": "ef13494e",
   "metadata": {},
   "outputs": [
    {
     "data": {
      "text/plain": [
       "<sqlite3.Cursor at 0x19f76021f10>"
      ]
     },
     "execution_count": 5,
     "metadata": {},
     "output_type": "execute_result"
    }
   ],
   "source": [
    "conn.execute(\"alter table Employee_info add Gender text not null\")"
   ]
  },
  {
   "cell_type": "code",
   "execution_count": 6,
   "id": "656fa1cd",
   "metadata": {},
   "outputs": [
    {
     "data": {
      "text/plain": [
       "<sqlite3.Cursor at 0x19f76021b90>"
      ]
     },
     "execution_count": 6,
     "metadata": {},
     "output_type": "execute_result"
    }
   ],
   "source": [
    "conn.execute(\"drop table Employee_Info\")"
   ]
  },
  {
   "cell_type": "code",
   "execution_count": 8,
   "id": "112183e7",
   "metadata": {},
   "outputs": [
    {
     "ename": "OperationalError",
     "evalue": "no such table: Employee_Number",
     "output_type": "error",
     "traceback": [
      "\u001b[1;31m---------------------------------------------------------------------------\u001b[0m",
      "\u001b[1;31mOperationalError\u001b[0m                          Traceback (most recent call last)",
      "Input \u001b[1;32mIn [8]\u001b[0m, in \u001b[0;36m<cell line: 1>\u001b[1;34m()\u001b[0m\n\u001b[1;32m----> 1\u001b[0m \u001b[43mconn\u001b[49m\u001b[38;5;241;43m.\u001b[39;49m\u001b[43mexecute\u001b[49m\u001b[43m(\u001b[49m\u001b[38;5;124;43m\"\u001b[39;49m\u001b[38;5;124;43mINSERT INTO Employee_Number(Employee_Number,Name,Departments)VALUES(1,\u001b[39;49m\u001b[38;5;124;43m'\u001b[39;49m\u001b[38;5;124;43mJohn\u001b[39;49m\u001b[38;5;124;43m'\u001b[39;49m\u001b[38;5;124;43m,Operations)\u001b[39;49m\u001b[38;5;124;43m\"\u001b[39;49m\u001b[43m)\u001b[49m\n",
      "\u001b[1;31mOperationalError\u001b[0m: no such table: Employee_Number"
     ]
    }
   ],
   "source": [
    "conn.execute(\"INSERT INTO Employee_Number(Employee_Number,Name,Departments)VALUES(1,'John',Operations)\");"
   ]
  },
  {
   "cell_type": "code",
   "execution_count": 9,
   "id": "f0b1ea79",
   "metadata": {},
   "outputs": [
    {
     "ename": "OperationalError",
     "evalue": "no such table: Employee_Number",
     "output_type": "error",
     "traceback": [
      "\u001b[1;31m---------------------------------------------------------------------------\u001b[0m",
      "\u001b[1;31mOperationalError\u001b[0m                          Traceback (most recent call last)",
      "Input \u001b[1;32mIn [9]\u001b[0m, in \u001b[0;36m<cell line: 1>\u001b[1;34m()\u001b[0m\n\u001b[1;32m----> 1\u001b[0m \u001b[43mconn\u001b[49m\u001b[38;5;241;43m.\u001b[39;49m\u001b[43mexecute\u001b[49m\u001b[43m(\u001b[49m\u001b[38;5;124;43m\"\u001b[39;49m\u001b[38;5;124;43mINSERT INTO Employee_Number(Employee_Number,Name,Departments)VALUES(21,\u001b[39;49m\u001b[38;5;124;43m'\u001b[39;49m\u001b[38;5;124;43mChantal\u001b[39;49m\u001b[38;5;124;43m'\u001b[39;49m\u001b[38;5;124;43m,QA)\u001b[39;49m\u001b[38;5;124;43m\"\u001b[39;49m\u001b[43m)\u001b[49m\n",
      "\u001b[1;31mOperationalError\u001b[0m: no such table: Employee_Number"
     ]
    }
   ],
   "source": [
    "conn.execute(\"INSERT INTO Employee_Number(Employee_Number,Name,Departments)VALUES(21,'Chantal',QA)\");"
   ]
  },
  {
   "cell_type": "code",
   "execution_count": 10,
   "id": "73e4ab23",
   "metadata": {},
   "outputs": [
    {
     "ename": "OperationalError",
     "evalue": "no such table: Employee_Number",
     "output_type": "error",
     "traceback": [
      "\u001b[1;31m---------------------------------------------------------------------------\u001b[0m",
      "\u001b[1;31mOperationalError\u001b[0m                          Traceback (most recent call last)",
      "Input \u001b[1;32mIn [10]\u001b[0m, in \u001b[0;36m<cell line: 1>\u001b[1;34m()\u001b[0m\n\u001b[1;32m----> 1\u001b[0m \u001b[43mconn\u001b[49m\u001b[38;5;241;43m.\u001b[39;49m\u001b[43mexecute\u001b[49m\u001b[43m(\u001b[49m\u001b[38;5;124;43m\"\u001b[39;49m\u001b[38;5;124;43mINSERT INTO Employee_Number(Employee_Number,Name,Departments)VALUES(23,\u001b[39;49m\u001b[38;5;124;43m'\u001b[39;49m\u001b[38;5;124;43mJan\u001b[39;49m\u001b[38;5;124;43m'\u001b[39;49m\u001b[38;5;124;43m,IT)\u001b[39;49m\u001b[38;5;124;43m\"\u001b[39;49m\u001b[43m)\u001b[49m\n",
      "\u001b[1;31mOperationalError\u001b[0m: no such table: Employee_Number"
     ]
    }
   ],
   "source": [
    "conn.execute(\"INSERT INTO Employee_Number(Employee_Number,Name,Departments)VALUES(23,'Jan',IT)\");"
   ]
  },
  {
   "cell_type": "code",
   "execution_count": 11,
   "id": "d85afa93",
   "metadata": {},
   "outputs": [
    {
     "ename": "OperationalError",
     "evalue": "no such table: Student_department",
     "output_type": "error",
     "traceback": [
      "\u001b[1;31m---------------------------------------------------------------------------\u001b[0m",
      "\u001b[1;31mOperationalError\u001b[0m                          Traceback (most recent call last)",
      "Input \u001b[1;32mIn [11]\u001b[0m, in \u001b[0;36m<cell line: 1>\u001b[1;34m()\u001b[0m\n\u001b[1;32m----> 1\u001b[0m CURSOR\u001b[38;5;241m=\u001b[39m\u001b[43mconn\u001b[49m\u001b[38;5;241;43m.\u001b[39;49m\u001b[43mexecute\u001b[49m\u001b[43m(\u001b[49m\u001b[38;5;124;43m\"\u001b[39;49m\u001b[38;5;124;43mSelect Employee_Number,Name,Department FROM Student_department\u001b[39;49m\u001b[38;5;124;43m\"\u001b[39;49m\u001b[43m)\u001b[49m\n\u001b[0;32m      2\u001b[0m \u001b[38;5;28;01mfor\u001b[39;00m row \u001b[38;5;129;01min\u001b[39;00m CURSOR:\n\u001b[0;32m      3\u001b[0m     \u001b[38;5;28mprint\u001b[39m(\u001b[38;5;124m\"\u001b[39m\u001b[38;5;124mEmployee_Number=\u001b[39m\u001b[38;5;124m\"\u001b[39m,row[\u001b[38;5;241m0\u001b[39m])\n",
      "\u001b[1;31mOperationalError\u001b[0m: no such table: Student_department"
     ]
    }
   ],
   "source": [
    "CURSOR=conn.execute(\"Select Employee_Number,Name,Department FROM Student_department\")\n",
    "for row in CURSOR:\n",
    "    print(\"Employee_Number=\",row[0])\n",
    "    print(\"NAME=\",row[1])\n",
    "    print(\"Department=\",row[2])"
   ]
  },
  {
   "cell_type": "code",
   "execution_count": 12,
   "id": "e7607c51",
   "metadata": {},
   "outputs": [
    {
     "name": "stdout",
     "output_type": "stream",
     "text": [
      "fetchall:\n"
     ]
    }
   ],
   "source": [
    "cursor = conn.cursor()\n",
    "\n",
    "cursor.execute(\"SELECT * FROM Employee_Department\")\n",
    "\n",
    "print(\"fetchall:\")\n",
    "\n",
    "result = cursor.fetchall()\n",
    "\n",
    "for r in result:\n",
    "    \n",
    "    print(r)"
   ]
  },
  {
   "cell_type": "code",
   "execution_count": 14,
   "id": "3e7be027",
   "metadata": {},
   "outputs": [
    {
     "name": "stdout",
     "output_type": "stream",
     "text": [
      "fetchall:\n"
     ]
    }
   ],
   "source": [
    "cursor.execute(\"update Employee_Department set Name= 'Petrus' where Employee_Number\")\n",
    "\n",
    "cursor = conn.cursor()\n",
    "\n",
    "cursor.execute(\"SELECT * FROM Employee_Department\")\n",
    "\n",
    "print(\"fetchall:\")\n",
    "\n",
    "result = cursor.fetchall()\n",
    "\n",
    "for r in result:\n",
    "    \n",
    "    print(r)"
   ]
  },
  {
   "cell_type": "code",
   "execution_count": null,
   "id": "8b4f1fe9",
   "metadata": {},
   "outputs": [],
   "source": []
  }
 ],
 "metadata": {
  "kernelspec": {
   "display_name": "Python 3 (ipykernel)",
   "language": "python",
   "name": "python3"
  },
  "language_info": {
   "codemirror_mode": {
    "name": "ipython",
    "version": 3
   },
   "file_extension": ".py",
   "mimetype": "text/x-python",
   "name": "python",
   "nbconvert_exporter": "python",
   "pygments_lexer": "ipython3",
   "version": "3.9.12"
  }
 },
 "nbformat": 4,
 "nbformat_minor": 5
}
