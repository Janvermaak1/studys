{
 "cells": [
  {
   "cell_type": "markdown",
   "id": "8aa68fda",
   "metadata": {},
   "source": [
    "Week 3 Activity\n",
    "1. Write a python code to check whether the entered number is an even number\n",
    "or an odd number using the if statement.\n",
    "[Hint: n%2=0 for all even numbers and n%2=1 for all odd numbers, read\n",
    "number using input () function, use if statement]\n",
    "For example:\n",
    "EVEN NUMBERS: 0%2=0, 2%2=0, 4%2=0, 6%2=0….\n",
    "ODD NUMBERS: 1%2=1, 3%2=1, 5%2=1, 7%2=1.......\n",
    "2. Write a python code to check whether the entered number is an even number\n",
    "or an odd number using the if-else statement.\n",
    "[Hint: n%2=0 for all even numbers and n%2=1 for all odd numbers, read\n",
    "number using input () function, use if-else statement]\n",
    "3. Write a python code to read three angles of a triangle and check whether it is\n",
    "valid or not using the if statement.\n",
    "[Hint: Read 3 angles of triangle a1, a2 and a3. For valid triangle, sum of 3\n",
    "angles of the triangle is equal to 180 and the angle should not be negative\n",
    "and zero.]\n",
    "For example, 1: a1=60, a2=70 and a3=50, where a1+a2+a3=180, a1>0, a2>0\n",
    "and a3>0. So, the triangle is VALID.\n",
    "For example, 2: a1=100, a2=40 and a3=70, where a1+a2+a3=210 which\n",
    "means a1+a2+a3≠180 , a1>0, a2>0 and a3>0. So, the triangle is NOT\n",
    "VALID.\n",
    "For example, 3: a1=180, a2=0 and a3=0, where a1+a2+a3=180, a1>0, a2=0\n",
    "and a3=0. So, the triangle is NOT VALID because a2 and a3 are zero.\n",
    "4. Write a python code to read three angles of a triangle and check whether it is\n",
    "valid or not using an if-else statement.\n",
    "[Hint: Read 3 angles of triangle a1, a2 and a3. For valid triangle, sum of 3\n",
    "the angle of the triangle is equal to 180 and the angle should not be negative\n",
    "and zero.]"
   ]
  },
  {
   "cell_type": "markdown",
   "id": "b2cb32c7",
   "metadata": {},
   "source": [
    "Write a python code to check whether the entered number is an even number or an odd number using the if statement. [Hint: n%2=0 for all even numbers and n%2=1 for all odd numbers, read number using input () function, use if statement] For example: EVEN NUMBERS: 0%2=0, 2%2=0, 4%2=0, 6%2=0…. ODD NUMBERS: 1%2=1, 3%2=1, 5%2=1, 7%2=1......."
   ]
  },
  {
   "cell_type": "code",
   "execution_count": 2,
   "id": "ff951ad4",
   "metadata": {},
   "outputs": [
    {
     "ename": "SyntaxError",
     "evalue": "invalid syntax (3701621796.py, line 5)",
     "output_type": "error",
     "traceback": [
      "\u001b[1;36m  Input \u001b[1;32mIn [2]\u001b[1;36m\u001b[0m\n\u001b[1;33m    print(n, is \"Even Number\")\u001b[0m\n\u001b[1;37m             ^\u001b[0m\n\u001b[1;31mSyntaxError\u001b[0m\u001b[1;31m:\u001b[0m invalid syntax\n"
     ]
    }
   ],
   "source": [
    "n=input(\"Enter number\")\n",
    "n=int(n)\n",
    "\n",
    "if n>10:\n",
    "    print(n, is \"Even Number\")\n",
    "else n>10:\n",
    "    print(n, is \"Uneven number\")\n",
    "    "
   ]
  },
  {
   "cell_type": "markdown",
   "id": "5504eb84",
   "metadata": {},
   "source": [
    "Write a python code to check whether the entered number is an even number or an odd number using the if-else statement. [Hint: n%2=0 for all even numbers and n%2=1 for all odd numbers, read number using input () function, use if-else statement]"
   ]
  },
  {
   "cell_type": "code",
   "execution_count": 3,
   "id": "a175e95e",
   "metadata": {},
   "outputs": [
    {
     "ename": "SyntaxError",
     "evalue": "invalid syntax (2926295148.py, line 4)",
     "output_type": "error",
     "traceback": [
      "\u001b[1;36m  Input \u001b[1;32mIn [3]\u001b[1;36m\u001b[0m\n\u001b[1;33m    if n%2=0:\u001b[0m\n\u001b[1;37m          ^\u001b[0m\n\u001b[1;31mSyntaxError\u001b[0m\u001b[1;31m:\u001b[0m invalid syntax\n"
     ]
    }
   ],
   "source": [
    "n=input(\"Enter number\")\n",
    "n=int(n)\n",
    "\n",
    "if n%2=0:\n",
    "    print(n, is \"Even number\")\n",
    "else n%2=0:\n",
    "    print(n, is \"uneven number\")"
   ]
  },
  {
   "cell_type": "markdown",
   "id": "fb319eb0",
   "metadata": {},
   "source": [
    "Write a python code to read three angles of a triangle and check whether it is valid or not using the if statement. [Hint: Read 3 angles of triangle a1, a2 and a3. For valid triangle, sum of 3 angles of the triangle is equal to 180 and the angle should not be negative and zero.] For example, 1: a1=60, a2=70 and a3=50, where a1+a2+a3=180, a1>0, a2>0 and a3>0. So, the triangle is VALID. For example, 2: a1=100, a2=40 and a3=70, where a1+a2+a3=210 which means a1+a2+a3≠180 , a1>0, a2>0 and a3>0. So, the triangle is NOT VALID. For example, 3: a1=180, a2=0 and a3=0, where a1+a2+a3=180, a1>0, a2=0 and a3=0. So, the triangle is NOT VALID because a2 and a3 are zero."
   ]
  },
  {
   "cell_type": "code",
   "execution_count": null,
   "id": "d26993f6",
   "metadata": {},
   "outputs": [],
   "source": [
    "a=input(\"Enter side 1\")\n",
    "b=input(\"Enter side 2\")\n",
    "c=input(\"Enter side 3\")\n",
    "\n",
    "a=int(a)\n",
    "b=int(b)\n",
    "c=int(c)\n",
    "\n",
    "s=(a+b+c)/2\n",
    "print(s)\n",
    "\n",
    "area=(s*(s-a)*(s-b)*(s-c))**0.5\n",
    "\n",
    "print(\"Area of traingle is\",area)"
   ]
  },
  {
   "cell_type": "markdown",
   "id": "512cbc9a",
   "metadata": {},
   "source": [
    "Write a python code to read three angles of a triangle and check whether it is valid or not using an if-else statement. [Hint: Read 3 angles of triangle a1, a2 and a3. For valid triangle, sum of 3 the angle of the triangle is equal to 180 and the angle should not be negative and zero.]"
   ]
  },
  {
   "cell_type": "code",
   "execution_count": null,
   "id": "becddc1b",
   "metadata": {},
   "outputs": [],
   "source": [
    "a=input(\"Enter side 1\")\n",
    "b=input(\"Enter side 2\")\n",
    "c=input(\"Enter side 3\")\n",
    "\n",
    "a=int(a)\n",
    "b=int(b)\n",
    "c=int(c)\n",
    "\n",
    "s=(a+b+c)/2\n",
    "print(s)\n",
    "\n",
    "area=(s*(s-a)*(s-b)*(s-c))**0.5\n",
    "\n",
    "print(\"Area of traingle is\",area)"
   ]
  },
  {
   "cell_type": "code",
   "execution_count": null,
   "id": "5d58ea3f",
   "metadata": {},
   "outputs": [],
   "source": []
  }
 ],
 "metadata": {
  "kernelspec": {
   "display_name": "Python 3 (ipykernel)",
   "language": "python",
   "name": "python3"
  },
  "language_info": {
   "codemirror_mode": {
    "name": "ipython",
    "version": 3
   },
   "file_extension": ".py",
   "mimetype": "text/x-python",
   "name": "python",
   "nbconvert_exporter": "python",
   "pygments_lexer": "ipython3",
   "version": "3.9.12"
  }
 },
 "nbformat": 4,
 "nbformat_minor": 5
}
