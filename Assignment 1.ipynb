{
 "cells": [
  {
   "cell_type": "markdown",
   "id": "668ac5f6",
   "metadata": {},
   "source": [
    "# Python Programming Activity 1\n",
    "1. Write a Python code to find the area of circle.\n",
    " (Hint- Input- radius, calculate area of circle using area=3.14*radius*radius\n",
    " formula, Display area)\n",
    "2. Write a Python code to find sum and average of 3 numbers.\n",
    " (Hint- Input three numbers a, b and c, calculate sum=a+b+c, calculate\n",
    " average=sum/3, display sum, display average)\n",
    " "
   ]
  },
  {
   "cell_type": "code",
   "execution_count": 14,
   "id": "70ebeb86",
   "metadata": {},
   "outputs": [
    {
     "name": "stdout",
     "output_type": "stream",
     "text": [
      "Enter Radius12\n"
     ]
    }
   ],
   "source": [
    "radius=input(\"Enter Radius\")\n",
    "radius=int(radius)\n"
   ]
  },
  {
   "cell_type": "code",
   "execution_count": 15,
   "id": "8b381dd4",
   "metadata": {},
   "outputs": [
    {
     "name": "stdout",
     "output_type": "stream",
     "text": [
      "Area of Circle 452.15999999999997\n"
     ]
    }
   ],
   "source": [
    "area=3.14*radius*radius\n",
    "print (\"Area of Circle\" ,area)"
   ]
  },
  {
   "cell_type": "code",
   "execution_count": null,
   "id": "7b701ad7",
   "metadata": {},
   "outputs": [],
   "source": []
  },
  {
   "cell_type": "code",
   "execution_count": null,
   "id": "1c7a081b",
   "metadata": {},
   "outputs": [],
   "source": []
  },
  {
   "cell_type": "code",
   "execution_count": 9,
   "id": "6e9a7fba",
   "metadata": {},
   "outputs": [
    {
     "name": "stdout",
     "output_type": "stream",
     "text": [
      "Enter value13\n",
      "Enter value12\n",
      "Enter value15\n"
     ]
    }
   ],
   "source": [
    "a=input(\"Enter value\")\n",
    "b=input(\"Enter value\")\n",
    "c=input(\"Enter value\")"
   ]
  },
  {
   "cell_type": "code",
   "execution_count": 10,
   "id": "110c59db",
   "metadata": {},
   "outputs": [],
   "source": [
    "a=int(a)\n",
    "b=int(b)\n",
    "c=int(c)"
   ]
  },
  {
   "cell_type": "code",
   "execution_count": 12,
   "id": "e2516195",
   "metadata": {},
   "outputs": [
    {
     "name": "stdout",
     "output_type": "stream",
     "text": [
      "SUM 40\n"
     ]
    }
   ],
   "source": [
    "sum=a+b+c\n",
    "print (\"SUM\" ,sum)"
   ]
  },
  {
   "cell_type": "code",
   "execution_count": 13,
   "id": "ec21b7c9",
   "metadata": {},
   "outputs": [
    {
     "name": "stdout",
     "output_type": "stream",
     "text": [
      "Average 13.333333333333334\n"
     ]
    }
   ],
   "source": [
    "avg=sum/3\n",
    "print (\"Average\" ,avg)"
   ]
  },
  {
   "cell_type": "code",
   "execution_count": null,
   "id": "bdf57625",
   "metadata": {},
   "outputs": [],
   "source": []
  },
  {
   "cell_type": "code",
   "execution_count": null,
   "id": "980a70b9",
   "metadata": {},
   "outputs": [],
   "source": []
  },
  {
   "cell_type": "code",
   "execution_count": null,
   "id": "b61f8ee8",
   "metadata": {},
   "outputs": [],
   "source": []
  },
  {
   "cell_type": "code",
   "execution_count": null,
   "id": "dcdc0e79",
   "metadata": {},
   "outputs": [],
   "source": []
  },
  {
   "cell_type": "code",
   "execution_count": null,
   "id": "062bb3a5",
   "metadata": {},
   "outputs": [],
   "source": []
  }
 ],
 "metadata": {
  "kernelspec": {
   "display_name": "Python 3 (ipykernel)",
   "language": "python",
   "name": "python3"
  },
  "language_info": {
   "codemirror_mode": {
    "name": "ipython",
    "version": 3
   },
   "file_extension": ".py",
   "mimetype": "text/x-python",
   "name": "python",
   "nbconvert_exporter": "python",
   "pygments_lexer": "ipython3",
   "version": "3.9.12"
  }
 },
 "nbformat": 4,
 "nbformat_minor": 5
}
